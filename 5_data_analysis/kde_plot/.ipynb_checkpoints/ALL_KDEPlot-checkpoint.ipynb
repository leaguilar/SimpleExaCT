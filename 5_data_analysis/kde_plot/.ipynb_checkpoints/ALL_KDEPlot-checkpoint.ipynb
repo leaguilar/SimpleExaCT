{
    "cells": [
        {
            "cell_type": "code",
            "execution_count": 0,
            "metadata": {},
            "outputs": [],
            "source": [
                "import numpy as np\n",
                "from scipy import stats\n",
                "from mayavi import mlab\n",
                "import multiprocessing\n",
                "import os\n",
                "import pandas as pd\n",
                "from parallel_function import KDE\n",
                "import time\n",
                "import pickle\n",
                "import json\n",
                "import pandas as pd\n",
                "from sklearn.neighbors import KernelDensity"
            ]
        },
        {
            "cell_type": "code",
            "execution_count": 0,
            "metadata": {},
            "outputs": [],
            "source": [
                "xmin=0\n",
                "xmax=35\n",
                "ymin=-1.5\n",
                "ymax=35\n",
                "zmin=0\n",
                "zmax=-35\n",
                "ex=[xmin,xmax,ymin,ymax,zmin,zmax]"
            ]
        },
        {
            "cell_type": "code",
            "execution_count": 0,
            "metadata": {},
            "outputs": [],
            "source": [
                "def get_box(xmin,xmax,ymin,ymax,zmin,zmax):\n",
                "    points=np.array([[xmin,ymin,zmin],#0\n",
                "                     [xmax,ymin,zmin],#1\n",
                "                     [xmax,ymin,zmax],#2\n",
                "                     [xmin,ymin,zmax],#3\n",
                "                     [xmin,ymax,zmin],#4\n",
                "                     [xmax,ymax,zmin],#5\n",
                "                     [xmax,ymax,zmax],#6\n",
                "                     [xmin,ymax,zmax] #7                   \n",
                "                    ])\n",
                "    connections=[\n",
                "        (0,1),#0\n",
                "        (1,2),#1\n",
                "        (2,3),#2\n",
                "        (3,0),#3\n",
                "        (4,5),#4\n",
                "        (5,6),#5\n",
                "        (6,7),#6\n",
                "        (7,4),#7\n",
                "        (0,4),#8\n",
                "        (1,5),#9\n",
                "        (2,6),#10\n",
                "        (3,7),#11\n",
                "    ]\n",
                "    return points[:,0],points[:,1],points[:,2],connections"
            ]
        },
        {
            "cell_type": "code",
            "execution_count": 0,
            "metadata": {},
            "outputs": [],
            "source": [
                "def get_level(xmin,xmax,zmin,zmax,y):\n",
                "    points=np.array([[xmax,y,zmax],\n",
                "                     [xmin,y,zmax],#0\n",
                "                     [xmin,y,zmin],#1\n",
                "                     #2                 \n",
                "                    ])\n",
                "    connections=[\n",
                "        (0,1),#0\n",
                "        (1,2),#1\n",
                "    ]\n",
                "    return points[:,0],points[:,1],points[:,2],connections"
            ]
        },
        {
            "cell_type": "code",
            "execution_count": 0,
            "metadata": {},
            "outputs": [],
            "source": [
                "def getKDEonGrid(df):\n",
                "    print(\"Extracting Data\")\n",
                "    start_time = time.time()\n",
                "    x = df['x'].values\n",
                "    y = df['y'].values\n",
                "    z = df['z'].values\n",
                "    xyz = np.vstack([x,y,z])\n",
                "    # Evaluate kde on a grid\n",
                "    xmink, ymink, zmink = x.min(), y.min(), z.min()\n",
                "    xmaxk, ymaxk, zmaxk = x.max(), y.max(), z.max()\n",
                "    xg, yg, zg = np.mgrid[xmink:xmaxk:30j, ymink:ymaxk:30j, zmink:zmaxk:30j]\n",
                "    coords = np.vstack([item.ravel() for item in [xg, yg, zg]])\n",
                "    #density=mKDE(xyz,coords,xg.shape)\n",
                "    density=mKDE(xyz,coords,xg.shape)\n",
                "    elapsed_time = time.time() - start_time\n",
                "    print(\"Extracting Data Took \",elapsed_time,\" seconds\")\n",
                "    return xg, yg, zg,density"
            ]
        },
        {
            "cell_type": "code",
            "execution_count": 0,
            "metadata": {},
            "outputs": [],
            "source": [
                "# Multiprocessing\n",
                "def mKDE(xyz,coords,shape):\n",
                "    print(\"Calculating KDE\")\n",
                "    mykde=KDE(xyz)\n",
                "    cores = multiprocessing.cpu_count()\n",
                "    print(\"Running in \",cores,\" cores\")\n",
                "    pool = multiprocessing.Pool(processes=cores)\n",
                "    results = pool.map(mykde.calc_kde, np.array_split(coords.T, cores))\n",
                "    densityg = np.concatenate(results).reshape(shape)\n",
                "    pool.close()\n",
                "    pool.join()\n",
                "    return densityg"
            ]
        },
        {
            "cell_type": "code",
            "execution_count": 0,
            "metadata": {},
            "outputs": [],
            "source": [
                "# SingleCore\n",
                "def sKDE(xyz,coords,shape):\n",
                "    print(\"Calculating KDE\")\n",
                "    print(xyz.shape)\n",
                "    print(coords.shape)\n",
                "    print(shape)\n",
                "    kde = stats.gaussian_kde(xyz)\n",
                "    densityg = kde(coords).reshape(shape)\n",
                "    return densityg"
            ]
        },
        {
            "cell_type": "code",
            "execution_count": 0,
            "metadata": {},
            "outputs": [],
            "source": [
                "def sciKDE(xyz, coords,shape, bandwidth=0.2, **kwargs):\n",
                "    \"\"\"Kernel Density Estimation with Scikit-learn\"\"\"\n",
                "    kde_skl = KernelDensity(bandwidth=bandwidth, **kwargs)\n",
                "    kde_skl.fit(xyz[:, np.newaxis])\n",
                "    # score_samples() returns the log-likelihood of the samples\n",
                "    log_pdf = kde_skl.score_samples(coords[:, np.newaxis])\n",
                "    return np.exp(log_pdf).reshape(shape)"
            ]
        },
        {
            "cell_type": "code",
            "execution_count": 0,
            "metadata": {},
            "outputs": [],
            "source": [
                "def get_connections(df):\n",
                "    task=None\n",
                "    entry_num=None\n",
                "    connections = list()\n",
                "    \n",
                "    for idx,(rid,row) in enumerate(df.iterrows()):\n",
                "        if row['task']==task and row['entry_num']==entry_num:\n",
                "            connections.append((idx,idx-1))\n",
                "        else:\n",
                "            task=row['task']\n",
                "            entry_num=row['entry_num']\n",
                "    return connections"
            ]
        },
        {
            "cell_type": "code",
            "execution_count": 0,
            "metadata": {},
            "outputs": [],
            "source": [
                "def AddPaths(tfigure,x,y,z,connections,color,opacity):\n",
                "    tfigure.scene.disable_render = True\n",
                "    points = mlab.points3d(x, y, z, figure=tfigure, scale_mode='none', scale_factor=0.07)\n",
                "    mask = points.glyph.mask_points\n",
                "    mask.maximum_number_of_points = 0 #x.size\n",
                "    mask.on_ratio = 1\n",
                "    points.glyph.mask_input_points = True\n",
                "    tfigure.scene.disable_render = False     \n",
                "    connections = np.array(connections)\n",
                "    points.mlab_source.dataset.lines = connections\n",
                "    points.mlab_source.reset()\n",
                "    mlab.pipeline.surface(points, color=color,\n",
                "                                  opacity=opacity,\n",
                "                                  representation='wireframe',\n",
                "                                  line_width=4,\n",
                "                                  name='Connections',\n",
                "                                  figure=tfigure\n",
                "                         )"
            ]
        },
        {
            "cell_type": "code",
            "execution_count": 0,
            "metadata": {
                "scrolled": true
            },
            "outputs": [],
            "source": [
                "def MakePlot(xi, yi, zi, density,out_fname,interactive=False):\n",
                "    print(\"Making plot\")\n",
                "    start_time = time.time()\n",
                "    # Black, Purple,Lime,teal, gray, yellow\n",
                "    task_colors=[(0,0,0),(128,0,128),(0,255,0),(0,128,128),(128,128,128),(255,255,0)]\n",
                "    \n",
                "    # Plot scatter with mayavi\n",
                "    tfigure = mlab.figure('DensityPlot', size=(1000,1000), bgcolor=(1, 1, 1))\n",
                "\n",
                "    grid = mlab.pipeline.scalar_field(xi, yi, zi, density,figure=tfigure)\n",
                "    mind = density.min()\n",
                "    maxd=density.max()\n",
                "\n",
                "    #Add Box\n",
                "    color=(0,0,0)\n",
                "    opacity=0.1\n",
                "    xb,yb,zb,connectionsb=get_box(xmin,xmax,ymin,ymax,zmin,zmax)\n",
                "    AddPaths(tfigure,xb,yb,zb,connectionsb,color,opacity)\n",
                "    \n",
                "    #Add Levels\n",
                "    yl=0.3 #L1\n",
                "    xb,yb,zb,connectionsb=get_level(xmin,xmax,zmin,zmax,yl)\n",
                "    AddPaths(tfigure,xb,yb,zb,connectionsb,color,opacity)\n",
                "    yl=5.5 #L2\n",
                "    xb,yb,zb,connectionsb=get_level(xmin,xmax,zmin,zmax,yl)\n",
                "    AddPaths(tfigure,xb,yb,zb,connectionsb,color,opacity)\n",
                "    yl=16.8 #L3\n",
                "    xb,yb,zb,connectionsb=get_level(xmin,xmax,zmin,zmax,yl)\n",
                "    AddPaths(tfigure,xb,yb,zb,connectionsb,color,opacity)\n",
                "    yl=22.5 #L4\n",
                "    xb,yb,zb,connectionsb=get_level(xmin,xmax,zmin,zmax,yl)\n",
                "    AddPaths(tfigure,xb,yb,zb,connectionsb,color,opacity)\n",
                "    yl=26 #L5\n",
                "    xb,yb,zb,connectionsb=get_level(xmin,xmax,zmin,zmax,yl)\n",
                "    AddPaths(tfigure,xb,yb,zb,connectionsb,color,opacity)\n",
                "\n",
                "\n",
                "    opacity=1.0\n",
                "    # Add All paths per Task\n",
                "\n",
                "    dfs = dict(tuple(df.groupby('task')))\n",
                "    for num,(key, task_df) in enumerate(dfs.items()):\n",
                "        #color = tuple(ti/255 for ti in task_colors[num])\n",
                "        color=(0,0,0)\n",
                "        connections=get_connections(task_df)\n",
                "        AddPaths(tfigure,task_df['x'].values,task_df['y'].values,task_df['z'].values,connections,color,0.2)\n",
                "\n",
                "    # Add paths of one task\n",
                "    #task_num=1\n",
                "    #task_df=df[df['task']==task_num]\n",
                "    #color = tuple(ti/255 for ti in task_colors[task_num])\n",
                "    #connections=get_connections(task_df)\n",
                "    #AddPaths(tfigure,task_df['x'].values,task_df['y'].values,task_df['z'].values,connections,color,opacity)\n",
                "\n",
                "\n",
                "    vol=mlab.pipeline.volume(grid, vmin=mind, vmax=mind + .5*(maxd-mind),figure=tfigure)\n",
                "    #mlab.colorbar(object=vol, title=None, orientation='vertical', nb_labels=None, nb_colors=None, label_fmt=None)\n",
                "    #mlab.outline(extent=ex,figure=tfigure,color=(0,0,0))\n",
                "\n",
                "    #See other views\n",
                "    #mlab.axes(color=(0,0,0))\n",
                "    #for j in range(0,360,45):\n",
                "    #    for i in range(0,360,45):\n",
                "    #        for k in range(0,360,45):\n",
                "    #            print(\"#\",i,j,k)\n",
                "    #            mlab.view(azimuth=i, elevation=j,roll=k, focalpoint=[(xmax-xmin)*0.5,(ymax-ymin)*0.5,(zmax-zmin)*0.5],distance=150.0,reset_roll=True)\n",
                "    #            mlab.savefig(filename='Azimuth_'+str(i)+'_Elevation'+str(j)+'_Roll'+str(k)+'.png')#\n",
                "\n",
                "\n",
                "    mlab.view(azimuth=45, elevation=45,roll=0, focalpoint=[(xmax-xmin)*0.5,(ymax-ymin)*0.5,(zmax-zmin)*0.5],distance=125.0,reset_roll=True,figure=tfigure)\n",
                "    tfigure.scene.render()\n",
                "    if interactive:\n",
                "        mlab.gcf().scene.parallel_projection = True\n",
                "        \n",
                "        tfigure.scene.render()\n",
                "        mlab.draw()\n",
                "        mlab.move(forward=0.001)\n",
                "        mlab.show()\n",
                "        #mlab.savefig(filename=out_fname+'.png',figure=tfigure,magnification=1)\n",
                "        mlab.clf(figure=tfigure)\n",
                "        mlab.close(all=True)\n",
                "    else:\n",
                "        #mlab.options.offscreen = True\n",
                "        tfigure.scene.off_screen_rendering = True\n",
                "        mlab.move(forward=0.001)\n",
                "        mlab.draw(figure=tfigure)\n",
                "        mlab.move(forward=0.001)\n",
                "        mlab.savefig(filename=\"BWPATH_\"+out_fname+\".png\",figure=tfigure, size=(1000,1000))\n",
                "        mlab.clf(figure=tfigure)\n",
                "        mlab.close(all=True)\n",
                "    elapsed_time = time.time() - start_time\n",
                "    print(\"Making Plot Took \",elapsed_time,\" seconds\")"
            ]
        },
        {
            "cell_type": "code",
            "execution_count": 0,
            "metadata": {},
            "outputs": [],
            "source": [
                "#MakePlot(xg, yg, zg, densityg,fname,True)"
            ]
        },
        {
            "cell_type": "code",
            "execution_count": 0,
            "metadata": {},
            "outputs": [],
            "source": [
                "fnames_sim=[\"SIM_merged_data_AstarBASE\",\"SIM_merged_data_BASE\",\"SIM_merged_data_GLASS\",\"SIM_merged_data_ATRIA\"]\n",
                "fnames_exp=[\"VR_merged_data_BASE\",\"VR_merged_data_GLASS\",\"VR_merged_data_ATRIA\"]\n",
                "fnames=fnames_sim+fnames_exp"
            ]
        },
        {
            "cell_type": "code",
            "execution_count": 0,
            "metadata": {},
            "outputs": [],
            "source": [
                "for fname in fnames:\n",
                "    print(fname)\n",
                "    df=pd.read_csv(fname+'.csv')\n",
                "    if os.path.isfile(fname+'.pickle'):\n",
                "        print (\"Previous KDE files exist, loading them\")\n",
                "        with open(fname+'.pickle', 'rb') as handle:\n",
                "            b = pickle.load(handle)\n",
                "        xg, yg, zg, densityg=b\n",
                "    else:\n",
                "        xg, yg, zg, densityg=getKDEonGrid(df)\n",
                "        a=(xg, yg, zg, densityg)\n",
                "        with open(fname+'.pickle', 'wb') as handle:\n",
                "            pickle.dump(a, handle, protocol=pickle.HIGHEST_PROTOCOL)\n",
                "            \n",
                "    MakePlot(xg, yg, zg, densityg,fname,False)"
            ]
        },
        {
            "cell_type": "code",
            "execution_count": 0,
            "metadata": {},
            "outputs": [],
            "source": [
                "df.head(2)"
            ]
        },
        {
            "cell_type": "code",
            "execution_count": 0,
            "metadata": {},
            "outputs": [],
            "source": [
                "MakePlot(xg, yg, zg, densityg,fname,True)"
            ]
        },
        {
            "cell_type": "code",
            "execution_count": 0,
            "metadata": {},
            "outputs": [],
            "source": []
        }
    ],
    "metadata": {
        "kernelspec": {
            "display_name": "data_analysis",
            "language": "python",
            "name": "data_analysis"
        },
        "language_info": {
            "codemirror_mode": {
                "name": "ipython",
                "version": 3
            },
            "file_extension": ".py",
            "mimetype": "text/x-python",
            "name": "python",
            "nbconvert_exporter": "python",
            "pygments_lexer": "ipython3",
            "version": "3.8.5"
        }
    },
    "nbformat": 4,
    "nbformat_minor": 2
}