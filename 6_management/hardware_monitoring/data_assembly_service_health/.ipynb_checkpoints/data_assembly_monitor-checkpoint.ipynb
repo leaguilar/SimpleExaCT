{
 "cells": [
  {
   "cell_type": "code",
   "execution_count": 1,
   "id": "professional-boating",
   "metadata": {},
   "outputs": [
    {
     "name": "stdout",
     "output_type": "stream",
     "text": [
      "pygame 2.0.1 (SDL 2.0.14, Python 3.8.8)\n",
      "Hello from the pygame community. https://www.pygame.org/contribute.html\n"
     ]
    }
   ],
   "source": [
    "import requests\n",
    "import time\n",
    "import pygame\n",
    "import os"
   ]
  },
  {
   "cell_type": "code",
   "execution_count": 2,
   "id": "outside-freeze",
   "metadata": {},
   "outputs": [],
   "source": [
    "SERVER=os.environ['DATA_ASSEMBLY_LOCATION']\n",
    "message = {'PING': 'FromServerWatch'}"
   ]
  },
  {
   "cell_type": "code",
   "execution_count": 3,
   "id": "married-stations",
   "metadata": {},
   "outputs": [
    {
     "name": "stdout",
     "output_type": "stream",
     "text": [
      "http://54.209.47.55:8080\n"
     ]
    }
   ],
   "source": [
    "print(SERVER)"
   ]
  },
  {
   "cell_type": "code",
   "execution_count": 4,
   "id": "grateful-basin",
   "metadata": {},
   "outputs": [
    {
     "ename": "error",
     "evalue": "ALSA: Couldn't open audio device: No such file or directory",
     "output_type": "error",
     "traceback": [
      "\u001b[0;31m---------------------------------------------------------------------------\u001b[0m",
      "\u001b[0;31merror\u001b[0m                                     Traceback (most recent call last)",
      "\u001b[0;32m<ipython-input-4-c4c145e59b24>\u001b[0m in \u001b[0;36m<module>\u001b[0;34m\u001b[0m\n\u001b[0;32m----> 1\u001b[0;31m \u001b[0mpygame\u001b[0m\u001b[0;34m.\u001b[0m\u001b[0mmixer\u001b[0m\u001b[0;34m.\u001b[0m\u001b[0minit\u001b[0m\u001b[0;34m(\u001b[0m\u001b[0;34m)\u001b[0m\u001b[0;34m\u001b[0m\u001b[0;34m\u001b[0m\u001b[0m\n\u001b[0m\u001b[1;32m      2\u001b[0m \u001b[0msound\u001b[0m \u001b[0;34m=\u001b[0m \u001b[0mpygame\u001b[0m\u001b[0;34m.\u001b[0m\u001b[0mmixer\u001b[0m\u001b[0;34m.\u001b[0m\u001b[0mSound\u001b[0m\u001b[0;34m(\u001b[0m\u001b[0;34m'alarm.ogg'\u001b[0m\u001b[0;34m)\u001b[0m\u001b[0;34m\u001b[0m\u001b[0;34m\u001b[0m\u001b[0m\n\u001b[1;32m      3\u001b[0m \u001b[0;34m\u001b[0m\u001b[0m\n\u001b[1;32m      4\u001b[0m \u001b[0;32mdef\u001b[0m \u001b[0malarm\u001b[0m\u001b[0;34m(\u001b[0m\u001b[0;34m)\u001b[0m\u001b[0;34m:\u001b[0m\u001b[0;34m\u001b[0m\u001b[0;34m\u001b[0m\u001b[0m\n\u001b[1;32m      5\u001b[0m     \u001b[0;32mwhile\u001b[0m \u001b[0;32mTrue\u001b[0m\u001b[0;34m:\u001b[0m\u001b[0;34m\u001b[0m\u001b[0;34m\u001b[0m\u001b[0m\n",
      "\u001b[0;31merror\u001b[0m: ALSA: Couldn't open audio device: No such file or directory"
     ]
    }
   ],
   "source": [
    "pygame.mixer.init()\n",
    "sound = pygame.mixer.Sound('alarm.ogg')\n",
    "\n",
    "def alarm():\n",
    "    while True:\n",
    "        sound.play()\n",
    "        time.sleep(10)\n",
    "\n",
    "if SERVER:\n",
    "    print(\"Starting to monitor the data assembly service\")\n",
    "    while True:   \n",
    "        timeStr = time.ctime()\n",
    "        try:\n",
    "            x = requests.post(SERVER, json = message,timeout=3)\n",
    "            if x.ok:\n",
    "                print(\"{} SERVER ONLINE\".format(timeStr))\n",
    "            else:\n",
    "                print(\"\\nSERVER OFFLINE\\n\\nPRESS CTL+C TO STOP ALARM \")\n",
    "                alarm()\n",
    "        except Exception as e:\n",
    "            print(e)\n",
    "            print(\"\\nSERVER OFFLINE\\n\\nPRESS CTL+C TO STOP ALARM \")\n",
    "            alarm()  \n",
    "        time.sleep(60)"
   ]
  },
  {
   "cell_type": "code",
   "execution_count": null,
   "id": "magnetic-anderson",
   "metadata": {},
   "outputs": [],
   "source": []
  }
 ],
 "metadata": {
  "kernelspec": {
   "display_name": "Python 3",
   "language": "python",
   "name": "python3"
  },
  "language_info": {
   "codemirror_mode": {
    "name": "ipython",
    "version": 3
   },
   "file_extension": ".py",
   "mimetype": "text/x-python",
   "name": "python",
   "nbconvert_exporter": "python",
   "pygments_lexer": "ipython3",
   "version": "3.8.8"
  }
 },
 "nbformat": 4,
 "nbformat_minor": 5
}
