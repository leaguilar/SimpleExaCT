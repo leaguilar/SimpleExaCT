{
 "cells": [
  {
   "cell_type": "code",
   "execution_count": 3,
   "metadata": {},
   "outputs": [],
   "source": [
    "import boto3\n",
    "import xmltodict\n",
    "import json\n",
    "import datetime\n",
    "import sys\n",
    "import os\n",
    "import pandas as pd\n",
    "import pprint\n",
    "import time"
   ]
  },
  {
   "cell_type": "code",
   "execution_count": 4,
   "metadata": {},
   "outputs": [],
   "source": [
    "pp = pprint.PrettyPrinter(indent=4)"
   ]
  },
  {
   "cell_type": "code",
   "execution_count": 5,
   "metadata": {},
   "outputs": [],
   "source": [
    "AWS_SECRET = os.environ['AWS_SECRET']\n",
    "AWS_REGION = os.environ['AWS_REGION']\n",
    "AWS_ACCESS_KEY = os.environ['AWS_ACCESS_KEY']\n",
    "DATA_COLLECTION_LOCATION=os.environ['DATA_COLLECTION_LOCATION']"
   ]
  },
  {
   "cell_type": "code",
   "execution_count": 6,
   "metadata": {},
   "outputs": [],
   "source": [
    "EXPERIMENT_NAME=\"SimpleExaCT_PoC\""
   ]
  },
  {
   "cell_type": "markdown",
   "metadata": {},
   "source": [
    "## Authenticate"
   ]
  },
  {
   "cell_type": "code",
   "execution_count": 7,
   "metadata": {},
   "outputs": [],
   "source": [
    "create_hits_in_live = False\n",
    "environments = {\n",
    "        \"live\": {\n",
    "            \"endpoint\": \"https://mturk-requester.us-east-1.amazonaws.com\",\n",
    "            \"preview\": \"https://www.mturk.com/mturk/preview\",\n",
    "            \"manage\": \"https://requester.mturk.com/mturk/manageHITs\",\n",
    "            \"reward\": \"0.00\"\n",
    "        },\n",
    "        \"sandbox\": {\n",
    "            \"endpoint\": \"https://mturk-requester-sandbox.us-east-1.amazonaws.com\",\n",
    "            \"preview\": \"https://workersandbox.mturk.com/mturk/preview\",\n",
    "            \"manage\": \"https://requestersandbox.mturk.com/mturk/manageHITs\",\n",
    "            \"reward\": \"0.11\"\n",
    "        },\n",
    "}\n",
    "mturk_environment = environments[\"live\"] if create_hits_in_live else environments[\"sandbox\"]"
   ]
  },
  {
   "cell_type": "code",
   "execution_count": 8,
   "metadata": {},
   "outputs": [],
   "source": [
    "session = boto3 #.Session(profile_name='mturk')\n",
    "mturk = session.client(\n",
    "    service_name='mturk',\n",
    "    region_name=AWS_REGION,\n",
    "    aws_access_key_id = AWS_ACCESS_KEY, \n",
    "    aws_secret_access_key = AWS_SECRET,\n",
    "    endpoint_url=mturk_environment['endpoint'],\n",
    ")"
   ]
  },
  {
   "cell_type": "code",
   "execution_count": 9,
   "metadata": {},
   "outputs": [
    {
     "name": "stdout",
     "output_type": "stream",
     "text": [
      "I have $10000.00 in my account\n"
     ]
    }
   ],
   "source": [
    "print(\"I have $\" + mturk.get_account_balance()['AvailableBalance'] + \" in my account\")"
   ]
  },
  {
   "cell_type": "markdown",
   "metadata": {},
   "source": [
    "### Create HITs"
   ]
  },
  {
   "cell_type": "code",
   "execution_count": 10,
   "metadata": {},
   "outputs": [],
   "source": [
    "question_template = open(\"templates/question_template.xml\", \"r\").read()"
   ]
  },
  {
   "cell_type": "code",
   "execution_count": 11,
   "metadata": {},
   "outputs": [],
   "source": [
    "html_layout = open('./templates/HIT2.html', 'r').read()"
   ]
  },
  {
   "cell_type": "code",
   "execution_count": 12,
   "metadata": {},
   "outputs": [],
   "source": [
    "# Example of using qualification to restrict responses to Workers who have had\n",
    "# at least 80% of their assignments approved. See:\n",
    "# http://docs.aws.amazon.com/AWSMechTurk/latest/AWSMturkAPI/ApiReference_QualificationRequirementDataStructureArticle.html#ApiReference_QualificationType-IDs\n",
    "participant_requirements = {\n",
    "    'QualificationTypeId': '000000000000000000L0',\n",
    "    'Comparator': 'GreaterThanOrEqualTo',\n",
    "    'IntegerValues': [80],\n",
    "    'RequiredToPreview': True,\n",
    "}"
   ]
  },
  {
   "cell_type": "code",
   "execution_count": 13,
   "metadata": {},
   "outputs": [],
   "source": [
    "def create_hit(URL,challenge_response,qualifications):\n",
    "    html_with_link=html_layout.replace('EXPERIMENTLINK',URL)\n",
    "    question_assembled=question_template.format(html_with_link)\n",
    "    # Create the HIT\n",
    "    response = mturk.create_hit(\n",
    "        MaxAssignments=1,\n",
    "        # How long the task will be available on MTurk \n",
    "        LifetimeInSeconds=600,\n",
    "        # How long Participants have to complete each item\n",
    "        AssignmentDurationInSeconds=600,\n",
    "        Reward=mturk_environment['reward'],\n",
    "        Title='This is a desktop Virtual Reality experiment',\n",
    "        Keywords='VR, slow, research',\n",
    "        Description='In this experiment you will slowly move through a building and will have to find specific targets.',\n",
    "        Question=question_assembled,\n",
    "        QualificationRequirements=qualifications,\n",
    "    )\n",
    "    # The response included several fields that will be helpful later\n",
    "    hit_type_id = response['HIT']['HITTypeId']\n",
    "    hit_id = response['HIT']['HITId']\n",
    "    print(\"\\nCreated HIT: {} with response {}\".format(hit_id,challenge_response))\n",
    "    print(\"\\nYou can work the HIT here:\")\n",
    "    hit_url=mturk_environment['preview'] + \"?groupId={}\".format(hit_type_id)\n",
    "    print(hit_url)\n",
    "    return hit_id, hit_url"
   ]
  },
  {
   "cell_type": "code",
   "execution_count": 14,
   "metadata": {},
   "outputs": [],
   "source": [
    "df=pd.read_csv(\"../../experiment/data/AllCodesNew.csv\")"
   ]
  },
  {
   "cell_type": "code",
   "execution_count": 15,
   "metadata": {},
   "outputs": [],
   "source": [
    "trial_set=df.iloc[0:3]"
   ]
  },
  {
   "cell_type": "code",
   "execution_count": 16,
   "metadata": {},
   "outputs": [
    {
     "data": {
      "text/html": [
       "<div>\n",
       "<style scoped>\n",
       "    .dataframe tbody tr th:only-of-type {\n",
       "        vertical-align: middle;\n",
       "    }\n",
       "\n",
       "    .dataframe tbody tr th {\n",
       "        vertical-align: top;\n",
       "    }\n",
       "\n",
       "    .dataframe thead th {\n",
       "        text-align: right;\n",
       "    }\n",
       "</style>\n",
       "<table border=\"1\" class=\"dataframe\">\n",
       "  <thead>\n",
       "    <tr style=\"text-align: right;\">\n",
       "      <th></th>\n",
       "      <th>Unnamed: 0</th>\n",
       "      <th>Phase</th>\n",
       "      <th>Condition</th>\n",
       "      <th>accessCode</th>\n",
       "      <th>exitCode</th>\n",
       "      <th>Reward</th>\n",
       "      <th>ExpID</th>\n",
       "      <th>Bonus</th>\n",
       "    </tr>\n",
       "  </thead>\n",
       "  <tbody>\n",
       "    <tr>\n",
       "      <th>0</th>\n",
       "      <td>0</td>\n",
       "      <td>E1</td>\n",
       "      <td>1</td>\n",
       "      <td>[ExpID=78b9dc93aa6a4cf074d05d28ed1f1373&amp;group=1]</td>\n",
       "      <td>51c53943</td>\n",
       "      <td>undefined</td>\n",
       "      <td>78b9dc93aa6a4cf074d05d28ed1f1373</td>\n",
       "      <td>NaN</td>\n",
       "    </tr>\n",
       "    <tr>\n",
       "      <th>1</th>\n",
       "      <td>1</td>\n",
       "      <td>E1</td>\n",
       "      <td>1</td>\n",
       "      <td>[ExpID=40186ebc8c2b0ee62a7b7a9e23fae41d&amp;group=1]</td>\n",
       "      <td>8489889e</td>\n",
       "      <td>undefined</td>\n",
       "      <td>40186ebc8c2b0ee62a7b7a9e23fae41d</td>\n",
       "      <td>NaN</td>\n",
       "    </tr>\n",
       "    <tr>\n",
       "      <th>2</th>\n",
       "      <td>2</td>\n",
       "      <td>E1</td>\n",
       "      <td>1</td>\n",
       "      <td>[ExpID=5b764a9f6f1f8659f0c025c9c3aa6a06&amp;group=1]</td>\n",
       "      <td>120aa203</td>\n",
       "      <td>undefined</td>\n",
       "      <td>5b764a9f6f1f8659f0c025c9c3aa6a06</td>\n",
       "      <td>NaN</td>\n",
       "    </tr>\n",
       "  </tbody>\n",
       "</table>\n",
       "</div>"
      ],
      "text/plain": [
       "   Unnamed: 0 Phase  Condition  \\\n",
       "0           0    E1          1   \n",
       "1           1    E1          1   \n",
       "2           2    E1          1   \n",
       "\n",
       "                                         accessCode  exitCode     Reward  \\\n",
       "0  [ExpID=78b9dc93aa6a4cf074d05d28ed1f1373&group=1]  51c53943  undefined   \n",
       "1  [ExpID=40186ebc8c2b0ee62a7b7a9e23fae41d&group=1]  8489889e  undefined   \n",
       "2  [ExpID=5b764a9f6f1f8659f0c025c9c3aa6a06&group=1]  120aa203  undefined   \n",
       "\n",
       "                              ExpID  Bonus  \n",
       "0  78b9dc93aa6a4cf074d05d28ed1f1373    NaN  \n",
       "1  40186ebc8c2b0ee62a7b7a9e23fae41d    NaN  \n",
       "2  5b764a9f6f1f8659f0c025c9c3aa6a06    NaN  "
      ]
     },
     "execution_count": 16,
     "metadata": {},
     "output_type": "execute_result"
    }
   ],
   "source": [
    "trial_set"
   ]
  },
  {
   "cell_type": "code",
   "execution_count": 17,
   "metadata": {},
   "outputs": [
    {
     "name": "stdout",
     "output_type": "stream",
     "text": [
      "{'QualificationType': {'QualificationTypeId': '3BR5SIVR7VUQOEDI0JFGCDU88RBEGQ', 'CreationTime': datetime.datetime(2021, 3, 14, 12, 55, 22, tzinfo=tzlocal()), 'Name': 'Participated in the experiment SimpleExaCT_PoC', 'Description': 'Qualification used to keep track of participation', 'Keywords': 'participation', 'QualificationTypeStatus': 'Active', 'RetryDelayInSeconds': 600, 'IsRequestable': True, 'AutoGranted': True, 'AutoGrantedValue': 1}, 'ResponseMetadata': {'RequestId': '43c9da09-6de2-4466-9a2f-86bfdb185851', 'HTTPStatusCode': 200, 'HTTPHeaders': {'x-amzn-requestid': '43c9da09-6de2-4466-9a2f-86bfdb185851', 'content-type': 'application/x-amz-json-1.1', 'content-length': '378', 'date': 'Sun, 14 Mar 2021 12:55:22 GMT'}, 'RetryAttempts': 0}}\n"
     ]
    }
   ],
   "source": [
    "response = mturk.create_qualification_type(\n",
    "    Name=f'Participated in the experiment {EXPERIMENT_NAME}',\n",
    "    Keywords='participation',\n",
    "    Description='Qualification used to keep track of participation',\n",
    "    QualificationTypeStatus='Active',\n",
    "    RetryDelayInSeconds=600,\n",
    "    AutoGranted=True,\n",
    "    AutoGrantedValue=1\n",
    ")\n",
    "try:\n",
    "    print (json.dumps(response, indent=2))\n",
    "except:\n",
    "    print(response)"
   ]
  },
  {
   "cell_type": "code",
   "execution_count": 18,
   "metadata": {},
   "outputs": [],
   "source": [
    "qual_type=response['QualificationType']['QualificationTypeId']"
   ]
  },
  {
   "cell_type": "code",
   "execution_count": 19,
   "metadata": {},
   "outputs": [],
   "source": [
    "participation_qual={\n",
    "            'QualificationTypeId': qual_type,\n",
    "            'Comparator': 'DoesNotExist', #|'LessThan',|'LessThanOrEqualTo'|'GreaterThan'|'GreaterThanOrEqualTo'|'EqualTo'|'NotEqualTo'|'Exists'|'DoesNotExist'|'In'|'NotIn',\n",
    "            #'IntegerValues': [\n",
    "            #    1,\n",
    "            #],\n",
    "            'ActionsGuarded': 'Accept' #|'PreviewAndAccept'|'DiscoverPreviewAndAccept'\n",
    "        }"
   ]
  },
  {
   "cell_type": "code",
   "execution_count": 20,
   "metadata": {},
   "outputs": [],
   "source": [
    "qualifications_required=[participant_requirements,participation_qual]"
   ]
  },
  {
   "cell_type": "code",
   "execution_count": 21,
   "metadata": {},
   "outputs": [
    {
     "name": "stdout",
     "output_type": "stream",
     "text": [
      "\n",
      "Created HIT: 3LB1BGHFL2W0C0U8T78Z6OGFT12YTZ with response 51c53943\n",
      "\n",
      "You can work the HIT here:\n",
      "https://workersandbox.mturk.com/mturk/preview?groupId=3MY6FNYS863U5KF2USGZH62EPF52BA\n",
      "\n",
      "Created HIT: 3XJOUITW8URR3Y3M2XR5T2DDUSLTQR with response 8489889e\n",
      "\n",
      "You can work the HIT here:\n",
      "https://workersandbox.mturk.com/mturk/preview?groupId=3MY6FNYS863U5KF2USGZH62EPF52BA\n",
      "\n",
      "Created HIT: 32TZXEA1OLKJ594F2H0IKTTD6HD149 with response 120aa203\n",
      "\n",
      "You can work the HIT here:\n",
      "https://workersandbox.mturk.com/mturk/preview?groupId=3MY6FNYS863U5KF2USGZH62EPF52BA\n"
     ]
    }
   ],
   "source": [
    "output = pd.DataFrame()\n",
    "for idx,trial in trial_set.iterrows():\n",
    "    URL=f\"{DATA_COLLECTION_LOCATION}/index.html?ExpID={trial['ExpID']}&group={trial['Condition']}\"\n",
    "    hit_id, hit_url=create_hit(URL,trial['exitCode'],qualifications_required)\n",
    "    results={\"HITId\":hit_id,\"URL\":URL,\"RESP_CHALLENGE\":trial['exitCode'], \"HIT_URL\":hit_url}\n",
    "    output.append(results, ignore_index=True)"
   ]
  },
  {
   "cell_type": "code",
   "execution_count": 50,
   "metadata": {},
   "outputs": [
    {
     "ename": "EndpointConnectionError",
     "evalue": "Could not connect to the endpoint URL: \"https://mturk-requester-sandbox.us-east-1.amazonaws.com/\"",
     "output_type": "error",
     "traceback": [
      "\u001b[0;31m---------------------------------------------------------------------------\u001b[0m",
      "\u001b[0;31mgaierror\u001b[0m                                  Traceback (most recent call last)",
      "\u001b[0;32m/opt/conda/lib/python3.8/site-packages/urllib3/connection.py\u001b[0m in \u001b[0;36m_new_conn\u001b[0;34m(self)\u001b[0m\n\u001b[1;32m    168\u001b[0m         \u001b[0;32mtry\u001b[0m\u001b[0;34m:\u001b[0m\u001b[0;34m\u001b[0m\u001b[0;34m\u001b[0m\u001b[0m\n\u001b[0;32m--> 169\u001b[0;31m             conn = connection.create_connection(\n\u001b[0m\u001b[1;32m    170\u001b[0m                 \u001b[0;34m(\u001b[0m\u001b[0mself\u001b[0m\u001b[0;34m.\u001b[0m\u001b[0m_dns_host\u001b[0m\u001b[0;34m,\u001b[0m \u001b[0mself\u001b[0m\u001b[0;34m.\u001b[0m\u001b[0mport\u001b[0m\u001b[0;34m)\u001b[0m\u001b[0;34m,\u001b[0m \u001b[0mself\u001b[0m\u001b[0;34m.\u001b[0m\u001b[0mtimeout\u001b[0m\u001b[0;34m,\u001b[0m \u001b[0;34m**\u001b[0m\u001b[0mextra_kw\u001b[0m\u001b[0;34m\u001b[0m\u001b[0;34m\u001b[0m\u001b[0m\n",
      "\u001b[0;32m/opt/conda/lib/python3.8/site-packages/urllib3/util/connection.py\u001b[0m in \u001b[0;36mcreate_connection\u001b[0;34m(address, timeout, source_address, socket_options)\u001b[0m\n\u001b[1;32m     72\u001b[0m \u001b[0;34m\u001b[0m\u001b[0m\n\u001b[0;32m---> 73\u001b[0;31m     \u001b[0;32mfor\u001b[0m \u001b[0mres\u001b[0m \u001b[0;32min\u001b[0m \u001b[0msocket\u001b[0m\u001b[0;34m.\u001b[0m\u001b[0mgetaddrinfo\u001b[0m\u001b[0;34m(\u001b[0m\u001b[0mhost\u001b[0m\u001b[0;34m,\u001b[0m \u001b[0mport\u001b[0m\u001b[0;34m,\u001b[0m \u001b[0mfamily\u001b[0m\u001b[0;34m,\u001b[0m \u001b[0msocket\u001b[0m\u001b[0;34m.\u001b[0m\u001b[0mSOCK_STREAM\u001b[0m\u001b[0;34m)\u001b[0m\u001b[0;34m:\u001b[0m\u001b[0;34m\u001b[0m\u001b[0;34m\u001b[0m\u001b[0m\n\u001b[0m\u001b[1;32m     74\u001b[0m         \u001b[0maf\u001b[0m\u001b[0;34m,\u001b[0m \u001b[0msocktype\u001b[0m\u001b[0;34m,\u001b[0m \u001b[0mproto\u001b[0m\u001b[0;34m,\u001b[0m \u001b[0mcanonname\u001b[0m\u001b[0;34m,\u001b[0m \u001b[0msa\u001b[0m \u001b[0;34m=\u001b[0m \u001b[0mres\u001b[0m\u001b[0;34m\u001b[0m\u001b[0;34m\u001b[0m\u001b[0m\n",
      "\u001b[0;32m/opt/conda/lib/python3.8/socket.py\u001b[0m in \u001b[0;36mgetaddrinfo\u001b[0;34m(host, port, family, type, proto, flags)\u001b[0m\n\u001b[1;32m    917\u001b[0m     \u001b[0maddrlist\u001b[0m \u001b[0;34m=\u001b[0m \u001b[0;34m[\u001b[0m\u001b[0;34m]\u001b[0m\u001b[0;34m\u001b[0m\u001b[0;34m\u001b[0m\u001b[0m\n\u001b[0;32m--> 918\u001b[0;31m     \u001b[0;32mfor\u001b[0m \u001b[0mres\u001b[0m \u001b[0;32min\u001b[0m \u001b[0m_socket\u001b[0m\u001b[0;34m.\u001b[0m\u001b[0mgetaddrinfo\u001b[0m\u001b[0;34m(\u001b[0m\u001b[0mhost\u001b[0m\u001b[0;34m,\u001b[0m \u001b[0mport\u001b[0m\u001b[0;34m,\u001b[0m \u001b[0mfamily\u001b[0m\u001b[0;34m,\u001b[0m \u001b[0mtype\u001b[0m\u001b[0;34m,\u001b[0m \u001b[0mproto\u001b[0m\u001b[0;34m,\u001b[0m \u001b[0mflags\u001b[0m\u001b[0;34m)\u001b[0m\u001b[0;34m:\u001b[0m\u001b[0;34m\u001b[0m\u001b[0;34m\u001b[0m\u001b[0m\n\u001b[0m\u001b[1;32m    919\u001b[0m         \u001b[0maf\u001b[0m\u001b[0;34m,\u001b[0m \u001b[0msocktype\u001b[0m\u001b[0;34m,\u001b[0m \u001b[0mproto\u001b[0m\u001b[0;34m,\u001b[0m \u001b[0mcanonname\u001b[0m\u001b[0;34m,\u001b[0m \u001b[0msa\u001b[0m \u001b[0;34m=\u001b[0m \u001b[0mres\u001b[0m\u001b[0;34m\u001b[0m\u001b[0;34m\u001b[0m\u001b[0m\n",
      "\u001b[0;31mgaierror\u001b[0m: [Errno -3] Temporary failure in name resolution",
      "\nDuring handling of the above exception, another exception occurred:\n",
      "\u001b[0;31mNewConnectionError\u001b[0m                        Traceback (most recent call last)",
      "\u001b[0;32m/opt/conda/lib/python3.8/site-packages/botocore/httpsession.py\u001b[0m in \u001b[0;36msend\u001b[0;34m(self, request)\u001b[0m\n\u001b[1;32m    310\u001b[0m             \u001b[0mrequest_target\u001b[0m \u001b[0;34m=\u001b[0m \u001b[0mself\u001b[0m\u001b[0;34m.\u001b[0m\u001b[0m_get_request_target\u001b[0m\u001b[0;34m(\u001b[0m\u001b[0mrequest\u001b[0m\u001b[0;34m.\u001b[0m\u001b[0murl\u001b[0m\u001b[0;34m,\u001b[0m \u001b[0mproxy_url\u001b[0m\u001b[0;34m)\u001b[0m\u001b[0;34m\u001b[0m\u001b[0;34m\u001b[0m\u001b[0m\n\u001b[0;32m--> 311\u001b[0;31m             urllib_response = conn.urlopen(\n\u001b[0m\u001b[1;32m    312\u001b[0m                 \u001b[0mmethod\u001b[0m\u001b[0;34m=\u001b[0m\u001b[0mrequest\u001b[0m\u001b[0;34m.\u001b[0m\u001b[0mmethod\u001b[0m\u001b[0;34m,\u001b[0m\u001b[0;34m\u001b[0m\u001b[0;34m\u001b[0m\u001b[0m\n",
      "\u001b[0;32m/opt/conda/lib/python3.8/site-packages/urllib3/connectionpool.py\u001b[0m in \u001b[0;36murlopen\u001b[0;34m(self, method, url, body, headers, retries, redirect, assert_same_host, timeout, pool_timeout, release_conn, chunked, body_pos, **response_kw)\u001b[0m\n\u001b[1;32m    754\u001b[0m \u001b[0;34m\u001b[0m\u001b[0m\n\u001b[0;32m--> 755\u001b[0;31m             retries = retries.increment(\n\u001b[0m\u001b[1;32m    756\u001b[0m                 \u001b[0mmethod\u001b[0m\u001b[0;34m,\u001b[0m \u001b[0murl\u001b[0m\u001b[0;34m,\u001b[0m \u001b[0merror\u001b[0m\u001b[0;34m=\u001b[0m\u001b[0me\u001b[0m\u001b[0;34m,\u001b[0m \u001b[0m_pool\u001b[0m\u001b[0;34m=\u001b[0m\u001b[0mself\u001b[0m\u001b[0;34m,\u001b[0m \u001b[0m_stacktrace\u001b[0m\u001b[0;34m=\u001b[0m\u001b[0msys\u001b[0m\u001b[0;34m.\u001b[0m\u001b[0mexc_info\u001b[0m\u001b[0;34m(\u001b[0m\u001b[0;34m)\u001b[0m\u001b[0;34m[\u001b[0m\u001b[0;36m2\u001b[0m\u001b[0;34m]\u001b[0m\u001b[0;34m\u001b[0m\u001b[0;34m\u001b[0m\u001b[0m\n",
      "\u001b[0;32m/opt/conda/lib/python3.8/site-packages/urllib3/util/retry.py\u001b[0m in \u001b[0;36mincrement\u001b[0;34m(self, method, url, response, error, _pool, _stacktrace)\u001b[0m\n\u001b[1;32m    505\u001b[0m             \u001b[0;31m# Disabled, indicate to re-raise the error.\u001b[0m\u001b[0;34m\u001b[0m\u001b[0;34m\u001b[0m\u001b[0;34m\u001b[0m\u001b[0m\n\u001b[0;32m--> 506\u001b[0;31m             \u001b[0;32mraise\u001b[0m \u001b[0msix\u001b[0m\u001b[0;34m.\u001b[0m\u001b[0mreraise\u001b[0m\u001b[0;34m(\u001b[0m\u001b[0mtype\u001b[0m\u001b[0;34m(\u001b[0m\u001b[0merror\u001b[0m\u001b[0;34m)\u001b[0m\u001b[0;34m,\u001b[0m \u001b[0merror\u001b[0m\u001b[0;34m,\u001b[0m \u001b[0m_stacktrace\u001b[0m\u001b[0;34m)\u001b[0m\u001b[0;34m\u001b[0m\u001b[0;34m\u001b[0m\u001b[0m\n\u001b[0m\u001b[1;32m    507\u001b[0m \u001b[0;34m\u001b[0m\u001b[0m\n",
      "\u001b[0;32m/opt/conda/lib/python3.8/site-packages/urllib3/packages/six.py\u001b[0m in \u001b[0;36mreraise\u001b[0;34m(tp, value, tb)\u001b[0m\n\u001b[1;32m    734\u001b[0m                 \u001b[0;32mraise\u001b[0m \u001b[0mvalue\u001b[0m\u001b[0;34m.\u001b[0m\u001b[0mwith_traceback\u001b[0m\u001b[0;34m(\u001b[0m\u001b[0mtb\u001b[0m\u001b[0;34m)\u001b[0m\u001b[0;34m\u001b[0m\u001b[0;34m\u001b[0m\u001b[0m\n\u001b[0;32m--> 735\u001b[0;31m             \u001b[0;32mraise\u001b[0m \u001b[0mvalue\u001b[0m\u001b[0;34m\u001b[0m\u001b[0;34m\u001b[0m\u001b[0m\n\u001b[0m\u001b[1;32m    736\u001b[0m         \u001b[0;32mfinally\u001b[0m\u001b[0;34m:\u001b[0m\u001b[0;34m\u001b[0m\u001b[0;34m\u001b[0m\u001b[0m\n",
      "\u001b[0;32m/opt/conda/lib/python3.8/site-packages/urllib3/connectionpool.py\u001b[0m in \u001b[0;36murlopen\u001b[0;34m(self, method, url, body, headers, retries, redirect, assert_same_host, timeout, pool_timeout, release_conn, chunked, body_pos, **response_kw)\u001b[0m\n\u001b[1;32m    698\u001b[0m             \u001b[0;31m# Make the request on the httplib connection object.\u001b[0m\u001b[0;34m\u001b[0m\u001b[0;34m\u001b[0m\u001b[0;34m\u001b[0m\u001b[0m\n\u001b[0;32m--> 699\u001b[0;31m             httplib_response = self._make_request(\n\u001b[0m\u001b[1;32m    700\u001b[0m                 \u001b[0mconn\u001b[0m\u001b[0;34m,\u001b[0m\u001b[0;34m\u001b[0m\u001b[0;34m\u001b[0m\u001b[0m\n",
      "\u001b[0;32m/opt/conda/lib/python3.8/site-packages/urllib3/connectionpool.py\u001b[0m in \u001b[0;36m_make_request\u001b[0;34m(self, conn, method, url, timeout, chunked, **httplib_request_kw)\u001b[0m\n\u001b[1;32m    381\u001b[0m         \u001b[0;32mtry\u001b[0m\u001b[0;34m:\u001b[0m\u001b[0;34m\u001b[0m\u001b[0;34m\u001b[0m\u001b[0m\n\u001b[0;32m--> 382\u001b[0;31m             \u001b[0mself\u001b[0m\u001b[0;34m.\u001b[0m\u001b[0m_validate_conn\u001b[0m\u001b[0;34m(\u001b[0m\u001b[0mconn\u001b[0m\u001b[0;34m)\u001b[0m\u001b[0;34m\u001b[0m\u001b[0;34m\u001b[0m\u001b[0m\n\u001b[0m\u001b[1;32m    383\u001b[0m         \u001b[0;32mexcept\u001b[0m \u001b[0;34m(\u001b[0m\u001b[0mSocketTimeout\u001b[0m\u001b[0;34m,\u001b[0m \u001b[0mBaseSSLError\u001b[0m\u001b[0;34m)\u001b[0m \u001b[0;32mas\u001b[0m \u001b[0me\u001b[0m\u001b[0;34m:\u001b[0m\u001b[0;34m\u001b[0m\u001b[0;34m\u001b[0m\u001b[0m\n",
      "\u001b[0;32m/opt/conda/lib/python3.8/site-packages/urllib3/connectionpool.py\u001b[0m in \u001b[0;36m_validate_conn\u001b[0;34m(self, conn)\u001b[0m\n\u001b[1;32m   1009\u001b[0m         \u001b[0;32mif\u001b[0m \u001b[0;32mnot\u001b[0m \u001b[0mgetattr\u001b[0m\u001b[0;34m(\u001b[0m\u001b[0mconn\u001b[0m\u001b[0;34m,\u001b[0m \u001b[0;34m\"sock\"\u001b[0m\u001b[0;34m,\u001b[0m \u001b[0;32mNone\u001b[0m\u001b[0;34m)\u001b[0m\u001b[0;34m:\u001b[0m  \u001b[0;31m# AppEngine might not have  `.sock`\u001b[0m\u001b[0;34m\u001b[0m\u001b[0;34m\u001b[0m\u001b[0m\n\u001b[0;32m-> 1010\u001b[0;31m             \u001b[0mconn\u001b[0m\u001b[0;34m.\u001b[0m\u001b[0mconnect\u001b[0m\u001b[0;34m(\u001b[0m\u001b[0;34m)\u001b[0m\u001b[0;34m\u001b[0m\u001b[0;34m\u001b[0m\u001b[0m\n\u001b[0m\u001b[1;32m   1011\u001b[0m \u001b[0;34m\u001b[0m\u001b[0m\n",
      "\u001b[0;32m/opt/conda/lib/python3.8/site-packages/urllib3/connection.py\u001b[0m in \u001b[0;36mconnect\u001b[0;34m(self)\u001b[0m\n\u001b[1;32m    352\u001b[0m         \u001b[0;31m# Add certificate verification\u001b[0m\u001b[0;34m\u001b[0m\u001b[0;34m\u001b[0m\u001b[0;34m\u001b[0m\u001b[0m\n\u001b[0;32m--> 353\u001b[0;31m         \u001b[0mconn\u001b[0m \u001b[0;34m=\u001b[0m \u001b[0mself\u001b[0m\u001b[0;34m.\u001b[0m\u001b[0m_new_conn\u001b[0m\u001b[0;34m(\u001b[0m\u001b[0;34m)\u001b[0m\u001b[0;34m\u001b[0m\u001b[0;34m\u001b[0m\u001b[0m\n\u001b[0m\u001b[1;32m    354\u001b[0m         \u001b[0mhostname\u001b[0m \u001b[0;34m=\u001b[0m \u001b[0mself\u001b[0m\u001b[0;34m.\u001b[0m\u001b[0mhost\u001b[0m\u001b[0;34m\u001b[0m\u001b[0;34m\u001b[0m\u001b[0m\n",
      "\u001b[0;32m/opt/conda/lib/python3.8/site-packages/urllib3/connection.py\u001b[0m in \u001b[0;36m_new_conn\u001b[0;34m(self)\u001b[0m\n\u001b[1;32m    180\u001b[0m         \u001b[0;32mexcept\u001b[0m \u001b[0mSocketError\u001b[0m \u001b[0;32mas\u001b[0m \u001b[0me\u001b[0m\u001b[0;34m:\u001b[0m\u001b[0;34m\u001b[0m\u001b[0;34m\u001b[0m\u001b[0m\n\u001b[0;32m--> 181\u001b[0;31m             raise NewConnectionError(\n\u001b[0m\u001b[1;32m    182\u001b[0m                 \u001b[0mself\u001b[0m\u001b[0;34m,\u001b[0m \u001b[0;34m\"Failed to establish a new connection: %s\"\u001b[0m \u001b[0;34m%\u001b[0m \u001b[0me\u001b[0m\u001b[0;34m\u001b[0m\u001b[0;34m\u001b[0m\u001b[0m\n",
      "\u001b[0;31mNewConnectionError\u001b[0m: <botocore.awsrequest.AWSHTTPSConnection object at 0x7f2fa6920f70>: Failed to establish a new connection: [Errno -3] Temporary failure in name resolution",
      "\nDuring handling of the above exception, another exception occurred:\n",
      "\u001b[0;31mEndpointConnectionError\u001b[0m                   Traceback (most recent call last)",
      "\u001b[0;32m<ipython-input-50-6d1328abbc85>\u001b[0m in \u001b[0;36m<module>\u001b[0;34m\u001b[0m\n\u001b[1;32m      1\u001b[0m \u001b[0;32mfor\u001b[0m \u001b[0mitem\u001b[0m \u001b[0;32min\u001b[0m \u001b[0mresults\u001b[0m\u001b[0;34m:\u001b[0m\u001b[0;34m\u001b[0m\u001b[0;34m\u001b[0m\u001b[0m\n\u001b[1;32m      2\u001b[0m     \u001b[0;31m# Get the status of the HIT\u001b[0m\u001b[0;34m\u001b[0m\u001b[0;34m\u001b[0m\u001b[0;34m\u001b[0m\u001b[0m\n\u001b[0;32m----> 3\u001b[0;31m     \u001b[0mhit\u001b[0m \u001b[0;34m=\u001b[0m \u001b[0mmturk\u001b[0m\u001b[0;34m.\u001b[0m\u001b[0mget_hit\u001b[0m\u001b[0;34m(\u001b[0m\u001b[0mHITId\u001b[0m\u001b[0;34m=\u001b[0m\u001b[0mitem\u001b[0m\u001b[0;34m[\u001b[0m\u001b[0;34m'HITId'\u001b[0m\u001b[0;34m]\u001b[0m\u001b[0;34m)\u001b[0m\u001b[0;34m\u001b[0m\u001b[0;34m\u001b[0m\u001b[0m\n\u001b[0m\u001b[1;32m      4\u001b[0m     \u001b[0mitem\u001b[0m\u001b[0;34m[\u001b[0m\u001b[0;34m'status'\u001b[0m\u001b[0;34m]\u001b[0m \u001b[0;34m=\u001b[0m \u001b[0mhit\u001b[0m\u001b[0;34m[\u001b[0m\u001b[0;34m'HIT'\u001b[0m\u001b[0;34m]\u001b[0m\u001b[0;34m[\u001b[0m\u001b[0;34m'HITStatus'\u001b[0m\u001b[0;34m]\u001b[0m\u001b[0;34m\u001b[0m\u001b[0;34m\u001b[0m\u001b[0m\n\u001b[1;32m      5\u001b[0m     \u001b[0;31m# Get a list of the Assignments that have been submitted\u001b[0m\u001b[0;34m\u001b[0m\u001b[0;34m\u001b[0m\u001b[0;34m\u001b[0m\u001b[0m\n",
      "\u001b[0;32m/opt/conda/lib/python3.8/site-packages/botocore/client.py\u001b[0m in \u001b[0;36m_api_call\u001b[0;34m(self, *args, **kwargs)\u001b[0m\n\u001b[1;32m    355\u001b[0m                     \"%s() only accepts keyword arguments.\" % py_operation_name)\n\u001b[1;32m    356\u001b[0m             \u001b[0;31m# The \"self\" in this scope is referring to the BaseClient.\u001b[0m\u001b[0;34m\u001b[0m\u001b[0;34m\u001b[0m\u001b[0;34m\u001b[0m\u001b[0m\n\u001b[0;32m--> 357\u001b[0;31m             \u001b[0;32mreturn\u001b[0m \u001b[0mself\u001b[0m\u001b[0;34m.\u001b[0m\u001b[0m_make_api_call\u001b[0m\u001b[0;34m(\u001b[0m\u001b[0moperation_name\u001b[0m\u001b[0;34m,\u001b[0m \u001b[0mkwargs\u001b[0m\u001b[0;34m)\u001b[0m\u001b[0;34m\u001b[0m\u001b[0;34m\u001b[0m\u001b[0m\n\u001b[0m\u001b[1;32m    358\u001b[0m \u001b[0;34m\u001b[0m\u001b[0m\n\u001b[1;32m    359\u001b[0m         \u001b[0m_api_call\u001b[0m\u001b[0;34m.\u001b[0m\u001b[0m__name__\u001b[0m \u001b[0;34m=\u001b[0m \u001b[0mstr\u001b[0m\u001b[0;34m(\u001b[0m\u001b[0mpy_operation_name\u001b[0m\u001b[0;34m)\u001b[0m\u001b[0;34m\u001b[0m\u001b[0;34m\u001b[0m\u001b[0m\n",
      "\u001b[0;32m/opt/conda/lib/python3.8/site-packages/botocore/client.py\u001b[0m in \u001b[0;36m_make_api_call\u001b[0;34m(self, operation_name, api_params)\u001b[0m\n\u001b[1;32m    660\u001b[0m             \u001b[0mhttp\u001b[0m\u001b[0;34m,\u001b[0m \u001b[0mparsed_response\u001b[0m \u001b[0;34m=\u001b[0m \u001b[0mevent_response\u001b[0m\u001b[0;34m\u001b[0m\u001b[0;34m\u001b[0m\u001b[0m\n\u001b[1;32m    661\u001b[0m         \u001b[0;32melse\u001b[0m\u001b[0;34m:\u001b[0m\u001b[0;34m\u001b[0m\u001b[0;34m\u001b[0m\u001b[0m\n\u001b[0;32m--> 662\u001b[0;31m             http, parsed_response = self._make_request(\n\u001b[0m\u001b[1;32m    663\u001b[0m                 operation_model, request_dict, request_context)\n\u001b[1;32m    664\u001b[0m \u001b[0;34m\u001b[0m\u001b[0m\n",
      "\u001b[0;32m/opt/conda/lib/python3.8/site-packages/botocore/client.py\u001b[0m in \u001b[0;36m_make_request\u001b[0;34m(self, operation_model, request_dict, request_context)\u001b[0m\n\u001b[1;32m    680\u001b[0m     \u001b[0;32mdef\u001b[0m \u001b[0m_make_request\u001b[0m\u001b[0;34m(\u001b[0m\u001b[0mself\u001b[0m\u001b[0;34m,\u001b[0m \u001b[0moperation_model\u001b[0m\u001b[0;34m,\u001b[0m \u001b[0mrequest_dict\u001b[0m\u001b[0;34m,\u001b[0m \u001b[0mrequest_context\u001b[0m\u001b[0;34m)\u001b[0m\u001b[0;34m:\u001b[0m\u001b[0;34m\u001b[0m\u001b[0;34m\u001b[0m\u001b[0m\n\u001b[1;32m    681\u001b[0m         \u001b[0;32mtry\u001b[0m\u001b[0;34m:\u001b[0m\u001b[0;34m\u001b[0m\u001b[0;34m\u001b[0m\u001b[0m\n\u001b[0;32m--> 682\u001b[0;31m             \u001b[0;32mreturn\u001b[0m \u001b[0mself\u001b[0m\u001b[0;34m.\u001b[0m\u001b[0m_endpoint\u001b[0m\u001b[0;34m.\u001b[0m\u001b[0mmake_request\u001b[0m\u001b[0;34m(\u001b[0m\u001b[0moperation_model\u001b[0m\u001b[0;34m,\u001b[0m \u001b[0mrequest_dict\u001b[0m\u001b[0;34m)\u001b[0m\u001b[0;34m\u001b[0m\u001b[0;34m\u001b[0m\u001b[0m\n\u001b[0m\u001b[1;32m    683\u001b[0m         \u001b[0;32mexcept\u001b[0m \u001b[0mException\u001b[0m \u001b[0;32mas\u001b[0m \u001b[0me\u001b[0m\u001b[0;34m:\u001b[0m\u001b[0;34m\u001b[0m\u001b[0;34m\u001b[0m\u001b[0m\n\u001b[1;32m    684\u001b[0m             self.meta.events.emit(\n",
      "\u001b[0;32m/opt/conda/lib/python3.8/site-packages/botocore/endpoint.py\u001b[0m in \u001b[0;36mmake_request\u001b[0;34m(self, operation_model, request_dict)\u001b[0m\n\u001b[1;32m    100\u001b[0m         logger.debug(\"Making request for %s with params: %s\",\n\u001b[1;32m    101\u001b[0m                      operation_model, request_dict)\n\u001b[0;32m--> 102\u001b[0;31m         \u001b[0;32mreturn\u001b[0m \u001b[0mself\u001b[0m\u001b[0;34m.\u001b[0m\u001b[0m_send_request\u001b[0m\u001b[0;34m(\u001b[0m\u001b[0mrequest_dict\u001b[0m\u001b[0;34m,\u001b[0m \u001b[0moperation_model\u001b[0m\u001b[0;34m)\u001b[0m\u001b[0;34m\u001b[0m\u001b[0;34m\u001b[0m\u001b[0m\n\u001b[0m\u001b[1;32m    103\u001b[0m \u001b[0;34m\u001b[0m\u001b[0m\n\u001b[1;32m    104\u001b[0m     \u001b[0;32mdef\u001b[0m \u001b[0mcreate_request\u001b[0m\u001b[0;34m(\u001b[0m\u001b[0mself\u001b[0m\u001b[0;34m,\u001b[0m \u001b[0mparams\u001b[0m\u001b[0;34m,\u001b[0m \u001b[0moperation_model\u001b[0m\u001b[0;34m=\u001b[0m\u001b[0;32mNone\u001b[0m\u001b[0;34m)\u001b[0m\u001b[0;34m:\u001b[0m\u001b[0;34m\u001b[0m\u001b[0;34m\u001b[0m\u001b[0m\n",
      "\u001b[0;32m/opt/conda/lib/python3.8/site-packages/botocore/endpoint.py\u001b[0m in \u001b[0;36m_send_request\u001b[0;34m(self, request_dict, operation_model)\u001b[0m\n\u001b[1;32m    134\u001b[0m         success_response, exception = self._get_response(\n\u001b[1;32m    135\u001b[0m             request, operation_model, context)\n\u001b[0;32m--> 136\u001b[0;31m         while self._needs_retry(attempts, operation_model, request_dict,\n\u001b[0m\u001b[1;32m    137\u001b[0m                                 success_response, exception):\n\u001b[1;32m    138\u001b[0m             \u001b[0mattempts\u001b[0m \u001b[0;34m+=\u001b[0m \u001b[0;36m1\u001b[0m\u001b[0;34m\u001b[0m\u001b[0;34m\u001b[0m\u001b[0m\n",
      "\u001b[0;32m/opt/conda/lib/python3.8/site-packages/botocore/endpoint.py\u001b[0m in \u001b[0;36m_needs_retry\u001b[0;34m(self, attempts, operation_model, request_dict, response, caught_exception)\u001b[0m\n\u001b[1;32m    251\u001b[0m             \u001b[0mservice_id\u001b[0m\u001b[0;34m,\u001b[0m\u001b[0;34m\u001b[0m\u001b[0;34m\u001b[0m\u001b[0m\n\u001b[1;32m    252\u001b[0m             operation_model.name)\n\u001b[0;32m--> 253\u001b[0;31m         responses = self._event_emitter.emit(\n\u001b[0m\u001b[1;32m    254\u001b[0m             \u001b[0mevent_name\u001b[0m\u001b[0;34m,\u001b[0m \u001b[0mresponse\u001b[0m\u001b[0;34m=\u001b[0m\u001b[0mresponse\u001b[0m\u001b[0;34m,\u001b[0m \u001b[0mendpoint\u001b[0m\u001b[0;34m=\u001b[0m\u001b[0mself\u001b[0m\u001b[0;34m,\u001b[0m\u001b[0;34m\u001b[0m\u001b[0;34m\u001b[0m\u001b[0m\n\u001b[1;32m    255\u001b[0m             \u001b[0moperation\u001b[0m\u001b[0;34m=\u001b[0m\u001b[0moperation_model\u001b[0m\u001b[0;34m,\u001b[0m \u001b[0mattempts\u001b[0m\u001b[0;34m=\u001b[0m\u001b[0mattempts\u001b[0m\u001b[0;34m,\u001b[0m\u001b[0;34m\u001b[0m\u001b[0;34m\u001b[0m\u001b[0m\n",
      "\u001b[0;32m/opt/conda/lib/python3.8/site-packages/botocore/hooks.py\u001b[0m in \u001b[0;36memit\u001b[0;34m(self, event_name, **kwargs)\u001b[0m\n\u001b[1;32m    354\u001b[0m     \u001b[0;32mdef\u001b[0m \u001b[0memit\u001b[0m\u001b[0;34m(\u001b[0m\u001b[0mself\u001b[0m\u001b[0;34m,\u001b[0m \u001b[0mevent_name\u001b[0m\u001b[0;34m,\u001b[0m \u001b[0;34m**\u001b[0m\u001b[0mkwargs\u001b[0m\u001b[0;34m)\u001b[0m\u001b[0;34m:\u001b[0m\u001b[0;34m\u001b[0m\u001b[0;34m\u001b[0m\u001b[0m\n\u001b[1;32m    355\u001b[0m         \u001b[0maliased_event_name\u001b[0m \u001b[0;34m=\u001b[0m \u001b[0mself\u001b[0m\u001b[0;34m.\u001b[0m\u001b[0m_alias_event_name\u001b[0m\u001b[0;34m(\u001b[0m\u001b[0mevent_name\u001b[0m\u001b[0;34m)\u001b[0m\u001b[0;34m\u001b[0m\u001b[0;34m\u001b[0m\u001b[0m\n\u001b[0;32m--> 356\u001b[0;31m         \u001b[0;32mreturn\u001b[0m \u001b[0mself\u001b[0m\u001b[0;34m.\u001b[0m\u001b[0m_emitter\u001b[0m\u001b[0;34m.\u001b[0m\u001b[0memit\u001b[0m\u001b[0;34m(\u001b[0m\u001b[0maliased_event_name\u001b[0m\u001b[0;34m,\u001b[0m \u001b[0;34m**\u001b[0m\u001b[0mkwargs\u001b[0m\u001b[0;34m)\u001b[0m\u001b[0;34m\u001b[0m\u001b[0;34m\u001b[0m\u001b[0m\n\u001b[0m\u001b[1;32m    357\u001b[0m \u001b[0;34m\u001b[0m\u001b[0m\n\u001b[1;32m    358\u001b[0m     \u001b[0;32mdef\u001b[0m \u001b[0memit_until_response\u001b[0m\u001b[0;34m(\u001b[0m\u001b[0mself\u001b[0m\u001b[0;34m,\u001b[0m \u001b[0mevent_name\u001b[0m\u001b[0;34m,\u001b[0m \u001b[0;34m**\u001b[0m\u001b[0mkwargs\u001b[0m\u001b[0;34m)\u001b[0m\u001b[0;34m:\u001b[0m\u001b[0;34m\u001b[0m\u001b[0;34m\u001b[0m\u001b[0m\n",
      "\u001b[0;32m/opt/conda/lib/python3.8/site-packages/botocore/hooks.py\u001b[0m in \u001b[0;36memit\u001b[0;34m(self, event_name, **kwargs)\u001b[0m\n\u001b[1;32m    226\u001b[0m                  \u001b[0mhandlers\u001b[0m\u001b[0;34m.\u001b[0m\u001b[0;34m\u001b[0m\u001b[0;34m\u001b[0m\u001b[0m\n\u001b[1;32m    227\u001b[0m         \"\"\"\n\u001b[0;32m--> 228\u001b[0;31m         \u001b[0;32mreturn\u001b[0m \u001b[0mself\u001b[0m\u001b[0;34m.\u001b[0m\u001b[0m_emit\u001b[0m\u001b[0;34m(\u001b[0m\u001b[0mevent_name\u001b[0m\u001b[0;34m,\u001b[0m \u001b[0mkwargs\u001b[0m\u001b[0;34m)\u001b[0m\u001b[0;34m\u001b[0m\u001b[0;34m\u001b[0m\u001b[0m\n\u001b[0m\u001b[1;32m    229\u001b[0m \u001b[0;34m\u001b[0m\u001b[0m\n\u001b[1;32m    230\u001b[0m     \u001b[0;32mdef\u001b[0m \u001b[0memit_until_response\u001b[0m\u001b[0;34m(\u001b[0m\u001b[0mself\u001b[0m\u001b[0;34m,\u001b[0m \u001b[0mevent_name\u001b[0m\u001b[0;34m,\u001b[0m \u001b[0;34m**\u001b[0m\u001b[0mkwargs\u001b[0m\u001b[0;34m)\u001b[0m\u001b[0;34m:\u001b[0m\u001b[0;34m\u001b[0m\u001b[0;34m\u001b[0m\u001b[0m\n",
      "\u001b[0;32m/opt/conda/lib/python3.8/site-packages/botocore/hooks.py\u001b[0m in \u001b[0;36m_emit\u001b[0;34m(self, event_name, kwargs, stop_on_response)\u001b[0m\n\u001b[1;32m    209\u001b[0m         \u001b[0;32mfor\u001b[0m \u001b[0mhandler\u001b[0m \u001b[0;32min\u001b[0m \u001b[0mhandlers_to_call\u001b[0m\u001b[0;34m:\u001b[0m\u001b[0;34m\u001b[0m\u001b[0;34m\u001b[0m\u001b[0m\n\u001b[1;32m    210\u001b[0m             \u001b[0mlogger\u001b[0m\u001b[0;34m.\u001b[0m\u001b[0mdebug\u001b[0m\u001b[0;34m(\u001b[0m\u001b[0;34m'Event %s: calling handler %s'\u001b[0m\u001b[0;34m,\u001b[0m \u001b[0mevent_name\u001b[0m\u001b[0;34m,\u001b[0m \u001b[0mhandler\u001b[0m\u001b[0;34m)\u001b[0m\u001b[0;34m\u001b[0m\u001b[0;34m\u001b[0m\u001b[0m\n\u001b[0;32m--> 211\u001b[0;31m             \u001b[0mresponse\u001b[0m \u001b[0;34m=\u001b[0m \u001b[0mhandler\u001b[0m\u001b[0;34m(\u001b[0m\u001b[0;34m**\u001b[0m\u001b[0mkwargs\u001b[0m\u001b[0;34m)\u001b[0m\u001b[0;34m\u001b[0m\u001b[0;34m\u001b[0m\u001b[0m\n\u001b[0m\u001b[1;32m    212\u001b[0m             \u001b[0mresponses\u001b[0m\u001b[0;34m.\u001b[0m\u001b[0mappend\u001b[0m\u001b[0;34m(\u001b[0m\u001b[0;34m(\u001b[0m\u001b[0mhandler\u001b[0m\u001b[0;34m,\u001b[0m \u001b[0mresponse\u001b[0m\u001b[0;34m)\u001b[0m\u001b[0;34m)\u001b[0m\u001b[0;34m\u001b[0m\u001b[0;34m\u001b[0m\u001b[0m\n\u001b[1;32m    213\u001b[0m             \u001b[0;32mif\u001b[0m \u001b[0mstop_on_response\u001b[0m \u001b[0;32mand\u001b[0m \u001b[0mresponse\u001b[0m \u001b[0;32mis\u001b[0m \u001b[0;32mnot\u001b[0m \u001b[0;32mNone\u001b[0m\u001b[0;34m:\u001b[0m\u001b[0;34m\u001b[0m\u001b[0;34m\u001b[0m\u001b[0m\n",
      "\u001b[0;32m/opt/conda/lib/python3.8/site-packages/botocore/retryhandler.py\u001b[0m in \u001b[0;36m__call__\u001b[0;34m(self, attempts, response, caught_exception, **kwargs)\u001b[0m\n\u001b[1;32m    181\u001b[0m \u001b[0;34m\u001b[0m\u001b[0m\n\u001b[1;32m    182\u001b[0m         \"\"\"\n\u001b[0;32m--> 183\u001b[0;31m         \u001b[0;32mif\u001b[0m \u001b[0mself\u001b[0m\u001b[0;34m.\u001b[0m\u001b[0m_checker\u001b[0m\u001b[0;34m(\u001b[0m\u001b[0mattempts\u001b[0m\u001b[0;34m,\u001b[0m \u001b[0mresponse\u001b[0m\u001b[0;34m,\u001b[0m \u001b[0mcaught_exception\u001b[0m\u001b[0;34m)\u001b[0m\u001b[0;34m:\u001b[0m\u001b[0;34m\u001b[0m\u001b[0;34m\u001b[0m\u001b[0m\n\u001b[0m\u001b[1;32m    184\u001b[0m             \u001b[0mresult\u001b[0m \u001b[0;34m=\u001b[0m \u001b[0mself\u001b[0m\u001b[0;34m.\u001b[0m\u001b[0m_action\u001b[0m\u001b[0;34m(\u001b[0m\u001b[0mattempts\u001b[0m\u001b[0;34m=\u001b[0m\u001b[0mattempts\u001b[0m\u001b[0;34m)\u001b[0m\u001b[0;34m\u001b[0m\u001b[0;34m\u001b[0m\u001b[0m\n\u001b[1;32m    185\u001b[0m             \u001b[0mlogger\u001b[0m\u001b[0;34m.\u001b[0m\u001b[0mdebug\u001b[0m\u001b[0;34m(\u001b[0m\u001b[0;34m\"Retry needed, action of: %s\"\u001b[0m\u001b[0;34m,\u001b[0m \u001b[0mresult\u001b[0m\u001b[0;34m)\u001b[0m\u001b[0;34m\u001b[0m\u001b[0;34m\u001b[0m\u001b[0m\n",
      "\u001b[0;32m/opt/conda/lib/python3.8/site-packages/botocore/retryhandler.py\u001b[0m in \u001b[0;36m__call__\u001b[0;34m(self, attempt_number, response, caught_exception)\u001b[0m\n\u001b[1;32m    248\u001b[0m \u001b[0;34m\u001b[0m\u001b[0m\n\u001b[1;32m    249\u001b[0m     \u001b[0;32mdef\u001b[0m \u001b[0m__call__\u001b[0m\u001b[0;34m(\u001b[0m\u001b[0mself\u001b[0m\u001b[0;34m,\u001b[0m \u001b[0mattempt_number\u001b[0m\u001b[0;34m,\u001b[0m \u001b[0mresponse\u001b[0m\u001b[0;34m,\u001b[0m \u001b[0mcaught_exception\u001b[0m\u001b[0;34m)\u001b[0m\u001b[0;34m:\u001b[0m\u001b[0;34m\u001b[0m\u001b[0;34m\u001b[0m\u001b[0m\n\u001b[0;32m--> 250\u001b[0;31m         should_retry = self._should_retry(attempt_number, response,\n\u001b[0m\u001b[1;32m    251\u001b[0m                                           caught_exception)\n\u001b[1;32m    252\u001b[0m         \u001b[0;32mif\u001b[0m \u001b[0mshould_retry\u001b[0m\u001b[0;34m:\u001b[0m\u001b[0;34m\u001b[0m\u001b[0;34m\u001b[0m\u001b[0m\n",
      "\u001b[0;32m/opt/conda/lib/python3.8/site-packages/botocore/retryhandler.py\u001b[0m in \u001b[0;36m_should_retry\u001b[0;34m(self, attempt_number, response, caught_exception)\u001b[0m\n\u001b[1;32m    275\u001b[0m             \u001b[0;31m# If we've exceeded the max attempts we just let the exception\u001b[0m\u001b[0;34m\u001b[0m\u001b[0;34m\u001b[0m\u001b[0;34m\u001b[0m\u001b[0m\n\u001b[1;32m    276\u001b[0m             \u001b[0;31m# propogate if one has occurred.\u001b[0m\u001b[0;34m\u001b[0m\u001b[0;34m\u001b[0m\u001b[0;34m\u001b[0m\u001b[0m\n\u001b[0;32m--> 277\u001b[0;31m             \u001b[0;32mreturn\u001b[0m \u001b[0mself\u001b[0m\u001b[0;34m.\u001b[0m\u001b[0m_checker\u001b[0m\u001b[0;34m(\u001b[0m\u001b[0mattempt_number\u001b[0m\u001b[0;34m,\u001b[0m \u001b[0mresponse\u001b[0m\u001b[0;34m,\u001b[0m \u001b[0mcaught_exception\u001b[0m\u001b[0;34m)\u001b[0m\u001b[0;34m\u001b[0m\u001b[0;34m\u001b[0m\u001b[0m\n\u001b[0m\u001b[1;32m    278\u001b[0m \u001b[0;34m\u001b[0m\u001b[0m\n\u001b[1;32m    279\u001b[0m \u001b[0;34m\u001b[0m\u001b[0m\n",
      "\u001b[0;32m/opt/conda/lib/python3.8/site-packages/botocore/retryhandler.py\u001b[0m in \u001b[0;36m__call__\u001b[0;34m(self, attempt_number, response, caught_exception)\u001b[0m\n\u001b[1;32m    314\u001b[0m     \u001b[0;32mdef\u001b[0m \u001b[0m__call__\u001b[0m\u001b[0;34m(\u001b[0m\u001b[0mself\u001b[0m\u001b[0;34m,\u001b[0m \u001b[0mattempt_number\u001b[0m\u001b[0;34m,\u001b[0m \u001b[0mresponse\u001b[0m\u001b[0;34m,\u001b[0m \u001b[0mcaught_exception\u001b[0m\u001b[0;34m)\u001b[0m\u001b[0;34m:\u001b[0m\u001b[0;34m\u001b[0m\u001b[0;34m\u001b[0m\u001b[0m\n\u001b[1;32m    315\u001b[0m         \u001b[0;32mfor\u001b[0m \u001b[0mchecker\u001b[0m \u001b[0;32min\u001b[0m \u001b[0mself\u001b[0m\u001b[0;34m.\u001b[0m\u001b[0m_checkers\u001b[0m\u001b[0;34m:\u001b[0m\u001b[0;34m\u001b[0m\u001b[0;34m\u001b[0m\u001b[0m\n\u001b[0;32m--> 316\u001b[0;31m             checker_response = checker(attempt_number, response,\n\u001b[0m\u001b[1;32m    317\u001b[0m                                        caught_exception)\n\u001b[1;32m    318\u001b[0m             \u001b[0;32mif\u001b[0m \u001b[0mchecker_response\u001b[0m\u001b[0;34m:\u001b[0m\u001b[0;34m\u001b[0m\u001b[0;34m\u001b[0m\u001b[0m\n",
      "\u001b[0;32m/opt/conda/lib/python3.8/site-packages/botocore/retryhandler.py\u001b[0m in \u001b[0;36m__call__\u001b[0;34m(self, attempt_number, response, caught_exception)\u001b[0m\n\u001b[1;32m    220\u001b[0m             \u001b[0;32mreturn\u001b[0m \u001b[0mself\u001b[0m\u001b[0;34m.\u001b[0m\u001b[0m_check_response\u001b[0m\u001b[0;34m(\u001b[0m\u001b[0mattempt_number\u001b[0m\u001b[0;34m,\u001b[0m \u001b[0mresponse\u001b[0m\u001b[0;34m)\u001b[0m\u001b[0;34m\u001b[0m\u001b[0;34m\u001b[0m\u001b[0m\n\u001b[1;32m    221\u001b[0m         \u001b[0;32melif\u001b[0m \u001b[0mcaught_exception\u001b[0m \u001b[0;32mis\u001b[0m \u001b[0;32mnot\u001b[0m \u001b[0;32mNone\u001b[0m\u001b[0;34m:\u001b[0m\u001b[0;34m\u001b[0m\u001b[0;34m\u001b[0m\u001b[0m\n\u001b[0;32m--> 222\u001b[0;31m             return self._check_caught_exception(\n\u001b[0m\u001b[1;32m    223\u001b[0m                 attempt_number, caught_exception)\n\u001b[1;32m    224\u001b[0m         \u001b[0;32melse\u001b[0m\u001b[0;34m:\u001b[0m\u001b[0;34m\u001b[0m\u001b[0;34m\u001b[0m\u001b[0m\n",
      "\u001b[0;32m/opt/conda/lib/python3.8/site-packages/botocore/retryhandler.py\u001b[0m in \u001b[0;36m_check_caught_exception\u001b[0;34m(self, attempt_number, caught_exception)\u001b[0m\n\u001b[1;32m    357\u001b[0m         \u001b[0;31m# the MaxAttemptsDecorator is not interested in retrying the exception\u001b[0m\u001b[0;34m\u001b[0m\u001b[0;34m\u001b[0m\u001b[0;34m\u001b[0m\u001b[0m\n\u001b[1;32m    358\u001b[0m         \u001b[0;31m# then this exception just propogates out past the retry code.\u001b[0m\u001b[0;34m\u001b[0m\u001b[0;34m\u001b[0m\u001b[0;34m\u001b[0m\u001b[0m\n\u001b[0;32m--> 359\u001b[0;31m         \u001b[0;32mraise\u001b[0m \u001b[0mcaught_exception\u001b[0m\u001b[0;34m\u001b[0m\u001b[0;34m\u001b[0m\u001b[0m\n\u001b[0m",
      "\u001b[0;32m/opt/conda/lib/python3.8/site-packages/botocore/endpoint.py\u001b[0m in \u001b[0;36m_do_get_response\u001b[0;34m(self, request, operation_model)\u001b[0m\n\u001b[1;32m    198\u001b[0m             \u001b[0mhttp_response\u001b[0m \u001b[0;34m=\u001b[0m \u001b[0mfirst_non_none_response\u001b[0m\u001b[0;34m(\u001b[0m\u001b[0mresponses\u001b[0m\u001b[0;34m)\u001b[0m\u001b[0;34m\u001b[0m\u001b[0;34m\u001b[0m\u001b[0m\n\u001b[1;32m    199\u001b[0m             \u001b[0;32mif\u001b[0m \u001b[0mhttp_response\u001b[0m \u001b[0;32mis\u001b[0m \u001b[0;32mNone\u001b[0m\u001b[0;34m:\u001b[0m\u001b[0;34m\u001b[0m\u001b[0;34m\u001b[0m\u001b[0m\n\u001b[0;32m--> 200\u001b[0;31m                 \u001b[0mhttp_response\u001b[0m \u001b[0;34m=\u001b[0m \u001b[0mself\u001b[0m\u001b[0;34m.\u001b[0m\u001b[0m_send\u001b[0m\u001b[0;34m(\u001b[0m\u001b[0mrequest\u001b[0m\u001b[0;34m)\u001b[0m\u001b[0;34m\u001b[0m\u001b[0;34m\u001b[0m\u001b[0m\n\u001b[0m\u001b[1;32m    201\u001b[0m         \u001b[0;32mexcept\u001b[0m \u001b[0mHTTPClientError\u001b[0m \u001b[0;32mas\u001b[0m \u001b[0me\u001b[0m\u001b[0;34m:\u001b[0m\u001b[0;34m\u001b[0m\u001b[0;34m\u001b[0m\u001b[0m\n\u001b[1;32m    202\u001b[0m             \u001b[0;32mreturn\u001b[0m \u001b[0;34m(\u001b[0m\u001b[0;32mNone\u001b[0m\u001b[0;34m,\u001b[0m \u001b[0me\u001b[0m\u001b[0;34m)\u001b[0m\u001b[0;34m\u001b[0m\u001b[0;34m\u001b[0m\u001b[0m\n",
      "\u001b[0;32m/opt/conda/lib/python3.8/site-packages/botocore/endpoint.py\u001b[0m in \u001b[0;36m_send\u001b[0;34m(self, request)\u001b[0m\n\u001b[1;32m    267\u001b[0m \u001b[0;34m\u001b[0m\u001b[0m\n\u001b[1;32m    268\u001b[0m     \u001b[0;32mdef\u001b[0m \u001b[0m_send\u001b[0m\u001b[0;34m(\u001b[0m\u001b[0mself\u001b[0m\u001b[0;34m,\u001b[0m \u001b[0mrequest\u001b[0m\u001b[0;34m)\u001b[0m\u001b[0;34m:\u001b[0m\u001b[0;34m\u001b[0m\u001b[0;34m\u001b[0m\u001b[0m\n\u001b[0;32m--> 269\u001b[0;31m         \u001b[0;32mreturn\u001b[0m \u001b[0mself\u001b[0m\u001b[0;34m.\u001b[0m\u001b[0mhttp_session\u001b[0m\u001b[0;34m.\u001b[0m\u001b[0msend\u001b[0m\u001b[0;34m(\u001b[0m\u001b[0mrequest\u001b[0m\u001b[0;34m)\u001b[0m\u001b[0;34m\u001b[0m\u001b[0;34m\u001b[0m\u001b[0m\n\u001b[0m\u001b[1;32m    270\u001b[0m \u001b[0;34m\u001b[0m\u001b[0m\n\u001b[1;32m    271\u001b[0m \u001b[0;34m\u001b[0m\u001b[0m\n",
      "\u001b[0;32m/opt/conda/lib/python3.8/site-packages/botocore/httpsession.py\u001b[0m in \u001b[0;36msend\u001b[0;34m(self, request)\u001b[0m\n\u001b[1;32m    338\u001b[0m             \u001b[0;32mraise\u001b[0m \u001b[0mSSLError\u001b[0m\u001b[0;34m(\u001b[0m\u001b[0mendpoint_url\u001b[0m\u001b[0;34m=\u001b[0m\u001b[0mrequest\u001b[0m\u001b[0;34m.\u001b[0m\u001b[0murl\u001b[0m\u001b[0;34m,\u001b[0m \u001b[0merror\u001b[0m\u001b[0;34m=\u001b[0m\u001b[0me\u001b[0m\u001b[0;34m)\u001b[0m\u001b[0;34m\u001b[0m\u001b[0;34m\u001b[0m\u001b[0m\n\u001b[1;32m    339\u001b[0m         \u001b[0;32mexcept\u001b[0m \u001b[0;34m(\u001b[0m\u001b[0mNewConnectionError\u001b[0m\u001b[0;34m,\u001b[0m \u001b[0msocket\u001b[0m\u001b[0;34m.\u001b[0m\u001b[0mgaierror\u001b[0m\u001b[0;34m)\u001b[0m \u001b[0;32mas\u001b[0m \u001b[0me\u001b[0m\u001b[0;34m:\u001b[0m\u001b[0;34m\u001b[0m\u001b[0;34m\u001b[0m\u001b[0m\n\u001b[0;32m--> 340\u001b[0;31m             \u001b[0;32mraise\u001b[0m \u001b[0mEndpointConnectionError\u001b[0m\u001b[0;34m(\u001b[0m\u001b[0mendpoint_url\u001b[0m\u001b[0;34m=\u001b[0m\u001b[0mrequest\u001b[0m\u001b[0;34m.\u001b[0m\u001b[0murl\u001b[0m\u001b[0;34m,\u001b[0m \u001b[0merror\u001b[0m\u001b[0;34m=\u001b[0m\u001b[0me\u001b[0m\u001b[0;34m)\u001b[0m\u001b[0;34m\u001b[0m\u001b[0;34m\u001b[0m\u001b[0m\n\u001b[0m\u001b[1;32m    341\u001b[0m         \u001b[0;32mexcept\u001b[0m \u001b[0mProxyError\u001b[0m \u001b[0;32mas\u001b[0m \u001b[0me\u001b[0m\u001b[0;34m:\u001b[0m\u001b[0;34m\u001b[0m\u001b[0;34m\u001b[0m\u001b[0m\n\u001b[1;32m    342\u001b[0m             \u001b[0;32mraise\u001b[0m \u001b[0mProxyConnectionError\u001b[0m\u001b[0;34m(\u001b[0m\u001b[0mproxy_url\u001b[0m\u001b[0;34m=\u001b[0m\u001b[0mproxy_url\u001b[0m\u001b[0;34m,\u001b[0m \u001b[0merror\u001b[0m\u001b[0;34m=\u001b[0m\u001b[0me\u001b[0m\u001b[0;34m)\u001b[0m\u001b[0;34m\u001b[0m\u001b[0;34m\u001b[0m\u001b[0m\n",
      "\u001b[0;31mEndpointConnectionError\u001b[0m: Could not connect to the endpoint URL: \"https://mturk-requester-sandbox.us-east-1.amazonaws.com/\""
     ]
    }
   ],
   "source": [
    "for item in results:\n",
    "    # Get the status of the HIT\n",
    "    hit = mturk.get_hit(HITId=item['HITId'])\n",
    "    item['status'] = hit['HIT']['HITStatus']\n",
    "    # Get a list of the Assignments that have been submitted\n",
    "    assignmentsList = mturk.list_assignments_for_hit(\n",
    "        HITId=item['HITId'],\n",
    "        #AssignmentStatuses=['Submitted', 'Approved'],\n",
    "        MaxResults=10\n",
    "    )\n",
    "    assignments = assignmentsList['Assignments']\n",
    "    item['assignments_submitted_count'] = len(assignments)\n",
    "    responses = []\n",
    "    #pp.pprint(assignmentsList)\n",
    "    for assignment in assignments:\n",
    "        # Retreive the attributes for each Assignment\n",
    "        worker_id = assignment['WorkerId']\n",
    "        assignment_id = assignment['AssignmentId']\n",
    "        \n",
    "        # Retrieve the value submitted by the Worker from the XML\n",
    "        answer_dict = xmltodict.parse(assignment['Answer'])\n",
    "        answer = answer_dict['QuestionFormAnswers']['Answer']['FreeText']\n",
    "        status=assignment['AssignmentStatus']\n",
    "        #print(assignment)\n",
    "        # Approve the Assignment (if it hasn't been already)\n",
    "        if assignment['AssignmentStatus']=='Submitted':\n",
    "            print(\"### Evaluating assignment\")\n",
    "            \n",
    "            if answer == item[\"RESP_CHALLENGE\"]:\n",
    "                status='Approved'\n",
    "                response = mturk.approve_assignment(\n",
    "                    AssignmentId=assignment_id,\n",
    "                    RequesterFeedback='##Thank you for participating in this study',\n",
    "                    OverrideRejection=False\n",
    "                )\n",
    "            else:\n",
    "                status='Rejected'\n",
    "                response = mturk.reject_assignment(\n",
    "                    AssignmentId=assignment_id,\n",
    "                    RequesterFeedback='@@Sorry, could\\'t validate your response'\n",
    "                )\n",
    "            response = mturk.associate_qualification_with_worker(\n",
    "                QualificationTypeId=qual_type,\n",
    "                WorkerId=worker_id,\n",
    "                IntegerValue=1,\n",
    "                SendNotification=False\n",
    "            )\n",
    "            responses.append({'answer':answer,'WorkerId':worker_id,'AssignmentId':assignment_id,'Status':status})\n",
    "        else:\n",
    "            responses.append({'answer':answer,'WorkerId':worker_id,'AssignmentId':assignment_id,'Status':status})\n",
    "            #pp.pprint(assignment)\n",
    "    # Add the answers that have been retrieved for this item\n",
    "    item['responses'] = responses\n",
    "print(json.dumps(results,indent=2))"
   ]
  },
  {
   "cell_type": "code",
   "execution_count": null,
   "metadata": {},
   "outputs": [],
   "source": []
  },
  {
   "cell_type": "code",
   "execution_count": 47,
   "metadata": {},
   "outputs": [
    {
     "name": "stdout",
     "output_type": "stream",
     "text": [
      "[\n",
      "  {\n",
      "    \"HITId\": \"3LB1BGHFL2W0C0U8T78Z6OGFT12YTZ\",\n",
      "    \"URL\": \"http://zoll-experiment.s3.amazonaws.com/index.html?ExpID=78b9dc93aa6a4cf074d05d28ed1f1373&group=1\",\n",
      "    \"RESP_CHALLENGE\": \"51c53943\",\n",
      "    \"HIT_URL\": \"https://workersandbox.mturk.com/mturk/preview?groupId=3MY6FNYS863U5KF2USGZH62EPF52BA\",\n",
      "    \"status\": \"Assignable\",\n",
      "    \"assignments_submitted_count\": 0,\n",
      "    \"responses\": []\n",
      "  },\n",
      "  {\n",
      "    \"HITId\": \"3XJOUITW8URR3Y3M2XR5T2DDUSLTQR\",\n",
      "    \"URL\": \"http://zoll-experiment.s3.amazonaws.com/index.html?ExpID=40186ebc8c2b0ee62a7b7a9e23fae41d&group=1\",\n",
      "    \"RESP_CHALLENGE\": \"8489889e\",\n",
      "    \"HIT_URL\": \"https://workersandbox.mturk.com/mturk/preview?groupId=3MY6FNYS863U5KF2USGZH62EPF52BA\",\n",
      "    \"status\": \"Reviewable\",\n",
      "    \"assignments_submitted_count\": 1,\n",
      "    \"responses\": [\n",
      "      {\n",
      "        \"answer\": \"51c53943\",\n",
      "        \"WorkerId\": \"AO18L4K2NAU0S\",\n",
      "        \"AssignmentId\": \"3G2UL9A02DEDI2LO0NF76L0K4DD67N\",\n",
      "        \"Status\": \"Rejected\"\n",
      "      }\n",
      "    ]\n",
      "  },\n",
      "  {\n",
      "    \"HITId\": \"32TZXEA1OLKJ594F2H0IKTTD6HD149\",\n",
      "    \"URL\": \"http://zoll-experiment.s3.amazonaws.com/index.html?ExpID=5b764a9f6f1f8659f0c025c9c3aa6a06&group=1\",\n",
      "    \"RESP_CHALLENGE\": \"120aa203\",\n",
      "    \"HIT_URL\": \"https://workersandbox.mturk.com/mturk/preview?groupId=3MY6FNYS863U5KF2USGZH62EPF52BA\",\n",
      "    \"status\": \"Reviewable\",\n",
      "    \"assignments_submitted_count\": 1,\n",
      "    \"responses\": [\n",
      "      {\n",
      "        \"answer\": \"51c53943\",\n",
      "        \"WorkerId\": \"AO18L4K2NAU0S\",\n",
      "        \"AssignmentId\": \"3634BBTX0OU6QFVVK7M8RG36BSRIFX\",\n",
      "        \"Status\": \"Rejected\"\n",
      "      }\n",
      "    ]\n",
      "  }\n",
      "]\n"
     ]
    }
   ],
   "source": [
    "print(json.dumps(results,indent=2))"
   ]
  },
  {
   "cell_type": "code",
   "execution_count": null,
   "metadata": {},
   "outputs": [],
   "source": []
  },
  {
   "cell_type": "markdown",
   "metadata": {},
   "source": [
    "# Check HITs"
   ]
  },
  {
   "cell_type": "markdown",
   "metadata": {},
   "source": [
    "### List assignments"
   ]
  },
  {
   "cell_type": "code",
   "execution_count": 48,
   "metadata": {},
   "outputs": [],
   "source": [
    "all_hits=mturk.list_hits()"
   ]
  },
  {
   "cell_type": "code",
   "execution_count": 49,
   "metadata": {},
   "outputs": [
    {
     "name": "stdout",
     "output_type": "stream",
     "text": [
      "3XJOUITW8URR3Y3M2XR5T2DDUSLTQR\n",
      "This is a desktop Virtual Reality experiment\n",
      "1\n",
      "{   'AssignmentDurationInSeconds': 600,\n",
      "    'AutoApprovalDelayInSeconds': 2592000,\n",
      "    'CreationTime': datetime.datetime(2021, 3, 14, 12, 55, 27, tzinfo=tzlocal()),\n",
      "    'Description': 'In this experiment you will slowly move through a building '\n",
      "                   'and will have to find specific targets.',\n",
      "    'Expiration': datetime.datetime(2021, 3, 14, 13, 5, 27, tzinfo=tzlocal()),\n",
      "    'HITGroupId': '3RC5MYEBOEU78M0IKQNQ3GAJG35TP6',\n",
      "    'HITId': '3XJOUITW8URR3Y3M2XR5T2DDUSLTQR',\n",
      "    'HITReviewStatus': 'NotReviewed',\n",
      "    'HITStatus': 'Reviewable',\n",
      "    'HITTypeId': '3MY6FNYS863U5KF2USGZH62EPF52BA',\n",
      "    'Keywords': 'VR, slow, research',\n",
      "    'MaxAssignments': 1,\n",
      "    'NumberOfAssignmentsAvailable': 0,\n",
      "    'NumberOfAssignmentsCompleted': 1,\n",
      "    'NumberOfAssignmentsPending': 0,\n",
      "    'QualificationRequirements': [   {   'ActionsGuarded': 'PreviewAndAccept',\n",
      "                                         'Comparator': 'GreaterThanOrEqualTo',\n",
      "                                         'IntegerValues': [80],\n",
      "                                         'QualificationTypeId': '000000000000000000L0',\n",
      "                                         'RequiredToPreview': True},\n",
      "                                     {   'ActionsGuarded': 'Accept',\n",
      "                                         'Comparator': 'DoesNotExist',\n",
      "                                         'QualificationTypeId': '3BR5SIVR7VUQOEDI0JFGCDU88RBEGQ',\n",
      "                                         'RequiredToPreview': False}],\n",
      "    'Question': '<HTMLQuestion '\n",
      "                'xmlns=\"http://mechanicalturk.amazonaws.com/AWSMechanicalTurkDataSchemas/2011-11-11/HTMLQuestion.xsd\">\\n'\n",
      "                '  <HTMLContent><![CDATA[<!DOCTYPE html>\\n'\n",
      "                '<html>\\n'\n",
      "                ' <head>\\n'\n",
      "                \"  <meta http-equiv='Content-Type' content='text/html; \"\n",
      "                \"charset=UTF-8'/>\\n\"\n",
      "                \"  <script type='text/javascript' \"\n",
      "                \"src='https://s3.amazonaws.com/mturk-public/externalHIT_v1.js'></script>\\n\"\n",
      "                ' </head>\\n'\n",
      "                ' <body>\\n'\n",
      "                '  You will find the experiment in the following link:<br>\\n'\n",
      "                '  <a '\n",
      "                'href=\"http://zoll-experiment.s3.amazonaws.com/index.html?ExpID=40186ebc8c2b0ee62a7b7a9e23fae41d&group=1\">http://zoll-experiment.s3.amazonaws.com/index.html?ExpID=40186ebc8c2b0ee62a7b7a9e23fae41d&group=1</a>\\n'\n",
      "                '  <br>\\n'\n",
      "                '  <br>\\n'\n",
      "                '  <br>\\n'\n",
      "                \"  <form name='mturk_form' method='post' id='mturk_form' \"\n",
      "                \"action='https://www.mturk.com/mturk/externalSubmit'>\\n\"\n",
      "                \"  <input type='hidden' value='' name='assignmentId' \"\n",
      "                \"id='assignmentId'/>\\n\"\n",
      "                '  After completing the experiment please enter the response '\n",
      "                'code below:<br>\\n'\n",
      "                '  <p><textarea style=\"resize:none\" name=\\'response_code\\' '\n",
      "                \"cols='50' rows='1'></textarea></p>\\n\"\n",
      "                \"  <p><input type='submit' id='submitButton' value='Submit' \"\n",
      "                '/></p></form>\\n'\n",
      "                '  <script '\n",
      "                \"language='Javascript'>turkSetAssignmentID();</script>\\n\"\n",
      "                ' </body>\\n'\n",
      "                '</html>\\n'\n",
      "                ']]>\\n'\n",
      "                '  </HTMLContent>\\n'\n",
      "                '  <FrameHeight>450</FrameHeight>\\n'\n",
      "                '</HTMLQuestion>\\n',\n",
      "    'Reward': '0.11',\n",
      "    'Title': 'This is a desktop Virtual Reality experiment'}\n",
      "None\n",
      "32TZXEA1OLKJ594F2H0IKTTD6HD149\n",
      "This is a desktop Virtual Reality experiment\n",
      "1\n",
      "{   'AssignmentDurationInSeconds': 600,\n",
      "    'AutoApprovalDelayInSeconds': 2592000,\n",
      "    'CreationTime': datetime.datetime(2021, 3, 14, 12, 55, 27, tzinfo=tzlocal()),\n",
      "    'Description': 'In this experiment you will slowly move through a building '\n",
      "                   'and will have to find specific targets.',\n",
      "    'Expiration': datetime.datetime(2021, 3, 14, 13, 5, 27, tzinfo=tzlocal()),\n",
      "    'HITGroupId': '3RC5MYEBOEU78M0IKQNQ3GAJG35TP6',\n",
      "    'HITId': '32TZXEA1OLKJ594F2H0IKTTD6HD149',\n",
      "    'HITReviewStatus': 'NotReviewed',\n",
      "    'HITStatus': 'Reviewable',\n",
      "    'HITTypeId': '3MY6FNYS863U5KF2USGZH62EPF52BA',\n",
      "    'Keywords': 'VR, slow, research',\n",
      "    'MaxAssignments': 1,\n",
      "    'NumberOfAssignmentsAvailable': 0,\n",
      "    'NumberOfAssignmentsCompleted': 1,\n",
      "    'NumberOfAssignmentsPending': 0,\n",
      "    'QualificationRequirements': [   {   'ActionsGuarded': 'PreviewAndAccept',\n",
      "                                         'Comparator': 'GreaterThanOrEqualTo',\n",
      "                                         'IntegerValues': [80],\n",
      "                                         'QualificationTypeId': '000000000000000000L0',\n",
      "                                         'RequiredToPreview': True},\n",
      "                                     {   'ActionsGuarded': 'Accept',\n",
      "                                         'Comparator': 'DoesNotExist',\n",
      "                                         'QualificationTypeId': '3BR5SIVR7VUQOEDI0JFGCDU88RBEGQ',\n",
      "                                         'RequiredToPreview': False}],\n",
      "    'Question': '<HTMLQuestion '\n",
      "                'xmlns=\"http://mechanicalturk.amazonaws.com/AWSMechanicalTurkDataSchemas/2011-11-11/HTMLQuestion.xsd\">\\n'\n",
      "                '  <HTMLContent><![CDATA[<!DOCTYPE html>\\n'\n",
      "                '<html>\\n'\n",
      "                ' <head>\\n'\n",
      "                \"  <meta http-equiv='Content-Type' content='text/html; \"\n",
      "                \"charset=UTF-8'/>\\n\"\n",
      "                \"  <script type='text/javascript' \"\n",
      "                \"src='https://s3.amazonaws.com/mturk-public/externalHIT_v1.js'></script>\\n\"\n",
      "                ' </head>\\n'\n",
      "                ' <body>\\n'\n",
      "                '  You will find the experiment in the following link:<br>\\n'\n",
      "                '  <a '\n",
      "                'href=\"http://zoll-experiment.s3.amazonaws.com/index.html?ExpID=5b764a9f6f1f8659f0c025c9c3aa6a06&group=1\">http://zoll-experiment.s3.amazonaws.com/index.html?ExpID=5b764a9f6f1f8659f0c025c9c3aa6a06&group=1</a>\\n'\n",
      "                '  <br>\\n'\n",
      "                '  <br>\\n'\n",
      "                '  <br>\\n'\n",
      "                \"  <form name='mturk_form' method='post' id='mturk_form' \"\n",
      "                \"action='https://www.mturk.com/mturk/externalSubmit'>\\n\"\n",
      "                \"  <input type='hidden' value='' name='assignmentId' \"\n",
      "                \"id='assignmentId'/>\\n\"\n",
      "                '  After completing the experiment please enter the response '\n",
      "                'code below:<br>\\n'\n",
      "                '  <p><textarea style=\"resize:none\" name=\\'response_code\\' '\n",
      "                \"cols='50' rows='1'></textarea></p>\\n\"\n",
      "                \"  <p><input type='submit' id='submitButton' value='Submit' \"\n",
      "                '/></p></form>\\n'\n",
      "                '  <script '\n",
      "                \"language='Javascript'>turkSetAssignmentID();</script>\\n\"\n",
      "                ' </body>\\n'\n",
      "                '</html>\\n'\n",
      "                ']]>\\n'\n",
      "                '  </HTMLContent>\\n'\n",
      "                '  <FrameHeight>450</FrameHeight>\\n'\n",
      "                '</HTMLQuestion>\\n',\n",
      "    'Reward': '0.11',\n",
      "    'Title': 'This is a desktop Virtual Reality experiment'}\n",
      "None\n",
      "3LB1BGHFL2W0C0U8T78Z6OGFT12YTZ\n",
      "This is a desktop Virtual Reality experiment\n",
      "0\n",
      "{   'AssignmentDurationInSeconds': 600,\n",
      "    'AutoApprovalDelayInSeconds': 2592000,\n",
      "    'CreationTime': datetime.datetime(2021, 3, 14, 12, 55, 26, tzinfo=tzlocal()),\n",
      "    'Description': 'In this experiment you will slowly move through a building '\n",
      "                   'and will have to find specific targets.',\n",
      "    'Expiration': datetime.datetime(2021, 3, 14, 13, 5, 26, tzinfo=tzlocal()),\n",
      "    'HITGroupId': '3RC5MYEBOEU78M0IKQNQ3GAJG35TP6',\n",
      "    'HITId': '3LB1BGHFL2W0C0U8T78Z6OGFT12YTZ',\n",
      "    'HITReviewStatus': 'NotReviewed',\n",
      "    'HITStatus': 'Assignable',\n",
      "    'HITTypeId': '3MY6FNYS863U5KF2USGZH62EPF52BA',\n",
      "    'Keywords': 'VR, slow, research',\n",
      "    'MaxAssignments': 1,\n",
      "    'NumberOfAssignmentsAvailable': 1,\n",
      "    'NumberOfAssignmentsCompleted': 0,\n",
      "    'NumberOfAssignmentsPending': 0,\n",
      "    'QualificationRequirements': [   {   'ActionsGuarded': 'PreviewAndAccept',\n",
      "                                         'Comparator': 'GreaterThanOrEqualTo',\n",
      "                                         'IntegerValues': [80],\n",
      "                                         'QualificationTypeId': '000000000000000000L0',\n",
      "                                         'RequiredToPreview': True},\n",
      "                                     {   'ActionsGuarded': 'Accept',\n",
      "                                         'Comparator': 'DoesNotExist',\n",
      "                                         'QualificationTypeId': '3BR5SIVR7VUQOEDI0JFGCDU88RBEGQ',\n",
      "                                         'RequiredToPreview': False}],\n",
      "    'Question': '<HTMLQuestion '\n",
      "                'xmlns=\"http://mechanicalturk.amazonaws.com/AWSMechanicalTurkDataSchemas/2011-11-11/HTMLQuestion.xsd\">\\n'\n",
      "                '  <HTMLContent><![CDATA[<!DOCTYPE html>\\n'\n",
      "                '<html>\\n'\n",
      "                ' <head>\\n'\n",
      "                \"  <meta http-equiv='Content-Type' content='text/html; \"\n",
      "                \"charset=UTF-8'/>\\n\"\n",
      "                \"  <script type='text/javascript' \"\n",
      "                \"src='https://s3.amazonaws.com/mturk-public/externalHIT_v1.js'></script>\\n\"\n",
      "                ' </head>\\n'\n",
      "                ' <body>\\n'\n",
      "                '  You will find the experiment in the following link:<br>\\n'\n",
      "                '  <a '\n",
      "                'href=\"http://zoll-experiment.s3.amazonaws.com/index.html?ExpID=78b9dc93aa6a4cf074d05d28ed1f1373&group=1\">http://zoll-experiment.s3.amazonaws.com/index.html?ExpID=78b9dc93aa6a4cf074d05d28ed1f1373&group=1</a>\\n'\n",
      "                '  <br>\\n'\n",
      "                '  <br>\\n'\n",
      "                '  <br>\\n'\n",
      "                \"  <form name='mturk_form' method='post' id='mturk_form' \"\n",
      "                \"action='https://www.mturk.com/mturk/externalSubmit'>\\n\"\n",
      "                \"  <input type='hidden' value='' name='assignmentId' \"\n",
      "                \"id='assignmentId'/>\\n\"\n",
      "                '  After completing the experiment please enter the response '\n",
      "                'code below:<br>\\n'\n",
      "                '  <p><textarea style=\"resize:none\" name=\\'response_code\\' '\n",
      "                \"cols='50' rows='1'></textarea></p>\\n\"\n",
      "                \"  <p><input type='submit' id='submitButton' value='Submit' \"\n",
      "                '/></p></form>\\n'\n",
      "                '  <script '\n",
      "                \"language='Javascript'>turkSetAssignmentID();</script>\\n\"\n",
      "                ' </body>\\n'\n",
      "                '</html>\\n'\n",
      "                ']]>\\n'\n",
      "                '  </HTMLContent>\\n'\n",
      "                '  <FrameHeight>450</FrameHeight>\\n'\n",
      "                '</HTMLQuestion>\\n',\n",
      "    'Reward': '0.11',\n",
      "    'Title': 'This is a desktop Virtual Reality experiment'}\n",
      "None\n"
     ]
    }
   ],
   "source": [
    "for h in all_hits['HITs']:\n",
    "    print(h['HITId'])\n",
    "    print(h['Title'])\n",
    "    print(h['NumberOfAssignmentsCompleted'])\n",
    "    print(pp.pprint(h))"
   ]
  },
  {
   "cell_type": "code",
   "execution_count": 33,
   "metadata": {},
   "outputs": [
    {
     "name": "stdout",
     "output_type": "stream",
     "text": [
      "3XJOUITW8URR3Y3M2XR5T2DDUSLTQR\n",
      "This is a desktop Virtual Reality experiment\n",
      "{'NextToken': 'p1:E+npAcGnF2L/UWnt6bgjlDh7Nuxt4m70NK4d09DTRcGj4idK0EkMm88N9PKyq3w=', 'NumResults': 1, 'Assignments': [{'AssignmentId': '3G2UL9A02DEDI2LO0NF76L0K4DD67N', 'WorkerId': 'AO18L4K2NAU0S', 'HITId': '3XJOUITW8URR3Y3M2XR5T2DDUSLTQR', 'AssignmentStatus': 'Rejected', 'AutoApprovalTime': datetime.datetime(2021, 4, 13, 12, 56, 46, tzinfo=tzlocal()), 'AcceptTime': datetime.datetime(2021, 3, 14, 12, 56, 39, tzinfo=tzlocal()), 'SubmitTime': datetime.datetime(2021, 3, 14, 12, 56, 46, tzinfo=tzlocal()), 'RejectionTime': datetime.datetime(2021, 3, 14, 12, 57, 35, tzinfo=tzlocal()), 'Answer': '<?xml version=\"1.0\" encoding=\"ASCII\"?><QuestionFormAnswers xmlns=\"http://mechanicalturk.amazonaws.com/AWSMechanicalTurkDataSchemas/2005-10-01/QuestionFormAnswers.xsd\"><Answer><QuestionIdentifier>response_code</QuestionIdentifier><FreeText>51c53943</FreeText></Answer></QuestionFormAnswers>', 'RequesterFeedback': \"@@Sorry, could't validate your response\"}], 'ResponseMetadata': {'RequestId': '7e75682e-79cb-4e0e-9266-1125d9c9518b', 'HTTPStatusCode': 200, 'HTTPHeaders': {'x-amzn-requestid': '7e75682e-79cb-4e0e-9266-1125d9c9518b', 'content-type': 'application/x-amz-json-1.1', 'content-length': '748', 'date': 'Sun, 14 Mar 2021 12:58:06 GMT'}, 'RetryAttempts': 0}}\n",
      "32TZXEA1OLKJ594F2H0IKTTD6HD149\n",
      "This is a desktop Virtual Reality experiment\n",
      "{'NextToken': 'p1:hzHfPaJwYtxj7xKwFfWFTRXUN6JT7y2TTsnBfvrnFHxjolbiHxuJDGtJf9d8wFo=', 'NumResults': 1, 'Assignments': [{'AssignmentId': '3634BBTX0OU6QFVVK7M8RG36BSRIFX', 'WorkerId': 'AO18L4K2NAU0S', 'HITId': '32TZXEA1OLKJ594F2H0IKTTD6HD149', 'AssignmentStatus': 'Rejected', 'AutoApprovalTime': datetime.datetime(2021, 4, 13, 12, 56, 35, tzinfo=tzlocal()), 'AcceptTime': datetime.datetime(2021, 3, 14, 12, 56, 31, tzinfo=tzlocal()), 'SubmitTime': datetime.datetime(2021, 3, 14, 12, 56, 35, tzinfo=tzlocal()), 'RejectionTime': datetime.datetime(2021, 3, 14, 12, 57, 7, tzinfo=tzlocal()), 'Answer': '<?xml version=\"1.0\" encoding=\"ASCII\"?><QuestionFormAnswers xmlns=\"http://mechanicalturk.amazonaws.com/AWSMechanicalTurkDataSchemas/2005-10-01/QuestionFormAnswers.xsd\"><Answer><QuestionIdentifier>response_code</QuestionIdentifier><FreeText>51c53943</FreeText></Answer></QuestionFormAnswers>', 'RequesterFeedback': \"@@Sorry, could't validate your response\"}], 'ResponseMetadata': {'RequestId': '0ca8e25b-c1a3-4502-8ecf-e3dc095c7c38', 'HTTPStatusCode': 200, 'HTTPHeaders': {'x-amzn-requestid': '0ca8e25b-c1a3-4502-8ecf-e3dc095c7c38', 'content-type': 'application/x-amz-json-1.1', 'content-length': '748', 'date': 'Sun, 14 Mar 2021 12:58:06 GMT'}, 'RetryAttempts': 0}}\n",
      "3LB1BGHFL2W0C0U8T78Z6OGFT12YTZ\n",
      "This is a desktop Virtual Reality experiment\n",
      "{\n",
      "  \"NumResults\": 0,\n",
      "  \"Assignments\": [],\n",
      "  \"ResponseMetadata\": {\n",
      "    \"RequestId\": \"464c539f-1e3a-40b4-a592-40eae7a4c758\",\n",
      "    \"HTTPStatusCode\": 200,\n",
      "    \"HTTPHeaders\": {\n",
      "      \"x-amzn-requestid\": \"464c539f-1e3a-40b4-a592-40eae7a4c758\",\n",
      "      \"content-type\": \"application/x-amz-json-1.1\",\n",
      "      \"content-length\": \"33\",\n",
      "      \"date\": \"Sun, 14 Mar 2021 12:58:06 GMT\"\n",
      "    },\n",
      "    \"RetryAttempts\": 0\n",
      "  }\n",
      "}\n"
     ]
    }
   ],
   "source": [
    "for h in all_hits['HITs']:\n",
    "    print(h['HITId'])\n",
    "    print(h['Title'])\n",
    "    HITId=h['HITId']\n",
    "    response = mturk.list_assignments_for_hit(\n",
    "        HITId=HITId,\n",
    "        MaxResults=100,\n",
    "        AssignmentStatuses=[\n",
    "            'Submitted','Approved','Rejected'\n",
    "        ]\n",
    "    )\n",
    "    try:\n",
    "        print (json.dumps(response, indent=2))\n",
    "    except:\n",
    "        print(response)"
   ]
  },
  {
   "cell_type": "markdown",
   "metadata": {},
   "source": [
    "### Aprove all assignments in HIT"
   ]
  },
  {
   "cell_type": "code",
   "execution_count": 34,
   "metadata": {},
   "outputs": [],
   "source": [
    "def approveAllAssignments(hit_id):\n",
    "    # Get HIT status\n",
    "    status=mturk.get_hit(HITId=hit_id)['HIT']['HITStatus']\n",
    "    print('HITStatus:', status)\n",
    "    if status == 'Reviewable':\n",
    "        assignments = mturk.list_assignments_for_hit(HITId=hit_id, AssignmentStatuses=['Submitted'])\n",
    "        if assignments['NumResults'] > 0:\n",
    "            for assign in assignments['Assignments']:\n",
    "                mturk.approve_assignment(AssignmentId=assign['AssignmentId'])\n",
    "                print(\"Approved: \"+assign['AssignmentId'])"
   ]
  },
  {
   "cell_type": "markdown",
   "metadata": {},
   "source": [
    "### Aprove all assignments in all HITs"
   ]
  },
  {
   "cell_type": "code",
   "execution_count": 28,
   "metadata": {},
   "outputs": [
    {
     "name": "stdout",
     "output_type": "stream",
     "text": [
      "HITStatus: Assignable\n",
      "HITStatus: Assignable\n",
      "HITStatus: Assignable\n"
     ]
    }
   ],
   "source": [
    "for item in mturk.list_hits()['HITs']:\n",
    "    hit_id=item['HITId']\n",
    "    approveAllAssignments(hit_id)"
   ]
  },
  {
   "cell_type": "markdown",
   "metadata": {},
   "source": [
    "# DANGER ZONE"
   ]
  },
  {
   "cell_type": "markdown",
   "metadata": {},
   "source": [
    "### Force Delete HITS"
   ]
  },
  {
   "cell_type": "code",
   "execution_count": null,
   "metadata": {},
   "outputs": [],
   "source": [
    "# Delete HIT\n",
    "def deleteHit(hit_id):\n",
    "    # Get HIT status\n",
    "    status=mturk.get_hit(HITId=hit_id)['HIT']['HITStatus']\n",
    "    print('HITStatus:', status)\n",
    "\n",
    "    # If HIT is active then set it to expire immediately\n",
    "    if status=='Assignable' or status=='Unassignable':\n",
    "        print(\"Forcing it to expire\")\n",
    "        response = mturk.update_expiration_for_hit(\n",
    "            HITId=hit_id,\n",
    "            ExpireAt=datetime.datetime(2015, 1, 1)\n",
    "        )        \n",
    "    # Delete the HIT\n",
    "    try:\n",
    "        mturk.delete_hit(HITId=hit_id)\n",
    "    except Exception as e: \n",
    "        print(e)\n",
    "        print('Not deleted')\n",
    "    else:\n",
    "        print('Deleted')"
   ]
  },
  {
   "cell_type": "markdown",
   "metadata": {},
   "source": [
    "### Delete All Hits"
   ]
  },
  {
   "cell_type": "code",
   "execution_count": null,
   "metadata": {},
   "outputs": [],
   "source": [
    "for item in mturk.list_hits()['HITs']:\n",
    "    hit_id=item['HITId']\n",
    "    print('HITId:', hit_id)\n",
    "    deleteHit(hit_id)"
   ]
  },
  {
   "cell_type": "code",
   "execution_count": null,
   "metadata": {},
   "outputs": [],
   "source": [
    "for item in mturk.list_hits()['HITs']:\n",
    "    print(f\"HITId:{hit_id}\")\n",
    "    status=mturk.get_hit(HITId=item['HITId'])['HIT']['HITStatus']\n",
    "    print(status)"
   ]
  },
  {
   "cell_type": "markdown",
   "metadata": {},
   "source": [
    "# Loop and force delete all"
   ]
  },
  {
   "cell_type": "code",
   "execution_count": null,
   "metadata": {},
   "outputs": [],
   "source": [
    "while len(mturk.list_hits()['HITs']):\n",
    "    for item in mturk.list_hits()['HITs']:\n",
    "        hit_id=item['HITId']\n",
    "        print('HITId:', hit_id)\n",
    "        deleteHit(hit_id)\n",
    "    for item in mturk.list_hits()['HITs']:\n",
    "        print(f\"HITId:{hit_id}\")\n",
    "        status=mturk.get_hit(HITId=item['HITId'])['HIT']['HITStatus']\n",
    "        print(status)\n",
    "    print(\"Sleeping now\")\n",
    "    time.sleep(10)"
   ]
  },
  {
   "cell_type": "markdown",
   "metadata": {},
   "source": [
    "# Deletes all the qualifications"
   ]
  },
  {
   "cell_type": "code",
   "execution_count": null,
   "metadata": {},
   "outputs": [],
   "source": [
    "response = mturk.list_qualification_types(\n",
    "    Query='participation',\n",
    "    MustBeRequestable=False,\n",
    "    MustBeOwnedByCaller=True,\n",
    "    MaxResults=10\n",
    ")\n",
    "try:\n",
    "    print (json.dumps(response, indent=2))\n",
    "except:\n",
    "    print(response)\n",
    "qualification_list=response['QualificationTypes']\n",
    "for qualification in qualification_list:\n",
    "    qual_id=qualification['QualificationTypeId']\n",
    "    print(qual_id)\n",
    "    print(qualification['Name'])\n",
    "    pp.pprint(qualification)\n",
    "    response = mturk.delete_qualification_type(\n",
    "        QualificationTypeId=qual_id\n",
    "    )\n",
    "    try:\n",
    "        print (json.dumps(response, indent=2))\n",
    "    except:\n",
    "        print(response)"
   ]
  },
  {
   "cell_type": "code",
   "execution_count": null,
   "metadata": {},
   "outputs": [],
   "source": []
  },
  {
   "cell_type": "code",
   "execution_count": null,
   "metadata": {},
   "outputs": [],
   "source": []
  }
 ],
 "metadata": {
  "kernelspec": {
   "display_name": "Python 3",
   "language": "python",
   "name": "python3"
  },
  "language_info": {
   "codemirror_mode": {
    "name": "ipython",
    "version": 3
   },
   "file_extension": ".py",
   "mimetype": "text/x-python",
   "name": "python",
   "nbconvert_exporter": "python",
   "pygments_lexer": "ipython3",
   "version": "3.8.8"
  }
 },
 "nbformat": 4,
 "nbformat_minor": 4
}
