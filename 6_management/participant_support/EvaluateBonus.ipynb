{
 "cells": [
  {
   "cell_type": "code",
   "execution_count": 1,
   "metadata": {},
   "outputs": [],
   "source": [
    "import os\n",
    "import json\n",
    "import pandas as pd\n",
    "import copy"
   ]
  },
  {
   "cell_type": "code",
   "execution_count": 2,
   "metadata": {},
   "outputs": [],
   "source": [
    "exfname1=\"../../experiment/data/AllCodesNew.csv\"\n",
    "outfname=\"../../experiment/data/AllCodesNew.csv\"\n",
    "path_name=\"../../experiment/data/raw_dataExp1\""
   ]
  },
  {
   "cell_type": "code",
   "execution_count": 3,
   "metadata": {},
   "outputs": [],
   "source": [
    "fnames=[]\n",
    "entries={}\n",
    "numWorkers={}\n",
    "workerSessions={}\n",
    "sessionCount={}\n",
    "sessionToExpID={}\n",
    "allData={}\n",
    "total=0\n",
    "for dirpath, dirnames, filenames in os.walk(\"./\"+path_name+\"/results/\"):\n",
    "    for filename in [f for f in filenames if f.endswith(\"PT.json\")]:\n",
    "        fname=os.path.join(dirpath, filename)\n",
    "        with open(fname, 'r') as f:\n",
    "            parsed_json = json.load(f)\n",
    "        if parsed_json['sid'] not in entries:\n",
    "            entries[parsed_json['sid']]=0\n",
    "            sessionCount[parsed_json['sid']]=0\n",
    "        entries[parsed_json['sid']]+=float(parsed_json['tspan'])\n",
    "        sessionCount[parsed_json['sid']]+=1\n",
    "        total+=1\n",
    "        \n",
    "        if parsed_json['id'] not in numWorkers:\n",
    "            numWorkers[parsed_json['id']]=0\n",
    "            workerSessions[parsed_json['id']]={}\n",
    "        numWorkers[parsed_json['id']]+=1\n",
    "        \n",
    "        if parsed_json['sid'] not in workerSessions[parsed_json['id']]:\n",
    "            workerSessions[parsed_json['id']][parsed_json['sid']]=0\n",
    "        workerSessions[parsed_json['id']][parsed_json['sid']]+=1\n",
    "        \n",
    "        #workerSessions[parsed_json['id']].append(parsed_json['sid'])\n",
    "        #print(json.dumps(parsed_json, indent=4, sort_keys=True))\n",
    "        #print(os.path.join(dirpath, filename))\n",
    "\n",
    "sessionToExpID={}\n",
    "for dirpath, dirnames, filenames in os.walk(\"./\"+path_name+\"/results/\"):\n",
    "    for filename in [f for f in filenames if f.endswith(\"header.json\")]:\n",
    "        fname=os.path.join(dirpath, filename)\n",
    "        with open(fname, 'r') as f:\n",
    "            parsed_json = json.load(f)\n",
    "            #print(json.dumps(parsed_json, indent=4, sort_keys=True))\n",
    "        sessionToExpID[parsed_json['sid']]=parsed_json['eid']\n",
    "        allData[parsed_json['sid']]=parsed_json"
   ]
  },
  {
   "cell_type": "code",
   "execution_count": 4,
   "metadata": {},
   "outputs": [],
   "source": [
    "if len(numWorkers)!=len(entries):\n",
    "    print(\"There is an issue check it\",len(numWorkers),len(entries))"
   ]
  },
  {
   "cell_type": "code",
   "execution_count": 5,
   "metadata": {},
   "outputs": [],
   "source": [
    "# Taking only the best \n",
    "#for worker,val in workerSessions.items():\n",
    "#    if len(val) > 1:\n",
    "#        print(\"Worker {} performed the expriment {} times, keeping only the best one\".format(worker,len(val)))\n",
    "#        best=0\n",
    "#        keepsid=0\n",
    "#        for sid, num in val.items():\n",
    "#            if num>best:\n",
    "#                best=num\n",
    "#                keepsid=sid\n",
    "#        for sid, num in val.items():\n",
    "#            if sid!=keepsid:\n",
    "#                del sessionToExpID[sid]"
   ]
  },
  {
   "cell_type": "code",
   "execution_count": 6,
   "metadata": {},
   "outputs": [],
   "source": [
    "total=0\n",
    "for dirpath, dirnames, filenames in os.walk(\"./\"+path_name+\"/results/\"):\n",
    "    for filename in [f for f in filenames if f.endswith(\".csv\")]:\n",
    "        total+=1"
   ]
  },
  {
   "cell_type": "code",
   "execution_count": 7,
   "metadata": {},
   "outputs": [
    {
     "data": {
      "text/plain": [
       "540"
      ]
     },
     "execution_count": 7,
     "metadata": {},
     "output_type": "execute_result"
    }
   ],
   "source": [
    "df=pd.read_csv(exfname1)\n",
    "ncolumns=['State','TrialCount','Bonus','Time','Age','Gender','WorkerID','SessionID','Group','Date']\n",
    "df=pd.concat([df,pd.DataFrame(columns=ncolumns)],sort=False)\n",
    "len(df)"
   ]
  },
  {
   "cell_type": "code",
   "execution_count": 8,
   "metadata": {},
   "outputs": [],
   "source": [
    "#df.head()"
   ]
  },
  {
   "cell_type": "code",
   "execution_count": 9,
   "metadata": {},
   "outputs": [],
   "source": [
    "#bonus={}\n",
    "#count=0\n",
    "#for sessionID,time in entries.items():\n",
    "#    count+=1\n",
    "    #print(count,sessionToExpID[sessionID],time,sessionCount[sessionID])"
   ]
  },
  {
   "cell_type": "code",
   "execution_count": 10,
   "metadata": {},
   "outputs": [],
   "source": [
    "def ModifyRow(row,val):\n",
    "    row.loc['State']=val['State']\n",
    "    row.loc['TrialCount']=val['tcount']\n",
    "    row.loc['Bonus']=val['Bonus']\n",
    "    row.loc['Time']=val['sumTime']\n",
    "    row.loc['Age']=val['age']\n",
    "    row.loc['Gender']=val['ge']\n",
    "    row.loc['WorkerID']=val['id']\n",
    "    row.loc['SessionID']=val['sid']\n",
    "    row.loc['Group']=val['gr']\n",
    "    row.loc['Date']=val['da']\n",
    "    return row"
   ]
  },
  {
   "cell_type": "code",
   "execution_count": 11,
   "metadata": {},
   "outputs": [
    {
     "name": "stdout",
     "output_type": "stream",
     "text": [
      "1200\n",
      "dc9bf4a4673c2bbdce71ea67fb1b7582 Ignoring Worker A2ASTDMWBCFIP0/A2ASTDMWBCFIP0 with trials 0/6 new/before\n",
      "230631cf661b33dd9919af0eba48599a Ignoring Worker AQZM81DMVPHW5/AQZM81DMNVPHW5 with trials 0/0 new/before\n",
      "443ac33ac0d74cb1e3de61cc9c839edb Ignoring Worker A3LETROTTA0C7N/A3LETROTTA0C7N with trials 0/0 new/before\n",
      "1269d856092b0868553963cdc310b55d Ignoring Worker A1HB8WVP9ZWLXV/A1HB8WVP9ZWLXV with trials 0/0 new/before\n",
      "dc9bf4a4673c2bbdce71ea67fb1b7582 Ignoring Worker A2ASTDMWBCFIP0/A2ASTDMWBCFIP0 with trials 0/6 new/before\n"
     ]
    }
   ],
   "source": [
    "time_limit=20*60\n",
    "print(time_limit)\n",
    "\n",
    "seenExpID={}\n",
    "count=0\n",
    "for sessionID in sessionToExpID.keys() & allData.keys():\n",
    "    expID=sessionToExpID[sessionID]\n",
    "    count+=1\n",
    "    if sessionID not in entries:\n",
    "        time=-1\n",
    "        trialCount=0\n",
    "    else:\n",
    "        time=entries[sessionID]\n",
    "        trialCount=sessionCount[sessionID]\n",
    "    allData[sessionID]['tcount']=trialCount\n",
    "    allData[sessionID]['sumTime']=time\n",
    "    if trialCount==6:\n",
    "        allData[sessionID]['State']='Valid'\n",
    "        if time < time_limit:\n",
    "            allData[sessionID]['Bonus']='True'                   \n",
    "        else:\n",
    "            allData[sessionID]['Bonus']='False'                   \n",
    "    else:\n",
    "        allData[sessionID]['State']='Invalid'\n",
    "        allData[sessionID]['Bonus']='False'\n",
    "    \n",
    "    if expID not in seenExpID:\n",
    "        seenExpID[expID]=0\n",
    "        if expID in df['ExpID'].values:\n",
    "            if len(df[df['ExpID']==expID])==1:\n",
    "                row=ModifyRow(df.loc[df['ExpID']==expID].iloc[0],allData[sessionID])\n",
    "                df.loc[df['ExpID']==expID,:]=row.values\n",
    "                pass\n",
    "            else:\n",
    "                print(\"0 ERROR REPEATED ROW this should not happen \",(len(df[df['ExpID']==expID])))\n",
    "        else:\n",
    "            print(\"0 ERROR Not exiting ExpID this should not happen \",expID)\n",
    "    else:\n",
    "        if expID in df['ExpID'].values:\n",
    "            if len(df[df['ExpID']==expID])==1:\n",
    "                pastTrialCount=df.loc[df['ExpID']==expID,'TrialCount'].values[0]\n",
    "                pastWorkerID=df.loc[df['ExpID']==expID,'WorkerID'].values[0]\n",
    "                #if pastWorkerID == allData[sessionID]['id']:\n",
    "                if pastTrialCount<allData[sessionID]['tcount']:\n",
    "                    row=ModifyRow(df.loc[df['ExpID']==expID].iloc[0],allData[sessionID])\n",
    "                    df.loc[df['ExpID']==expID,:]=row.values\n",
    "                else:\n",
    "                    print(\"{} Ignoring Worker {}/{} with trials {}/{} new/before\".format(expID,allData[sessionID]['id'],pastWorkerID,allData[sessionID]['tcount'],pastTrialCount))\n",
    "                #else:\n",
    "                #    print(\"0 Different Worker Adding Row\",expID)\n",
    "                #    row=ModifyRow(df.loc[df['ExpID']==expID].iloc[0],allData[sessionID])\n",
    "                #    df=df.append(row, ignore_index=True)\n",
    "            else:\n",
    "                row=ModifyRow(df[df['ExpID']==expID].iloc[0],allData[sessionID])\n",
    "                df=df.append(row, ignore_index=True)\n",
    "                print(\"1 ERROR REPEATED ROW this should not happen \",expID)\n",
    "                print(\"1 ERROR REPEATED ROW this should not happen\",len(df[df['ExpID']==expID].iloc[0,:]))\n",
    "                #break\n",
    "        else:\n",
    "            print(\"1 ERROR Not exiting ExpID this should not happen \",expID)    "
   ]
  },
  {
   "cell_type": "code",
   "execution_count": 12,
   "metadata": {},
   "outputs": [],
   "source": [
    "df.to_csv(\"NEW_WITH_BONUS_\"+outfname)"
   ]
  },
  {
   "cell_type": "code",
   "execution_count": 13,
   "metadata": {},
   "outputs": [
    {
     "name": "stdout",
     "output_type": "stream",
     "text": [
      "Total completed 20\n",
      "Total count 35\n"
     ]
    }
   ],
   "source": [
    "fcount=0\n",
    "fcompleted=0\n",
    "for sessionID,expID in sessionToExpID.items():\n",
    "    fcount+=1\n",
    "    if sessionID not in entries:\n",
    "        time=-1\n",
    "        trialCount=0\n",
    "    else:\n",
    "        time=entries[sessionID]\n",
    "        trialCount=sessionCount[sessionID]\n",
    "    #print(count,expID,time,trialCount)\n",
    "    if trialCount == 6:\n",
    "        fcompleted+=1\n",
    "print(\"Total completed {}\".format(fcompleted))\n",
    "print(\"Total count {}\".format(fcount))"
   ]
  }
 ],
 "metadata": {
  "kernelspec": {
   "display_name": "Python 3",
   "language": "python",
   "name": "python3"
  },
  "language_info": {
   "codemirror_mode": {
    "name": "ipython",
    "version": 3
   },
   "file_extension": ".py",
   "mimetype": "text/x-python",
   "name": "python",
   "nbconvert_exporter": "python",
   "pygments_lexer": "ipython3",
   "version": "3.8.8"
  }
 },
 "nbformat": 4,
 "nbformat_minor": 4
}
