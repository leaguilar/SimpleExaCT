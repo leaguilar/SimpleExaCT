{
 "cells": [
  {
   "cell_type": "code",
   "execution_count": 1,
   "id": "black-truck",
   "metadata": {},
   "outputs": [
    {
     "name": "stdout",
     "output_type": "stream",
     "text": [
      "pygame 2.0.1 (SDL 2.0.14, Python 3.8.8)\n",
      "Hello from the pygame community. https://www.pygame.org/contribute.html\n"
     ]
    }
   ],
   "source": [
    "import requests\n",
    "import time\n",
    "import pygame\n",
    "import os"
   ]
  },
  {
   "cell_type": "code",
   "execution_count": 2,
   "id": "driven-peter",
   "metadata": {},
   "outputs": [],
   "source": [
    "SERVER=os.environ['DATA_ASSEMBLY_LOCATION']\n",
    "message = {'PING': 'FromServerWatch'}"
   ]
  },
  {
   "cell_type": "code",
   "execution_count": 3,
   "id": "seven-congress",
   "metadata": {},
   "outputs": [
    {
     "name": "stdout",
     "output_type": "stream",
     "text": [
      "http://54.209.47.55:8080\n"
     ]
    }
   ],
   "source": [
    "print(SERVER)"
   ]
  },
  {
   "cell_type": "code",
   "execution_count": null,
   "id": "handled-zoning",
   "metadata": {},
   "outputs": [
    {
     "name": "stdout",
     "output_type": "stream",
     "text": [
      "No audio device available\n",
      "Starting to monitor the data assembly service\n",
      "Sun Mar 14 06:41:07 2021 SERVER ONLINE\n",
      "Sun Mar 14 06:42:08 2021 SERVER ONLINE\n",
      "Sun Mar 14 06:43:08 2021 SERVER ONLINE\n",
      "Sun Mar 14 06:44:08 2021 SERVER ONLINE\n",
      "Sun Mar 14 06:45:09 2021 SERVER ONLINE\n",
      "Sun Mar 14 06:46:09 2021 SERVER ONLINE\n",
      "Sun Mar 14 06:47:10 2021 SERVER ONLINE\n",
      "Sun Mar 14 06:48:10 2021 SERVER ONLINE\n",
      "Sun Mar 14 06:49:10 2021 SERVER ONLINE\n",
      "Sun Mar 14 06:50:11 2021 SERVER ONLINE\n",
      "Sun Mar 14 06:51:11 2021 SERVER ONLINE\n",
      "Sun Mar 14 06:52:12 2021 SERVER ONLINE\n",
      "Sun Mar 14 06:53:12 2021 SERVER ONLINE\n",
      "Sun Mar 14 06:54:12 2021 SERVER ONLINE\n",
      "Sun Mar 14 06:55:13 2021 SERVER ONLINE\n",
      "Sun Mar 14 06:56:13 2021 SERVER ONLINE\n",
      "Sun Mar 14 06:57:13 2021 SERVER ONLINE\n",
      "Sun Mar 14 06:58:14 2021 SERVER ONLINE\n",
      "Sun Mar 14 06:59:14 2021 SERVER ONLINE\n",
      "Sun Mar 14 07:00:15 2021 SERVER ONLINE\n",
      "Sun Mar 14 07:01:15 2021 SERVER ONLINE\n",
      "Sun Mar 14 07:02:15 2021 SERVER ONLINE\n",
      "Sun Mar 14 07:03:16 2021 SERVER ONLINE\n",
      "Sun Mar 14 07:04:16 2021 SERVER ONLINE\n",
      "Sun Mar 14 07:05:16 2021 SERVER ONLINE\n",
      "Sun Mar 14 07:06:17 2021 SERVER ONLINE\n",
      "Sun Mar 14 07:07:17 2021 SERVER ONLINE\n",
      "Sun Mar 14 07:08:18 2021 SERVER ONLINE\n",
      "Sun Mar 14 07:09:18 2021 SERVER ONLINE\n",
      "Sun Mar 14 07:10:18 2021 SERVER ONLINE\n",
      "Sun Mar 14 07:11:19 2021 SERVER ONLINE\n",
      "Sun Mar 14 07:12:19 2021 SERVER ONLINE\n",
      "Sun Mar 14 07:13:19 2021 SERVER ONLINE\n",
      "Sun Mar 14 07:14:20 2021 SERVER ONLINE\n",
      "Sun Mar 14 07:15:20 2021 SERVER ONLINE\n",
      "Sun Mar 14 07:16:21 2021 SERVER ONLINE\n",
      "Sun Mar 14 07:17:21 2021 SERVER ONLINE\n",
      "Sun Mar 14 07:18:21 2021 SERVER ONLINE\n",
      "Sun Mar 14 07:19:22 2021 SERVER ONLINE\n",
      "Sun Mar 14 07:20:22 2021 SERVER ONLINE\n",
      "Sun Mar 14 07:21:22 2021 SERVER ONLINE\n",
      "Sun Mar 14 07:22:23 2021 SERVER ONLINE\n",
      "Sun Mar 14 07:23:23 2021 SERVER ONLINE\n",
      "Sun Mar 14 07:24:24 2021 SERVER ONLINE\n",
      "Sun Mar 14 07:25:24 2021 SERVER ONLINE\n",
      "Sun Mar 14 07:26:24 2021 SERVER ONLINE\n",
      "Sun Mar 14 07:27:25 2021 SERVER ONLINE\n",
      "Sun Mar 14 07:28:25 2021 SERVER ONLINE\n",
      "Sun Mar 14 07:29:25 2021 SERVER ONLINE\n",
      "Sun Mar 14 07:30:26 2021 SERVER ONLINE\n",
      "Sun Mar 14 07:31:26 2021 SERVER ONLINE\n",
      "Sun Mar 14 07:32:26 2021 SERVER ONLINE\n",
      "Sun Mar 14 07:33:27 2021 SERVER ONLINE\n",
      "Sun Mar 14 07:34:27 2021 SERVER ONLINE\n",
      "Sun Mar 14 07:35:27 2021 SERVER ONLINE\n",
      "Sun Mar 14 07:36:28 2021 SERVER ONLINE\n",
      "Sun Mar 14 07:37:28 2021 SERVER ONLINE\n",
      "Sun Mar 14 07:38:29 2021 SERVER ONLINE\n",
      "Sun Mar 14 07:39:29 2021 SERVER ONLINE\n",
      "Sun Mar 14 07:40:29 2021 SERVER ONLINE\n",
      "Sun Mar 14 07:41:30 2021 SERVER ONLINE\n",
      "Sun Mar 14 07:42:30 2021 SERVER ONLINE\n",
      "Sun Mar 14 07:43:31 2021 SERVER ONLINE\n",
      "Sun Mar 14 07:44:31 2021 SERVER ONLINE\n",
      "Sun Mar 14 07:45:31 2021 SERVER ONLINE\n",
      "Sun Mar 14 07:46:32 2021 SERVER ONLINE\n",
      "Sun Mar 14 07:47:32 2021 SERVER ONLINE\n",
      "Sun Mar 14 07:48:33 2021 SERVER ONLINE\n",
      "Sun Mar 14 07:49:33 2021 SERVER ONLINE\n",
      "Sun Mar 14 07:50:33 2021 SERVER ONLINE\n",
      "Sun Mar 14 07:51:33 2021 SERVER ONLINE\n",
      "Sun Mar 14 07:52:34 2021 SERVER ONLINE\n",
      "Sun Mar 14 07:53:34 2021 SERVER ONLINE\n",
      "Sun Mar 14 07:54:35 2021 SERVER ONLINE\n",
      "Sun Mar 14 07:55:35 2021 SERVER ONLINE\n",
      "Sun Mar 14 07:56:35 2021 SERVER ONLINE\n",
      "Sun Mar 14 07:57:36 2021 SERVER ONLINE\n",
      "Sun Mar 14 07:58:36 2021 SERVER ONLINE\n",
      "Sun Mar 14 07:59:36 2021 SERVER ONLINE\n",
      "Sun Mar 14 08:00:37 2021 SERVER ONLINE\n",
      "Sun Mar 14 08:01:37 2021 SERVER ONLINE\n",
      "Sun Mar 14 08:02:37 2021 SERVER ONLINE\n",
      "Sun Mar 14 08:03:38 2021 SERVER ONLINE\n"
     ]
    }
   ],
   "source": [
    "try:\n",
    "    pygame.mixer.init()\n",
    "    sound = pygame.mixer.Sound('alarm.ogg')\n",
    "    def alarm():\n",
    "        while True:\n",
    "            sound.play()\n",
    "            time.sleep(10)\n",
    "except:\n",
    "    print(\"No audio device available\")\n",
    "    def alarm():\n",
    "        print(\"#############\")\n",
    "\n",
    "\n",
    "\n",
    "\n",
    "if SERVER:\n",
    "    print(\"Starting to monitor the data assembly service\")\n",
    "    while True:   \n",
    "        timeStr = time.ctime()\n",
    "        try:\n",
    "            x = requests.post(SERVER, json = message,timeout=3)\n",
    "            if x.ok:\n",
    "                print(\"{} SERVER ONLINE\".format(timeStr))\n",
    "            else:\n",
    "                print(\"\\nSERVER OFFLINE\\n\\nPRESS CTL+C TO STOP ALARM \")\n",
    "                alarm()\n",
    "        except Exception as e:\n",
    "            print(e)\n",
    "            print(\"\\nSERVER OFFLINE\\n\\nPRESS CTL+C TO STOP ALARM \")\n",
    "            alarm()  \n",
    "        time.sleep(60)"
   ]
  },
  {
   "cell_type": "code",
   "execution_count": null,
   "id": "increasing-indie",
   "metadata": {},
   "outputs": [],
   "source": []
  }
 ],
 "metadata": {
  "kernelspec": {
   "display_name": "Python 3",
   "language": "python",
   "name": "python3"
  },
  "language_info": {
   "codemirror_mode": {
    "name": "ipython",
    "version": 3
   },
   "file_extension": ".py",
   "mimetype": "text/x-python",
   "name": "python",
   "nbconvert_exporter": "python",
   "pygments_lexer": "ipython3",
   "version": "3.8.8"
  }
 },
 "nbformat": 4,
 "nbformat_minor": 5
}
