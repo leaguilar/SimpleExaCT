{
 "cells": [
  {
   "cell_type": "code",
   "execution_count": 29,
   "metadata": {},
   "outputs": [],
   "source": [
    "import boto3\n",
    "import xmltodict\n",
    "import json\n",
    "import datetime\n",
    "import sys\n",
    "import os\n",
    "import pandas as pd\n",
    "import pprint\n",
    "import time"
   ]
  },
  {
   "cell_type": "code",
   "execution_count": 30,
   "metadata": {},
   "outputs": [],
   "source": [
    "import requests"
   ]
  },
  {
   "cell_type": "code",
   "execution_count": 31,
   "metadata": {},
   "outputs": [],
   "source": [
    "psb_url=os.environ['PARTICIPANT_SUPPORT_BACKEND_LOCATION']\n",
    "psb_token=os.environ['PARTICIPANT_SUPPORT_BACKEND_TOKEN']"
   ]
  },
  {
   "cell_type": "code",
   "execution_count": 32,
   "metadata": {},
   "outputs": [],
   "source": [
    "h={'Authorization': f'TOKEN {psb_token}'}"
   ]
  },
  {
   "cell_type": "code",
   "execution_count": 33,
   "metadata": {},
   "outputs": [],
   "source": [
    "d={\"challenge\":\"XXXX\",\n",
    "   \"group\":\"1\"}"
   ]
  },
  {
   "cell_type": "code",
   "execution_count": 34,
   "metadata": {},
   "outputs": [],
   "source": [
    "resp = requests.post(f'{psb_url}/api/display_hits/',headers=h,data=d)"
   ]
  },
  {
   "cell_type": "code",
   "execution_count": 35,
   "metadata": {},
   "outputs": [
    {
     "name": "stdout",
     "output_type": "stream",
     "text": [
      "201\n"
     ]
    }
   ],
   "source": [
    "print(resp.status_code)"
   ]
  },
  {
   "cell_type": "code",
   "execution_count": 36,
   "metadata": {},
   "outputs": [],
   "source": [
    "resp = requests.get(f'{psb_url}/api/display_hits/',headers=h)"
   ]
  },
  {
   "cell_type": "code",
   "execution_count": 37,
   "metadata": {},
   "outputs": [
    {
     "name": "stdout",
     "output_type": "stream",
     "text": [
      "200\n"
     ]
    }
   ],
   "source": [
    "print(resp.status_code)"
   ]
  },
  {
   "cell_type": "code",
   "execution_count": 38,
   "metadata": {},
   "outputs": [
    {
     "name": "stdout",
     "output_type": "stream",
     "text": [
      "[{\"id\":1,\"worker_id\":null,\"assignment_id\":null,\"challenge\":\"XXXX\",\"used\":false},{\"id\":2,\"worker_id\":null,\"assignment_id\":null,\"challenge\":\"78b9dc93aa6a4cf074d05d28ed1f1373\",\"used\":false},{\"id\":3,\"worker_id\":null,\"assignment_id\":null,\"challenge\":\"40186ebc8c2b0ee62a7b7a9e23fae41d\",\"used\":false},{\"id\":4,\"worker_id\":null,\"assignment_id\":null,\"challenge\":\"5b764a9f6f1f8659f0c025c9c3aa6a06\",\"used\":false},{\"id\":5,\"worker_id\":null,\"assignment_id\":null,\"challenge\":\"17200ec4e8dbc1f99453f1039470032b\",\"used\":false},{\"id\":6,\"worker_id\":null,\"assignment_id\":null,\"challenge\":\"86148cf006f7bbe6e09a03058d910871\",\"used\":false},{\"id\":7,\"worker_id\":null,\"assignment_id\":null,\"challenge\":\"XXXX\",\"used\":false}]\n"
     ]
    }
   ],
   "source": [
    "print(resp.text)"
   ]
  },
  {
   "cell_type": "code",
   "execution_count": 39,
   "metadata": {},
   "outputs": [],
   "source": [
    "pp = pprint.PrettyPrinter(indent=4)"
   ]
  },
  {
   "cell_type": "code",
   "execution_count": 40,
   "metadata": {},
   "outputs": [],
   "source": [
    "AWS_SECRET = os.environ['AWS_SECRET']\n",
    "AWS_REGION = os.environ['AWS_REGION']\n",
    "AWS_ACCESS_KEY = os.environ['AWS_ACCESS_KEY']\n",
    "DATA_COLLECTION_LOCATION=os.environ['DATA_COLLECTION_LOCATION']"
   ]
  },
  {
   "cell_type": "code",
   "execution_count": 41,
   "metadata": {},
   "outputs": [],
   "source": [
    "EXPERIMENT_NAME=\"SimpleExaCT_PoC\""
   ]
  },
  {
   "cell_type": "markdown",
   "metadata": {},
   "source": [
    "## Authenticate"
   ]
  },
  {
   "cell_type": "code",
   "execution_count": 42,
   "metadata": {},
   "outputs": [],
   "source": [
    "create_hits_in_live = False\n",
    "environments = {\n",
    "        \"live\": {\n",
    "            \"endpoint\": \"https://mturk-requester.us-east-1.amazonaws.com\",\n",
    "            \"preview\": \"https://www.mturk.com/mturk/preview\",\n",
    "            \"manage\": \"https://requester.mturk.com/mturk/manageHITs\",\n",
    "            \"reward\": \"0.00\"\n",
    "        },\n",
    "        \"sandbox\": {\n",
    "            \"endpoint\": \"https://mturk-requester-sandbox.us-east-1.amazonaws.com\",\n",
    "            \"preview\": \"https://workersandbox.mturk.com/mturk/preview\",\n",
    "            \"manage\": \"https://requestersandbox.mturk.com/mturk/manageHITs\",\n",
    "            \"reward\": \"0.11\"\n",
    "        },\n",
    "}\n",
    "mturk_environment = environments[\"live\"] if create_hits_in_live else environments[\"sandbox\"]"
   ]
  },
  {
   "cell_type": "code",
   "execution_count": 43,
   "metadata": {},
   "outputs": [],
   "source": [
    "session = boto3 #.Session(profile_name='mturk')\n",
    "mturk = session.client(\n",
    "    service_name='mturk',\n",
    "    region_name=AWS_REGION,\n",
    "    aws_access_key_id = AWS_ACCESS_KEY, \n",
    "    aws_secret_access_key = AWS_SECRET,\n",
    "    endpoint_url=mturk_environment['endpoint'],\n",
    ")"
   ]
  },
  {
   "cell_type": "code",
   "execution_count": 44,
   "metadata": {},
   "outputs": [
    {
     "name": "stdout",
     "output_type": "stream",
     "text": [
      "I have $10000.00 in my account\n"
     ]
    }
   ],
   "source": [
    "print(\"I have $\" + mturk.get_account_balance()['AvailableBalance'] + \" in my account\")"
   ]
  },
  {
   "cell_type": "markdown",
   "metadata": {},
   "source": [
    "### Create HITs"
   ]
  },
  {
   "cell_type": "code",
   "execution_count": 101,
   "metadata": {},
   "outputs": [],
   "source": [
    "# Example of using qualification to restrict responses to Workers who have had\n",
    "# at least 80% of their assignments approved. See:\n",
    "# http://docs.aws.amazon.com/AWSMechTurk/latest/AWSMturkAPI/ApiReference_QualificationRequirementDataStructureArticle.html#ApiReference_QualificationType-IDs\n",
    "participant_requirements = {\n",
    "    'QualificationTypeId': '000000000000000000L0',\n",
    "    'Comparator': 'GreaterThanOrEqualTo',\n",
    "    'IntegerValues': [80],\n",
    "    'RequiredToPreview': True,\n",
    "}"
   ]
  },
  {
   "cell_type": "code",
   "execution_count": 102,
   "metadata": {},
   "outputs": [],
   "source": [
    "def create_hit(qualifications):\n",
    "    question_assembled=question_template.format(html_with_link)\n",
    "    # Create the HIT\n",
    "    response = mturk.create_hit(\n",
    "        MaxAssignments=3,\n",
    "        # How long the task will be available on MTurk \n",
    "        LifetimeInSeconds=600,\n",
    "        # How long Participants have to complete each item\n",
    "        AssignmentDurationInSeconds=600,\n",
    "        Reward=mturk_environment['reward'],\n",
    "        Title='This is a desktop Virtual Reality experiment',\n",
    "        Keywords='VR, slow, research',\n",
    "        Description='In this experiment you will slowly move through a building and will have to find specific targets.',\n",
    "        Question=question_assembled,\n",
    "        QualificationRequirements=qualifications,\n",
    "    )\n",
    "    # The response included several fields that will be helpful later\n",
    "    hit_type_id = response['HIT']['HITTypeId']\n",
    "    hit_id = response['HIT']['HITId']\n",
    "    print(\"\\nCreated HIT: {}\".format(hit_id))\n",
    "    print(\"\\nYou can work the HIT here:\")\n",
    "    hit_url=mturk_environment['preview'] + \"?groupId={}\".format(hit_type_id)\n",
    "    print(hit_url)\n",
    "    return hit_id, hit_url"
   ]
  },
  {
   "cell_type": "code",
   "execution_count": 103,
   "metadata": {},
   "outputs": [],
   "source": [
    "df=pd.read_csv(\"../../../../experiment/data/AllCodesNew.csv\")"
   ]
  },
  {
   "cell_type": "code",
   "execution_count": 104,
   "metadata": {},
   "outputs": [],
   "source": [
    "trial_set=df.iloc[0:5]"
   ]
  },
  {
   "cell_type": "code",
   "execution_count": 105,
   "metadata": {
    "scrolled": true
   },
   "outputs": [
    {
     "data": {
      "text/html": [
       "<div>\n",
       "<style scoped>\n",
       "    .dataframe tbody tr th:only-of-type {\n",
       "        vertical-align: middle;\n",
       "    }\n",
       "\n",
       "    .dataframe tbody tr th {\n",
       "        vertical-align: top;\n",
       "    }\n",
       "\n",
       "    .dataframe thead th {\n",
       "        text-align: right;\n",
       "    }\n",
       "</style>\n",
       "<table border=\"1\" class=\"dataframe\">\n",
       "  <thead>\n",
       "    <tr style=\"text-align: right;\">\n",
       "      <th></th>\n",
       "      <th>Unnamed: 0</th>\n",
       "      <th>Phase</th>\n",
       "      <th>Condition</th>\n",
       "      <th>accessCode</th>\n",
       "      <th>exitCode</th>\n",
       "      <th>Reward</th>\n",
       "      <th>ExpID</th>\n",
       "      <th>Bonus</th>\n",
       "    </tr>\n",
       "  </thead>\n",
       "  <tbody>\n",
       "    <tr>\n",
       "      <th>0</th>\n",
       "      <td>0</td>\n",
       "      <td>E1</td>\n",
       "      <td>1</td>\n",
       "      <td>[ExpID=78b9dc93aa6a4cf074d05d28ed1f1373&amp;group=1]</td>\n",
       "      <td>51c53943</td>\n",
       "      <td>undefined</td>\n",
       "      <td>78b9dc93aa6a4cf074d05d28ed1f1373</td>\n",
       "      <td>NaN</td>\n",
       "    </tr>\n",
       "    <tr>\n",
       "      <th>1</th>\n",
       "      <td>1</td>\n",
       "      <td>E1</td>\n",
       "      <td>1</td>\n",
       "      <td>[ExpID=40186ebc8c2b0ee62a7b7a9e23fae41d&amp;group=1]</td>\n",
       "      <td>8489889e</td>\n",
       "      <td>undefined</td>\n",
       "      <td>40186ebc8c2b0ee62a7b7a9e23fae41d</td>\n",
       "      <td>NaN</td>\n",
       "    </tr>\n",
       "    <tr>\n",
       "      <th>2</th>\n",
       "      <td>2</td>\n",
       "      <td>E1</td>\n",
       "      <td>1</td>\n",
       "      <td>[ExpID=5b764a9f6f1f8659f0c025c9c3aa6a06&amp;group=1]</td>\n",
       "      <td>120aa203</td>\n",
       "      <td>undefined</td>\n",
       "      <td>5b764a9f6f1f8659f0c025c9c3aa6a06</td>\n",
       "      <td>NaN</td>\n",
       "    </tr>\n",
       "    <tr>\n",
       "      <th>3</th>\n",
       "      <td>3</td>\n",
       "      <td>E1</td>\n",
       "      <td>1</td>\n",
       "      <td>[ExpID=17200ec4e8dbc1f99453f1039470032b&amp;group=1]</td>\n",
       "      <td>eb49cf00</td>\n",
       "      <td>undefined</td>\n",
       "      <td>17200ec4e8dbc1f99453f1039470032b</td>\n",
       "      <td>NaN</td>\n",
       "    </tr>\n",
       "    <tr>\n",
       "      <th>4</th>\n",
       "      <td>4</td>\n",
       "      <td>E1</td>\n",
       "      <td>1</td>\n",
       "      <td>[ExpID=86148cf006f7bbe6e09a03058d910871&amp;group=1]</td>\n",
       "      <td>a4007bc9</td>\n",
       "      <td>undefined</td>\n",
       "      <td>86148cf006f7bbe6e09a03058d910871</td>\n",
       "      <td>NaN</td>\n",
       "    </tr>\n",
       "  </tbody>\n",
       "</table>\n",
       "</div>"
      ],
      "text/plain": [
       "   Unnamed: 0 Phase  Condition  \\\n",
       "0           0    E1          1   \n",
       "1           1    E1          1   \n",
       "2           2    E1          1   \n",
       "3           3    E1          1   \n",
       "4           4    E1          1   \n",
       "\n",
       "                                         accessCode  exitCode     Reward  \\\n",
       "0  [ExpID=78b9dc93aa6a4cf074d05d28ed1f1373&group=1]  51c53943  undefined   \n",
       "1  [ExpID=40186ebc8c2b0ee62a7b7a9e23fae41d&group=1]  8489889e  undefined   \n",
       "2  [ExpID=5b764a9f6f1f8659f0c025c9c3aa6a06&group=1]  120aa203  undefined   \n",
       "3  [ExpID=17200ec4e8dbc1f99453f1039470032b&group=1]  eb49cf00  undefined   \n",
       "4  [ExpID=86148cf006f7bbe6e09a03058d910871&group=1]  a4007bc9  undefined   \n",
       "\n",
       "                              ExpID  Bonus  \n",
       "0  78b9dc93aa6a4cf074d05d28ed1f1373    NaN  \n",
       "1  40186ebc8c2b0ee62a7b7a9e23fae41d    NaN  \n",
       "2  5b764a9f6f1f8659f0c025c9c3aa6a06    NaN  \n",
       "3  17200ec4e8dbc1f99453f1039470032b    NaN  \n",
       "4  86148cf006f7bbe6e09a03058d910871    NaN  "
      ]
     },
     "execution_count": 105,
     "metadata": {},
     "output_type": "execute_result"
    }
   ],
   "source": [
    "trial_set"
   ]
  },
  {
   "cell_type": "code",
   "execution_count": 106,
   "metadata": {},
   "outputs": [],
   "source": [
    "for idx,trial in trial_set.iterrows():\n",
    "    d={\"challenge\":trial['ExpID'],\n",
    "       \"group\":trial['Condition']}\n",
    "    resp = requests.post(f'{psb_url}/api/display_hits/',headers=h,data=d)"
   ]
  },
  {
   "cell_type": "markdown",
   "metadata": {},
   "source": [
    "## Create Qualification Type if not created yet"
   ]
  },
  {
   "cell_type": "code",
   "execution_count": 107,
   "metadata": {},
   "outputs": [
    {
     "name": "stdout",
     "output_type": "stream",
     "text": [
      "Qualification Type id 38ASA1XP52X28O4KQKNMXGRL079HGF\n"
     ]
    }
   ],
   "source": [
    "qual_type=None\n",
    "qual_name=f'Participated in the experiment {EXPERIMENT_NAME}'\n",
    "try:\n",
    "    response = mturk.list_qualification_types(\n",
    "        Query='participation',\n",
    "        MustBeRequestable=False,\n",
    "        MustBeOwnedByCaller=True,\n",
    "        MaxResults=10\n",
    "    )\n",
    "except:\n",
    "    print(\"Could not retrieve the qualification list\")\n",
    "qualification_list=response['QualificationTypes']\n",
    "for qualification in qualification_list:\n",
    "    if qualification['Name']==qual_name:\n",
    "        qual_type=qualification['QualificationTypeId']\n",
    "        break\n",
    "print(f\"Qualification Type id {qual_type}\")\n",
    "if not qual_type:\n",
    "    print(\"Trying to create Qualification\")\n",
    "    try:\n",
    "        response = mturk.create_qualification_type(\n",
    "            Name=qual_name,\n",
    "            Keywords='participation',\n",
    "            Description='Qualification used to keep track of participation',\n",
    "            QualificationTypeStatus='Active',\n",
    "            RetryDelayInSeconds=600,\n",
    "            AutoGranted=True,\n",
    "            AutoGrantedValue=1\n",
    "        )\n",
    "    except:\n",
    "        print(\"Error creating qualification\")"
   ]
  },
  {
   "cell_type": "code",
   "execution_count": 108,
   "metadata": {},
   "outputs": [],
   "source": [
    "participation_qual={\n",
    "            'QualificationTypeId': qual_type,\n",
    "            'Comparator': 'DoesNotExist', #|'LessThan',|'LessThanOrEqualTo'|'GreaterThan'|'GreaterThanOrEqualTo'|'EqualTo'|'NotEqualTo'|'Exists'|'DoesNotExist'|'In'|'NotIn',\n",
    "            #'IntegerValues': [\n",
    "            #    1,\n",
    "            #],\n",
    "            'ActionsGuarded': 'Accept' #|'PreviewAndAccept'|'DiscoverPreviewAndAccept'\n",
    "        }"
   ]
  },
  {
   "cell_type": "code",
   "execution_count": 109,
   "metadata": {},
   "outputs": [],
   "source": [
    "qualifications_required=[participant_requirements,participation_qual]"
   ]
  },
  {
   "cell_type": "code",
   "execution_count": 131,
   "metadata": {},
   "outputs": [],
   "source": [
    "question_template = open(\"../templates/question_template.xml\", \"r\").read()"
   ]
  },
  {
   "cell_type": "code",
   "execution_count": 132,
   "metadata": {},
   "outputs": [],
   "source": [
    "html_layout = open('../templates/HIT.html', 'r').read()"
   ]
  },
  {
   "cell_type": "code",
   "execution_count": 133,
   "metadata": {},
   "outputs": [],
   "source": [
    "URL=f\"{DATA_COLLECTION_LOCATION}/index.html?ExpID=EEEEEEE&group=GGGGGGG\"\n",
    "html_layout=html_layout.replace('http://localhost:8000/api/get_assignment',f'{psb_url}/api/get_assignment')\n",
    "html_with_link=html_layout.replace('EXPERIMENTLINK',URL)"
   ]
  },
  {
   "cell_type": "code",
   "execution_count": 136,
   "metadata": {},
   "outputs": [],
   "source": [
    "#print(html_with_link)"
   ]
  },
  {
   "cell_type": "code",
   "execution_count": 135,
   "metadata": {},
   "outputs": [
    {
     "name": "stdout",
     "output_type": "stream",
     "text": [
      "\n",
      "Created HIT: 3EGKVCRQFWS0GE0RTLHE6UATNX0BYQ\n",
      "\n",
      "You can work the HIT here:\n",
      "https://workersandbox.mturk.com/mturk/preview?groupId=39W86F26ZQQO7STXW1JKDCOQIHWR7U\n"
     ]
    },
    {
     "data": {
      "text/html": [
       "<div>\n",
       "<style scoped>\n",
       "    .dataframe tbody tr th:only-of-type {\n",
       "        vertical-align: middle;\n",
       "    }\n",
       "\n",
       "    .dataframe tbody tr th {\n",
       "        vertical-align: top;\n",
       "    }\n",
       "\n",
       "    .dataframe thead th {\n",
       "        text-align: right;\n",
       "    }\n",
       "</style>\n",
       "<table border=\"1\" class=\"dataframe\">\n",
       "  <thead>\n",
       "    <tr style=\"text-align: right;\">\n",
       "      <th></th>\n",
       "      <th>HITId</th>\n",
       "      <th>HIT_URL</th>\n",
       "      <th>RESP_CHALLENGE</th>\n",
       "      <th>URL</th>\n",
       "    </tr>\n",
       "  </thead>\n",
       "  <tbody>\n",
       "    <tr>\n",
       "      <th>0</th>\n",
       "      <td>3EGKVCRQFWS0GE0RTLHE6UATNX0BYQ</td>\n",
       "      <td>https://workersandbox.mturk.com/mturk/preview?...</td>\n",
       "      <td>a4007bc9</td>\n",
       "      <td>http://zoll-experiment.s3.amazonaws.com/index....</td>\n",
       "    </tr>\n",
       "  </tbody>\n",
       "</table>\n",
       "</div>"
      ],
      "text/plain": [
       "                            HITId  \\\n",
       "0  3EGKVCRQFWS0GE0RTLHE6UATNX0BYQ   \n",
       "\n",
       "                                             HIT_URL RESP_CHALLENGE  \\\n",
       "0  https://workersandbox.mturk.com/mturk/preview?...       a4007bc9   \n",
       "\n",
       "                                                 URL  \n",
       "0  http://zoll-experiment.s3.amazonaws.com/index....  "
      ]
     },
     "execution_count": 135,
     "metadata": {},
     "output_type": "execute_result"
    }
   ],
   "source": [
    "output = pd.DataFrame()\n",
    "hit_id, hit_url=create_hit(qualifications_required)\n",
    "results={\"HITId\":hit_id,\"URL\":URL,\"RESP_CHALLENGE\":trial['exitCode'], \"HIT_URL\":hit_url}\n",
    "output.append(results, ignore_index=True)"
   ]
  },
  {
   "cell_type": "code",
   "execution_count": 111,
   "metadata": {},
   "outputs": [
    {
     "ename": "TypeError",
     "evalue": "string indices must be integers",
     "output_type": "error",
     "traceback": [
      "\u001b[0;31m---------------------------------------------------------------------------\u001b[0m",
      "\u001b[0;31mTypeError\u001b[0m                                 Traceback (most recent call last)",
      "\u001b[0;32m<ipython-input-111-6d1328abbc85>\u001b[0m in \u001b[0;36m<module>\u001b[0;34m\u001b[0m\n\u001b[1;32m      1\u001b[0m \u001b[0;32mfor\u001b[0m \u001b[0mitem\u001b[0m \u001b[0;32min\u001b[0m \u001b[0mresults\u001b[0m\u001b[0;34m:\u001b[0m\u001b[0;34m\u001b[0m\u001b[0;34m\u001b[0m\u001b[0m\n\u001b[1;32m      2\u001b[0m     \u001b[0;31m# Get the status of the HIT\u001b[0m\u001b[0;34m\u001b[0m\u001b[0;34m\u001b[0m\u001b[0;34m\u001b[0m\u001b[0m\n\u001b[0;32m----> 3\u001b[0;31m     \u001b[0mhit\u001b[0m \u001b[0;34m=\u001b[0m \u001b[0mmturk\u001b[0m\u001b[0;34m.\u001b[0m\u001b[0mget_hit\u001b[0m\u001b[0;34m(\u001b[0m\u001b[0mHITId\u001b[0m\u001b[0;34m=\u001b[0m\u001b[0mitem\u001b[0m\u001b[0;34m[\u001b[0m\u001b[0;34m'HITId'\u001b[0m\u001b[0;34m]\u001b[0m\u001b[0;34m)\u001b[0m\u001b[0;34m\u001b[0m\u001b[0;34m\u001b[0m\u001b[0m\n\u001b[0m\u001b[1;32m      4\u001b[0m     \u001b[0mitem\u001b[0m\u001b[0;34m[\u001b[0m\u001b[0;34m'status'\u001b[0m\u001b[0;34m]\u001b[0m \u001b[0;34m=\u001b[0m \u001b[0mhit\u001b[0m\u001b[0;34m[\u001b[0m\u001b[0;34m'HIT'\u001b[0m\u001b[0;34m]\u001b[0m\u001b[0;34m[\u001b[0m\u001b[0;34m'HITStatus'\u001b[0m\u001b[0;34m]\u001b[0m\u001b[0;34m\u001b[0m\u001b[0;34m\u001b[0m\u001b[0m\n\u001b[1;32m      5\u001b[0m     \u001b[0;31m# Get a list of the Assignments that have been submitted\u001b[0m\u001b[0;34m\u001b[0m\u001b[0;34m\u001b[0m\u001b[0;34m\u001b[0m\u001b[0m\n",
      "\u001b[0;31mTypeError\u001b[0m: string indices must be integers"
     ]
    }
   ],
   "source": [
    "for item in results:\n",
    "    # Get the status of the HIT\n",
    "    hit = mturk.get_hit(HITId=item['HITId'])\n",
    "    item['status'] = hit['HIT']['HITStatus']\n",
    "    # Get a list of the Assignments that have been submitted\n",
    "    assignmentsList = mturk.list_assignments_for_hit(\n",
    "        HITId=item['HITId'],\n",
    "        #AssignmentStatuses=['Submitted', 'Approved'],\n",
    "        MaxResults=10\n",
    "    )\n",
    "    assignments = assignmentsList['Assignments']\n",
    "    item['assignments_submitted_count'] = len(assignments)\n",
    "    responses = []\n",
    "    #pp.pprint(assignmentsList)\n",
    "    for assignment in assignments:\n",
    "        # Retreive the attributes for each Assignment\n",
    "        worker_id = assignment['WorkerId']\n",
    "        assignment_id = assignment['AssignmentId']\n",
    "        \n",
    "        # Retrieve the value submitted by the Worker from the XML\n",
    "        answer_dict = xmltodict.parse(assignment['Answer'])\n",
    "        answer = answer_dict['QuestionFormAnswers']['Answer']['FreeText']\n",
    "        status=assignment['AssignmentStatus']\n",
    "        #print(assignment)\n",
    "        # Approve the Assignment (if it hasn't been already)\n",
    "        if assignment['AssignmentStatus']=='Submitted':\n",
    "            print(\"### Evaluating assignment\")\n",
    "            \n",
    "            if answer == item[\"RESP_CHALLENGE\"]:\n",
    "                status='Approved'\n",
    "                response = mturk.approve_assignment(\n",
    "                    AssignmentId=assignment_id,\n",
    "                    RequesterFeedback='##Thank you for participating in this study',\n",
    "                    OverrideRejection=False\n",
    "                )\n",
    "            else:\n",
    "                status='Rejected'\n",
    "                response = mturk.reject_assignment(\n",
    "                    AssignmentId=assignment_id,\n",
    "                    RequesterFeedback='@@Sorry, could\\'t validate your response'\n",
    "                )\n",
    "            response = mturk.associate_qualification_with_worker(\n",
    "                QualificationTypeId=qual_type,\n",
    "                WorkerId=worker_id,\n",
    "                IntegerValue=1,\n",
    "                SendNotification=False\n",
    "            )\n",
    "            responses.append({'answer':answer,'WorkerId':worker_id,'AssignmentId':assignment_id,'Status':status})\n",
    "        else:\n",
    "            responses.append({'answer':answer,'WorkerId':worker_id,'AssignmentId':assignment_id,'Status':status})\n",
    "            #pp.pprint(assignment)\n",
    "    # Add the answers that have been retrieved for this item\n",
    "    item['responses'] = responses\n",
    "print(json.dumps(results,indent=2))"
   ]
  },
  {
   "cell_type": "code",
   "execution_count": null,
   "metadata": {},
   "outputs": [],
   "source": []
  },
  {
   "cell_type": "code",
   "execution_count": 47,
   "metadata": {},
   "outputs": [
    {
     "name": "stdout",
     "output_type": "stream",
     "text": [
      "[\n",
      "  {\n",
      "    \"HITId\": \"3LB1BGHFL2W0C0U8T78Z6OGFT12YTZ\",\n",
      "    \"URL\": \"http://zoll-experiment.s3.amazonaws.com/index.html?ExpID=78b9dc93aa6a4cf074d05d28ed1f1373&group=1\",\n",
      "    \"RESP_CHALLENGE\": \"51c53943\",\n",
      "    \"HIT_URL\": \"https://workersandbox.mturk.com/mturk/preview?groupId=3MY6FNYS863U5KF2USGZH62EPF52BA\",\n",
      "    \"status\": \"Assignable\",\n",
      "    \"assignments_submitted_count\": 0,\n",
      "    \"responses\": []\n",
      "  },\n",
      "  {\n",
      "    \"HITId\": \"3XJOUITW8URR3Y3M2XR5T2DDUSLTQR\",\n",
      "    \"URL\": \"http://zoll-experiment.s3.amazonaws.com/index.html?ExpID=40186ebc8c2b0ee62a7b7a9e23fae41d&group=1\",\n",
      "    \"RESP_CHALLENGE\": \"8489889e\",\n",
      "    \"HIT_URL\": \"https://workersandbox.mturk.com/mturk/preview?groupId=3MY6FNYS863U5KF2USGZH62EPF52BA\",\n",
      "    \"status\": \"Reviewable\",\n",
      "    \"assignments_submitted_count\": 1,\n",
      "    \"responses\": [\n",
      "      {\n",
      "        \"answer\": \"51c53943\",\n",
      "        \"WorkerId\": \"AO18L4K2NAU0S\",\n",
      "        \"AssignmentId\": \"3G2UL9A02DEDI2LO0NF76L0K4DD67N\",\n",
      "        \"Status\": \"Rejected\"\n",
      "      }\n",
      "    ]\n",
      "  },\n",
      "  {\n",
      "    \"HITId\": \"32TZXEA1OLKJ594F2H0IKTTD6HD149\",\n",
      "    \"URL\": \"http://zoll-experiment.s3.amazonaws.com/index.html?ExpID=5b764a9f6f1f8659f0c025c9c3aa6a06&group=1\",\n",
      "    \"RESP_CHALLENGE\": \"120aa203\",\n",
      "    \"HIT_URL\": \"https://workersandbox.mturk.com/mturk/preview?groupId=3MY6FNYS863U5KF2USGZH62EPF52BA\",\n",
      "    \"status\": \"Reviewable\",\n",
      "    \"assignments_submitted_count\": 1,\n",
      "    \"responses\": [\n",
      "      {\n",
      "        \"answer\": \"51c53943\",\n",
      "        \"WorkerId\": \"AO18L4K2NAU0S\",\n",
      "        \"AssignmentId\": \"3634BBTX0OU6QFVVK7M8RG36BSRIFX\",\n",
      "        \"Status\": \"Rejected\"\n",
      "      }\n",
      "    ]\n",
      "  }\n",
      "]\n"
     ]
    }
   ],
   "source": [
    "print(json.dumps(results,indent=2))"
   ]
  },
  {
   "cell_type": "code",
   "execution_count": null,
   "metadata": {},
   "outputs": [],
   "source": []
  },
  {
   "cell_type": "markdown",
   "metadata": {},
   "source": [
    "# Check HITs"
   ]
  },
  {
   "cell_type": "markdown",
   "metadata": {},
   "source": [
    "### List assignments"
   ]
  },
  {
   "cell_type": "code",
   "execution_count": 48,
   "metadata": {},
   "outputs": [],
   "source": [
    "all_hits=mturk.list_hits()"
   ]
  },
  {
   "cell_type": "code",
   "execution_count": 49,
   "metadata": {},
   "outputs": [
    {
     "name": "stdout",
     "output_type": "stream",
     "text": [
      "3XJOUITW8URR3Y3M2XR5T2DDUSLTQR\n",
      "This is a desktop Virtual Reality experiment\n",
      "1\n",
      "{   'AssignmentDurationInSeconds': 600,\n",
      "    'AutoApprovalDelayInSeconds': 2592000,\n",
      "    'CreationTime': datetime.datetime(2021, 3, 14, 12, 55, 27, tzinfo=tzlocal()),\n",
      "    'Description': 'In this experiment you will slowly move through a building '\n",
      "                   'and will have to find specific targets.',\n",
      "    'Expiration': datetime.datetime(2021, 3, 14, 13, 5, 27, tzinfo=tzlocal()),\n",
      "    'HITGroupId': '3RC5MYEBOEU78M0IKQNQ3GAJG35TP6',\n",
      "    'HITId': '3XJOUITW8URR3Y3M2XR5T2DDUSLTQR',\n",
      "    'HITReviewStatus': 'NotReviewed',\n",
      "    'HITStatus': 'Reviewable',\n",
      "    'HITTypeId': '3MY6FNYS863U5KF2USGZH62EPF52BA',\n",
      "    'Keywords': 'VR, slow, research',\n",
      "    'MaxAssignments': 1,\n",
      "    'NumberOfAssignmentsAvailable': 0,\n",
      "    'NumberOfAssignmentsCompleted': 1,\n",
      "    'NumberOfAssignmentsPending': 0,\n",
      "    'QualificationRequirements': [   {   'ActionsGuarded': 'PreviewAndAccept',\n",
      "                                         'Comparator': 'GreaterThanOrEqualTo',\n",
      "                                         'IntegerValues': [80],\n",
      "                                         'QualificationTypeId': '000000000000000000L0',\n",
      "                                         'RequiredToPreview': True},\n",
      "                                     {   'ActionsGuarded': 'Accept',\n",
      "                                         'Comparator': 'DoesNotExist',\n",
      "                                         'QualificationTypeId': '3BR5SIVR7VUQOEDI0JFGCDU88RBEGQ',\n",
      "                                         'RequiredToPreview': False}],\n",
      "    'Question': '<HTMLQuestion '\n",
      "                'xmlns=\"http://mechanicalturk.amazonaws.com/AWSMechanicalTurkDataSchemas/2011-11-11/HTMLQuestion.xsd\">\\n'\n",
      "                '  <HTMLContent><![CDATA[<!DOCTYPE html>\\n'\n",
      "                '<html>\\n'\n",
      "                ' <head>\\n'\n",
      "                \"  <meta http-equiv='Content-Type' content='text/html; \"\n",
      "                \"charset=UTF-8'/>\\n\"\n",
      "                \"  <script type='text/javascript' \"\n",
      "                \"src='https://s3.amazonaws.com/mturk-public/externalHIT_v1.js'></script>\\n\"\n",
      "                ' </head>\\n'\n",
      "                ' <body>\\n'\n",
      "                '  You will find the experiment in the following link:<br>\\n'\n",
      "                '  <a '\n",
      "                'href=\"http://zoll-experiment.s3.amazonaws.com/index.html?ExpID=40186ebc8c2b0ee62a7b7a9e23fae41d&group=1\">http://zoll-experiment.s3.amazonaws.com/index.html?ExpID=40186ebc8c2b0ee62a7b7a9e23fae41d&group=1</a>\\n'\n",
      "                '  <br>\\n'\n",
      "                '  <br>\\n'\n",
      "                '  <br>\\n'\n",
      "                \"  <form name='mturk_form' method='post' id='mturk_form' \"\n",
      "                \"action='https://www.mturk.com/mturk/externalSubmit'>\\n\"\n",
      "                \"  <input type='hidden' value='' name='assignmentId' \"\n",
      "                \"id='assignmentId'/>\\n\"\n",
      "                '  After completing the experiment please enter the response '\n",
      "                'code below:<br>\\n'\n",
      "                '  <p><textarea style=\"resize:none\" name=\\'response_code\\' '\n",
      "                \"cols='50' rows='1'></textarea></p>\\n\"\n",
      "                \"  <p><input type='submit' id='submitButton' value='Submit' \"\n",
      "                '/></p></form>\\n'\n",
      "                '  <script '\n",
      "                \"language='Javascript'>turkSetAssignmentID();</script>\\n\"\n",
      "                ' </body>\\n'\n",
      "                '</html>\\n'\n",
      "                ']]>\\n'\n",
      "                '  </HTMLContent>\\n'\n",
      "                '  <FrameHeight>450</FrameHeight>\\n'\n",
      "                '</HTMLQuestion>\\n',\n",
      "    'Reward': '0.11',\n",
      "    'Title': 'This is a desktop Virtual Reality experiment'}\n",
      "None\n",
      "32TZXEA1OLKJ594F2H0IKTTD6HD149\n",
      "This is a desktop Virtual Reality experiment\n",
      "1\n",
      "{   'AssignmentDurationInSeconds': 600,\n",
      "    'AutoApprovalDelayInSeconds': 2592000,\n",
      "    'CreationTime': datetime.datetime(2021, 3, 14, 12, 55, 27, tzinfo=tzlocal()),\n",
      "    'Description': 'In this experiment you will slowly move through a building '\n",
      "                   'and will have to find specific targets.',\n",
      "    'Expiration': datetime.datetime(2021, 3, 14, 13, 5, 27, tzinfo=tzlocal()),\n",
      "    'HITGroupId': '3RC5MYEBOEU78M0IKQNQ3GAJG35TP6',\n",
      "    'HITId': '32TZXEA1OLKJ594F2H0IKTTD6HD149',\n",
      "    'HITReviewStatus': 'NotReviewed',\n",
      "    'HITStatus': 'Reviewable',\n",
      "    'HITTypeId': '3MY6FNYS863U5KF2USGZH62EPF52BA',\n",
      "    'Keywords': 'VR, slow, research',\n",
      "    'MaxAssignments': 1,\n",
      "    'NumberOfAssignmentsAvailable': 0,\n",
      "    'NumberOfAssignmentsCompleted': 1,\n",
      "    'NumberOfAssignmentsPending': 0,\n",
      "    'QualificationRequirements': [   {   'ActionsGuarded': 'PreviewAndAccept',\n",
      "                                         'Comparator': 'GreaterThanOrEqualTo',\n",
      "                                         'IntegerValues': [80],\n",
      "                                         'QualificationTypeId': '000000000000000000L0',\n",
      "                                         'RequiredToPreview': True},\n",
      "                                     {   'ActionsGuarded': 'Accept',\n",
      "                                         'Comparator': 'DoesNotExist',\n",
      "                                         'QualificationTypeId': '3BR5SIVR7VUQOEDI0JFGCDU88RBEGQ',\n",
      "                                         'RequiredToPreview': False}],\n",
      "    'Question': '<HTMLQuestion '\n",
      "                'xmlns=\"http://mechanicalturk.amazonaws.com/AWSMechanicalTurkDataSchemas/2011-11-11/HTMLQuestion.xsd\">\\n'\n",
      "                '  <HTMLContent><![CDATA[<!DOCTYPE html>\\n'\n",
      "                '<html>\\n'\n",
      "                ' <head>\\n'\n",
      "                \"  <meta http-equiv='Content-Type' content='text/html; \"\n",
      "                \"charset=UTF-8'/>\\n\"\n",
      "                \"  <script type='text/javascript' \"\n",
      "                \"src='https://s3.amazonaws.com/mturk-public/externalHIT_v1.js'></script>\\n\"\n",
      "                ' </head>\\n'\n",
      "                ' <body>\\n'\n",
      "                '  You will find the experiment in the following link:<br>\\n'\n",
      "                '  <a '\n",
      "                'href=\"http://zoll-experiment.s3.amazonaws.com/index.html?ExpID=5b764a9f6f1f8659f0c025c9c3aa6a06&group=1\">http://zoll-experiment.s3.amazonaws.com/index.html?ExpID=5b764a9f6f1f8659f0c025c9c3aa6a06&group=1</a>\\n'\n",
      "                '  <br>\\n'\n",
      "                '  <br>\\n'\n",
      "                '  <br>\\n'\n",
      "                \"  <form name='mturk_form' method='post' id='mturk_form' \"\n",
      "                \"action='https://www.mturk.com/mturk/externalSubmit'>\\n\"\n",
      "                \"  <input type='hidden' value='' name='assignmentId' \"\n",
      "                \"id='assignmentId'/>\\n\"\n",
      "                '  After completing the experiment please enter the response '\n",
      "                'code below:<br>\\n'\n",
      "                '  <p><textarea style=\"resize:none\" name=\\'response_code\\' '\n",
      "                \"cols='50' rows='1'></textarea></p>\\n\"\n",
      "                \"  <p><input type='submit' id='submitButton' value='Submit' \"\n",
      "                '/></p></form>\\n'\n",
      "                '  <script '\n",
      "                \"language='Javascript'>turkSetAssignmentID();</script>\\n\"\n",
      "                ' </body>\\n'\n",
      "                '</html>\\n'\n",
      "                ']]>\\n'\n",
      "                '  </HTMLContent>\\n'\n",
      "                '  <FrameHeight>450</FrameHeight>\\n'\n",
      "                '</HTMLQuestion>\\n',\n",
      "    'Reward': '0.11',\n",
      "    'Title': 'This is a desktop Virtual Reality experiment'}\n",
      "None\n",
      "3LB1BGHFL2W0C0U8T78Z6OGFT12YTZ\n",
      "This is a desktop Virtual Reality experiment\n",
      "0\n",
      "{   'AssignmentDurationInSeconds': 600,\n",
      "    'AutoApprovalDelayInSeconds': 2592000,\n",
      "    'CreationTime': datetime.datetime(2021, 3, 14, 12, 55, 26, tzinfo=tzlocal()),\n",
      "    'Description': 'In this experiment you will slowly move through a building '\n",
      "                   'and will have to find specific targets.',\n",
      "    'Expiration': datetime.datetime(2021, 3, 14, 13, 5, 26, tzinfo=tzlocal()),\n",
      "    'HITGroupId': '3RC5MYEBOEU78M0IKQNQ3GAJG35TP6',\n",
      "    'HITId': '3LB1BGHFL2W0C0U8T78Z6OGFT12YTZ',\n",
      "    'HITReviewStatus': 'NotReviewed',\n",
      "    'HITStatus': 'Assignable',\n",
      "    'HITTypeId': '3MY6FNYS863U5KF2USGZH62EPF52BA',\n",
      "    'Keywords': 'VR, slow, research',\n",
      "    'MaxAssignments': 1,\n",
      "    'NumberOfAssignmentsAvailable': 1,\n",
      "    'NumberOfAssignmentsCompleted': 0,\n",
      "    'NumberOfAssignmentsPending': 0,\n",
      "    'QualificationRequirements': [   {   'ActionsGuarded': 'PreviewAndAccept',\n",
      "                                         'Comparator': 'GreaterThanOrEqualTo',\n",
      "                                         'IntegerValues': [80],\n",
      "                                         'QualificationTypeId': '000000000000000000L0',\n",
      "                                         'RequiredToPreview': True},\n",
      "                                     {   'ActionsGuarded': 'Accept',\n",
      "                                         'Comparator': 'DoesNotExist',\n",
      "                                         'QualificationTypeId': '3BR5SIVR7VUQOEDI0JFGCDU88RBEGQ',\n",
      "                                         'RequiredToPreview': False}],\n",
      "    'Question': '<HTMLQuestion '\n",
      "                'xmlns=\"http://mechanicalturk.amazonaws.com/AWSMechanicalTurkDataSchemas/2011-11-11/HTMLQuestion.xsd\">\\n'\n",
      "                '  <HTMLContent><![CDATA[<!DOCTYPE html>\\n'\n",
      "                '<html>\\n'\n",
      "                ' <head>\\n'\n",
      "                \"  <meta http-equiv='Content-Type' content='text/html; \"\n",
      "                \"charset=UTF-8'/>\\n\"\n",
      "                \"  <script type='text/javascript' \"\n",
      "                \"src='https://s3.amazonaws.com/mturk-public/externalHIT_v1.js'></script>\\n\"\n",
      "                ' </head>\\n'\n",
      "                ' <body>\\n'\n",
      "                '  You will find the experiment in the following link:<br>\\n'\n",
      "                '  <a '\n",
      "                'href=\"http://zoll-experiment.s3.amazonaws.com/index.html?ExpID=78b9dc93aa6a4cf074d05d28ed1f1373&group=1\">http://zoll-experiment.s3.amazonaws.com/index.html?ExpID=78b9dc93aa6a4cf074d05d28ed1f1373&group=1</a>\\n'\n",
      "                '  <br>\\n'\n",
      "                '  <br>\\n'\n",
      "                '  <br>\\n'\n",
      "                \"  <form name='mturk_form' method='post' id='mturk_form' \"\n",
      "                \"action='https://www.mturk.com/mturk/externalSubmit'>\\n\"\n",
      "                \"  <input type='hidden' value='' name='assignmentId' \"\n",
      "                \"id='assignmentId'/>\\n\"\n",
      "                '  After completing the experiment please enter the response '\n",
      "                'code below:<br>\\n'\n",
      "                '  <p><textarea style=\"resize:none\" name=\\'response_code\\' '\n",
      "                \"cols='50' rows='1'></textarea></p>\\n\"\n",
      "                \"  <p><input type='submit' id='submitButton' value='Submit' \"\n",
      "                '/></p></form>\\n'\n",
      "                '  <script '\n",
      "                \"language='Javascript'>turkSetAssignmentID();</script>\\n\"\n",
      "                ' </body>\\n'\n",
      "                '</html>\\n'\n",
      "                ']]>\\n'\n",
      "                '  </HTMLContent>\\n'\n",
      "                '  <FrameHeight>450</FrameHeight>\\n'\n",
      "                '</HTMLQuestion>\\n',\n",
      "    'Reward': '0.11',\n",
      "    'Title': 'This is a desktop Virtual Reality experiment'}\n",
      "None\n"
     ]
    }
   ],
   "source": [
    "for h in all_hits['HITs']:\n",
    "    print(h['HITId'])\n",
    "    print(h['Title'])\n",
    "    print(h['NumberOfAssignmentsCompleted'])\n",
    "    print(pp.pprint(h))"
   ]
  },
  {
   "cell_type": "code",
   "execution_count": 33,
   "metadata": {},
   "outputs": [
    {
     "name": "stdout",
     "output_type": "stream",
     "text": [
      "3XJOUITW8URR3Y3M2XR5T2DDUSLTQR\n",
      "This is a desktop Virtual Reality experiment\n",
      "{'NextToken': 'p1:E+npAcGnF2L/UWnt6bgjlDh7Nuxt4m70NK4d09DTRcGj4idK0EkMm88N9PKyq3w=', 'NumResults': 1, 'Assignments': [{'AssignmentId': '3G2UL9A02DEDI2LO0NF76L0K4DD67N', 'WorkerId': 'AO18L4K2NAU0S', 'HITId': '3XJOUITW8URR3Y3M2XR5T2DDUSLTQR', 'AssignmentStatus': 'Rejected', 'AutoApprovalTime': datetime.datetime(2021, 4, 13, 12, 56, 46, tzinfo=tzlocal()), 'AcceptTime': datetime.datetime(2021, 3, 14, 12, 56, 39, tzinfo=tzlocal()), 'SubmitTime': datetime.datetime(2021, 3, 14, 12, 56, 46, tzinfo=tzlocal()), 'RejectionTime': datetime.datetime(2021, 3, 14, 12, 57, 35, tzinfo=tzlocal()), 'Answer': '<?xml version=\"1.0\" encoding=\"ASCII\"?><QuestionFormAnswers xmlns=\"http://mechanicalturk.amazonaws.com/AWSMechanicalTurkDataSchemas/2005-10-01/QuestionFormAnswers.xsd\"><Answer><QuestionIdentifier>response_code</QuestionIdentifier><FreeText>51c53943</FreeText></Answer></QuestionFormAnswers>', 'RequesterFeedback': \"@@Sorry, could't validate your response\"}], 'ResponseMetadata': {'RequestId': '7e75682e-79cb-4e0e-9266-1125d9c9518b', 'HTTPStatusCode': 200, 'HTTPHeaders': {'x-amzn-requestid': '7e75682e-79cb-4e0e-9266-1125d9c9518b', 'content-type': 'application/x-amz-json-1.1', 'content-length': '748', 'date': 'Sun, 14 Mar 2021 12:58:06 GMT'}, 'RetryAttempts': 0}}\n",
      "32TZXEA1OLKJ594F2H0IKTTD6HD149\n",
      "This is a desktop Virtual Reality experiment\n",
      "{'NextToken': 'p1:hzHfPaJwYtxj7xKwFfWFTRXUN6JT7y2TTsnBfvrnFHxjolbiHxuJDGtJf9d8wFo=', 'NumResults': 1, 'Assignments': [{'AssignmentId': '3634BBTX0OU6QFVVK7M8RG36BSRIFX', 'WorkerId': 'AO18L4K2NAU0S', 'HITId': '32TZXEA1OLKJ594F2H0IKTTD6HD149', 'AssignmentStatus': 'Rejected', 'AutoApprovalTime': datetime.datetime(2021, 4, 13, 12, 56, 35, tzinfo=tzlocal()), 'AcceptTime': datetime.datetime(2021, 3, 14, 12, 56, 31, tzinfo=tzlocal()), 'SubmitTime': datetime.datetime(2021, 3, 14, 12, 56, 35, tzinfo=tzlocal()), 'RejectionTime': datetime.datetime(2021, 3, 14, 12, 57, 7, tzinfo=tzlocal()), 'Answer': '<?xml version=\"1.0\" encoding=\"ASCII\"?><QuestionFormAnswers xmlns=\"http://mechanicalturk.amazonaws.com/AWSMechanicalTurkDataSchemas/2005-10-01/QuestionFormAnswers.xsd\"><Answer><QuestionIdentifier>response_code</QuestionIdentifier><FreeText>51c53943</FreeText></Answer></QuestionFormAnswers>', 'RequesterFeedback': \"@@Sorry, could't validate your response\"}], 'ResponseMetadata': {'RequestId': '0ca8e25b-c1a3-4502-8ecf-e3dc095c7c38', 'HTTPStatusCode': 200, 'HTTPHeaders': {'x-amzn-requestid': '0ca8e25b-c1a3-4502-8ecf-e3dc095c7c38', 'content-type': 'application/x-amz-json-1.1', 'content-length': '748', 'date': 'Sun, 14 Mar 2021 12:58:06 GMT'}, 'RetryAttempts': 0}}\n",
      "3LB1BGHFL2W0C0U8T78Z6OGFT12YTZ\n",
      "This is a desktop Virtual Reality experiment\n",
      "{\n",
      "  \"NumResults\": 0,\n",
      "  \"Assignments\": [],\n",
      "  \"ResponseMetadata\": {\n",
      "    \"RequestId\": \"464c539f-1e3a-40b4-a592-40eae7a4c758\",\n",
      "    \"HTTPStatusCode\": 200,\n",
      "    \"HTTPHeaders\": {\n",
      "      \"x-amzn-requestid\": \"464c539f-1e3a-40b4-a592-40eae7a4c758\",\n",
      "      \"content-type\": \"application/x-amz-json-1.1\",\n",
      "      \"content-length\": \"33\",\n",
      "      \"date\": \"Sun, 14 Mar 2021 12:58:06 GMT\"\n",
      "    },\n",
      "    \"RetryAttempts\": 0\n",
      "  }\n",
      "}\n"
     ]
    }
   ],
   "source": [
    "for h in all_hits['HITs']:\n",
    "    print(h['HITId'])\n",
    "    print(h['Title'])\n",
    "    HITId=h['HITId']\n",
    "    response = mturk.list_assignments_for_hit(\n",
    "        HITId=HITId,\n",
    "        MaxResults=100,\n",
    "        AssignmentStatuses=[\n",
    "            'Submitted','Approved','Rejected'\n",
    "        ]\n",
    "    )\n",
    "    try:\n",
    "        print (json.dumps(response, indent=2))\n",
    "    except:\n",
    "        print(response)"
   ]
  },
  {
   "cell_type": "markdown",
   "metadata": {},
   "source": [
    "### Aprove all assignments in HIT"
   ]
  },
  {
   "cell_type": "code",
   "execution_count": 48,
   "metadata": {},
   "outputs": [],
   "source": [
    "def approveAllAssignments(hit_id):\n",
    "    # Get HIT status\n",
    "    status=mturk.get_hit(HITId=hit_id)['HIT']['HITStatus']\n",
    "    print('HITStatus:', status)\n",
    "    if status == 'Reviewable':\n",
    "        assignments = mturk.list_assignments_for_hit(HITId=hit_id, AssignmentStatuses=['Submitted'])\n",
    "        if assignments['NumResults'] > 0:\n",
    "            for assign in assignments['Assignments']:\n",
    "                mturk.approve_assignment(AssignmentId=assign['AssignmentId'])\n",
    "                print(\"Approved: \"+assign['AssignmentId'])"
   ]
  },
  {
   "cell_type": "markdown",
   "metadata": {},
   "source": [
    "### Aprove all assignments in all HITs"
   ]
  },
  {
   "cell_type": "code",
   "execution_count": 49,
   "metadata": {},
   "outputs": [
    {
     "name": "stdout",
     "output_type": "stream",
     "text": [
      "HITStatus: Reviewable\n",
      "HITStatus: Reviewable\n",
      "HITStatus: Reviewable\n"
     ]
    }
   ],
   "source": [
    "for item in mturk.list_hits()['HITs']:\n",
    "    hit_id=item['HITId']\n",
    "    approveAllAssignments(hit_id)"
   ]
  },
  {
   "cell_type": "markdown",
   "metadata": {},
   "source": [
    "# DANGER ZONE"
   ]
  },
  {
   "cell_type": "markdown",
   "metadata": {},
   "source": [
    "### Force Delete HITS"
   ]
  },
  {
   "cell_type": "code",
   "execution_count": 50,
   "metadata": {},
   "outputs": [],
   "source": [
    "# Delete HIT\n",
    "def deleteHit(hit_id):\n",
    "    # Get HIT status\n",
    "    status=mturk.get_hit(HITId=hit_id)['HIT']['HITStatus']\n",
    "    print('HITStatus:', status)\n",
    "\n",
    "    # If HIT is active then set it to expire immediately\n",
    "    if status=='Assignable' or status=='Unassignable':\n",
    "        print(\"Forcing it to expire\")\n",
    "        response = mturk.update_expiration_for_hit(\n",
    "            HITId=hit_id,\n",
    "            ExpireAt=datetime.datetime(2015, 1, 1)\n",
    "        )        \n",
    "    # Delete the HIT\n",
    "    try:\n",
    "        mturk.delete_hit(HITId=hit_id)\n",
    "    except Exception as e: \n",
    "        print(e)\n",
    "        print('Not deleted')\n",
    "    else:\n",
    "        print('Deleted')"
   ]
  },
  {
   "cell_type": "markdown",
   "metadata": {},
   "source": [
    "### Delete All Hits"
   ]
  },
  {
   "cell_type": "code",
   "execution_count": 51,
   "metadata": {},
   "outputs": [
    {
     "name": "stdout",
     "output_type": "stream",
     "text": [
      "HITId: 3XJOUITW8URR3Y3M2XR5T2DDUSLTQR\n",
      "HITStatus: Reviewable\n",
      "Deleted\n",
      "HITId: 32TZXEA1OLKJ594F2H0IKTTD6HD149\n",
      "HITStatus: Reviewable\n",
      "Deleted\n",
      "HITId: 3LB1BGHFL2W0C0U8T78Z6OGFT12YTZ\n",
      "HITStatus: Reviewable\n",
      "Deleted\n"
     ]
    }
   ],
   "source": [
    "for item in mturk.list_hits()['HITs']:\n",
    "    hit_id=item['HITId']\n",
    "    print('HITId:', hit_id)\n",
    "    deleteHit(hit_id)"
   ]
  },
  {
   "cell_type": "code",
   "execution_count": 52,
   "metadata": {},
   "outputs": [],
   "source": [
    "for item in mturk.list_hits()['HITs']:\n",
    "    print(f\"HITId:{hit_id}\")\n",
    "    status=mturk.get_hit(HITId=item['HITId'])['HIT']['HITStatus']\n",
    "    print(status)"
   ]
  },
  {
   "cell_type": "markdown",
   "metadata": {},
   "source": [
    "# Loop and force delete all"
   ]
  },
  {
   "cell_type": "code",
   "execution_count": 53,
   "metadata": {},
   "outputs": [],
   "source": [
    "while len(mturk.list_hits()['HITs']):\n",
    "    for item in mturk.list_hits()['HITs']:\n",
    "        hit_id=item['HITId']\n",
    "        print('HITId:', hit_id)\n",
    "        deleteHit(hit_id)\n",
    "    for item in mturk.list_hits()['HITs']:\n",
    "        print(f\"HITId:{hit_id}\")\n",
    "        status=mturk.get_hit(HITId=item['HITId'])['HIT']['HITStatus']\n",
    "        print(status)\n",
    "    print(\"Sleeping now\")\n",
    "    time.sleep(10)"
   ]
  },
  {
   "cell_type": "markdown",
   "metadata": {},
   "source": [
    "# Deletes all the qualifications"
   ]
  },
  {
   "cell_type": "code",
   "execution_count": 54,
   "metadata": {},
   "outputs": [
    {
     "name": "stdout",
     "output_type": "stream",
     "text": [
      "{'NumResults': 1, 'NextToken': 'p1:zTFheoAOrFVb1FT7aALwJ5oijS5q7CvOq8GnStSdIGvoS5r9u5Wl+rEw2jZkbQ==', 'QualificationTypes': [{'QualificationTypeId': '3BR5SIVR7VUQOEDI0JFGCDU88RBEGQ', 'CreationTime': datetime.datetime(2021, 3, 14, 13, 55, 22, tzinfo=tzlocal()), 'Name': 'Participated in the experiment SimpleExaCT_PoC', 'Description': 'Qualification used to keep track of participation', 'Keywords': 'participation', 'QualificationTypeStatus': 'Active', 'RetryDelayInSeconds': 600, 'IsRequestable': True, 'AutoGranted': True, 'AutoGrantedValue': 1}], 'ResponseMetadata': {'RequestId': '6667a72f-658a-49ae-b0a7-218c814c1a7e', 'HTTPStatusCode': 200, 'HTTPHeaders': {'x-amzn-requestid': '6667a72f-658a-49ae-b0a7-218c814c1a7e', 'content-type': 'application/x-amz-json-1.1', 'content-length': '478', 'date': 'Thu, 18 Mar 2021 16:24:20 GMT'}, 'RetryAttempts': 0}}\n",
      "3BR5SIVR7VUQOEDI0JFGCDU88RBEGQ\n",
      "Participated in the experiment SimpleExaCT_PoC\n",
      "{   'AutoGranted': True,\n",
      "    'AutoGrantedValue': 1,\n",
      "    'CreationTime': datetime.datetime(2021, 3, 14, 13, 55, 22, tzinfo=tzlocal()),\n",
      "    'Description': 'Qualification used to keep track of participation',\n",
      "    'IsRequestable': True,\n",
      "    'Keywords': 'participation',\n",
      "    'Name': 'Participated in the experiment SimpleExaCT_PoC',\n",
      "    'QualificationTypeId': '3BR5SIVR7VUQOEDI0JFGCDU88RBEGQ',\n",
      "    'QualificationTypeStatus': 'Active',\n",
      "    'RetryDelayInSeconds': 600}\n",
      "{\n",
      "  \"ResponseMetadata\": {\n",
      "    \"RequestId\": \"7d63dfc1-1b95-47f3-9eae-a4e4fabc3f0b\",\n",
      "    \"HTTPStatusCode\": 200,\n",
      "    \"HTTPHeaders\": {\n",
      "      \"x-amzn-requestid\": \"7d63dfc1-1b95-47f3-9eae-a4e4fabc3f0b\",\n",
      "      \"content-type\": \"application/x-amz-json-1.1\",\n",
      "      \"content-length\": \"2\",\n",
      "      \"date\": \"Thu, 18 Mar 2021 16:24:20 GMT\"\n",
      "    },\n",
      "    \"RetryAttempts\": 0\n",
      "  }\n",
      "}\n"
     ]
    }
   ],
   "source": [
    "response = mturk.list_qualification_types(\n",
    "    Query='participation',\n",
    "    MustBeRequestable=False,\n",
    "    MustBeOwnedByCaller=True,\n",
    "    MaxResults=10\n",
    ")\n",
    "try:\n",
    "    print (json.dumps(response, indent=2))\n",
    "except:\n",
    "    print(response)\n",
    "qualification_list=response['QualificationTypes']\n",
    "for qualification in qualification_list:\n",
    "    qual_id=qualification['QualificationTypeId']\n",
    "    print(qual_id)\n",
    "    print(qualification['Name'])\n",
    "    pp.pprint(qualification)\n",
    "    response = mturk.delete_qualification_type(\n",
    "        QualificationTypeId=qual_id\n",
    "    )\n",
    "    try:\n",
    "        print (json.dumps(response, indent=2))\n",
    "    except:\n",
    "        print(response)"
   ]
  },
  {
   "cell_type": "code",
   "execution_count": null,
   "metadata": {},
   "outputs": [],
   "source": []
  },
  {
   "cell_type": "code",
   "execution_count": null,
   "metadata": {},
   "outputs": [],
   "source": []
  }
 ],
 "metadata": {
  "kernelspec": {
   "display_name": "Python 3",
   "language": "python",
   "name": "python3"
  },
  "language_info": {
   "codemirror_mode": {
    "name": "ipython",
    "version": 3
   },
   "file_extension": ".py",
   "mimetype": "text/x-python",
   "name": "python",
   "nbconvert_exporter": "python",
   "pygments_lexer": "ipython3",
   "version": "3.8.8"
  }
 },
 "nbformat": 4,
 "nbformat_minor": 4
}
