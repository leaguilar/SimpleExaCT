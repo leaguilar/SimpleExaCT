{
 "cells": [
  {
   "cell_type": "code",
   "execution_count": 1,
   "metadata": {},
   "outputs": [],
   "source": [
    "import hashlib\n",
    "import pandas as pd\n",
    "import os"
   ]
  },
  {
   "cell_type": "code",
   "execution_count": 2,
   "metadata": {},
   "outputs": [],
   "source": [
    "#challenge=\"How is science?\"\n",
    "challenge=\"How is science??\"\n",
    "reply=\"Science is cool!!\""
   ]
  },
  {
   "cell_type": "code",
   "execution_count": 3,
   "metadata": {},
   "outputs": [
    {
     "ename": "KeyError",
     "evalue": "'DATA_COLLECTION_LOCATION'",
     "output_type": "error",
     "traceback": [
      "\u001b[0;31m---------------------------------------------------------------------------\u001b[0m",
      "\u001b[0;31mKeyError\u001b[0m                                  Traceback (most recent call last)",
      "\u001b[0;32m<ipython-input-3-ee9489223175>\u001b[0m in \u001b[0;36m<module>\u001b[0;34m\u001b[0m\n\u001b[0;32m----> 1\u001b[0;31m \u001b[0mDATA_COLLECTION_LOCATION\u001b[0m\u001b[0;34m=\u001b[0m\u001b[0mos\u001b[0m\u001b[0;34m.\u001b[0m\u001b[0menviron\u001b[0m\u001b[0;34m[\u001b[0m\u001b[0;34m'DATA_COLLECTION_LOCATION'\u001b[0m\u001b[0;34m]\u001b[0m\u001b[0;34m\u001b[0m\u001b[0;34m\u001b[0m\u001b[0m\n\u001b[0m",
      "\u001b[0;32m/usr/lib/python3.8/os.py\u001b[0m in \u001b[0;36m__getitem__\u001b[0;34m(self, key)\u001b[0m\n\u001b[1;32m    673\u001b[0m         \u001b[0;32mexcept\u001b[0m \u001b[0mKeyError\u001b[0m\u001b[0;34m:\u001b[0m\u001b[0;34m\u001b[0m\u001b[0;34m\u001b[0m\u001b[0m\n\u001b[1;32m    674\u001b[0m             \u001b[0;31m# raise KeyError with the original key value\u001b[0m\u001b[0;34m\u001b[0m\u001b[0;34m\u001b[0m\u001b[0;34m\u001b[0m\u001b[0m\n\u001b[0;32m--> 675\u001b[0;31m             \u001b[0;32mraise\u001b[0m \u001b[0mKeyError\u001b[0m\u001b[0;34m(\u001b[0m\u001b[0mkey\u001b[0m\u001b[0;34m)\u001b[0m \u001b[0;32mfrom\u001b[0m \u001b[0;32mNone\u001b[0m\u001b[0;34m\u001b[0m\u001b[0;34m\u001b[0m\u001b[0m\n\u001b[0m\u001b[1;32m    676\u001b[0m         \u001b[0;32mreturn\u001b[0m \u001b[0mself\u001b[0m\u001b[0;34m.\u001b[0m\u001b[0mdecodevalue\u001b[0m\u001b[0;34m(\u001b[0m\u001b[0mvalue\u001b[0m\u001b[0;34m)\u001b[0m\u001b[0;34m\u001b[0m\u001b[0;34m\u001b[0m\u001b[0m\n\u001b[1;32m    677\u001b[0m \u001b[0;34m\u001b[0m\u001b[0m\n",
      "\u001b[0;31mKeyError\u001b[0m: 'DATA_COLLECTION_LOCATION'"
     ]
    }
   ],
   "source": [
    "DATA_COLLECTION_LOCATION=os.environ['DATA_COLLECTION_LOCATION']"
   ]
  },
  {
   "cell_type": "code",
   "execution_count": 4,
   "metadata": {},
   "outputs": [
    {
     "ename": "NameError",
     "evalue": "name 'DATA_COLLECTION_LOCATION' is not defined",
     "output_type": "error",
     "traceback": [
      "\u001b[0;31m---------------------------------------------------------------------------\u001b[0m",
      "\u001b[0;31mNameError\u001b[0m                                 Traceback (most recent call last)",
      "\u001b[0;32m<ipython-input-4-8eb8b100e748>\u001b[0m in \u001b[0;36m<module>\u001b[0;34m\u001b[0m\n\u001b[0;32m----> 1\u001b[0;31m \u001b[0mURL\u001b[0m\u001b[0;34m=\u001b[0m\u001b[0;34mf\"{DATA_COLLECTION_LOCATION}/index.html?\"\u001b[0m\u001b[0;34m\u001b[0m\u001b[0;34m\u001b[0m\u001b[0m\n\u001b[0m",
      "\u001b[0;31mNameError\u001b[0m: name 'DATA_COLLECTION_LOCATION' is not defined"
     ]
    }
   ],
   "source": [
    "URL=f\"{DATA_COLLECTION_LOCATION}/index.html?\""
   ]
  },
  {
   "cell_type": "code",
   "execution_count": 5,
   "metadata": {},
   "outputs": [
    {
     "ename": "NameError",
     "evalue": "name 'URL' is not defined",
     "output_type": "error",
     "traceback": [
      "\u001b[0;31m---------------------------------------------------------------------------\u001b[0m",
      "\u001b[0;31mNameError\u001b[0m                                 Traceback (most recent call last)",
      "\u001b[0;32m<ipython-input-5-3ccb83c5f1d2>\u001b[0m in \u001b[0;36m<module>\u001b[0;34m\u001b[0m\n\u001b[0;32m----> 1\u001b[0;31m \u001b[0mprint\u001b[0m\u001b[0;34m(\u001b[0m\u001b[0;34mf\"{URL}\"\u001b[0m\u001b[0;34m)\u001b[0m\u001b[0;34m\u001b[0m\u001b[0;34m\u001b[0m\u001b[0m\n\u001b[0m",
      "\u001b[0;31mNameError\u001b[0m: name 'URL' is not defined"
     ]
    }
   ],
   "source": [
    "print(f\"{URL}\")"
   ]
  },
  {
   "cell_type": "code",
   "execution_count": 6,
   "metadata": {},
   "outputs": [],
   "source": [
    "def GenerateChallengeAndRedeemCode(expName,chID,groupID,saltChallenge,saltRedem):\n",
    "    \n",
    "    textChallenge=str(expName)+str(chID)+str(groupID)+str(saltChallenge)\n",
    "    challenge = hashlib.md5(textChallenge.encode(encoding='UTF-8',errors='strict'))\n",
    "    challenge = challenge.hexdigest()\n",
    "    expID=challenge\n",
    "        \n",
    "    textRedeem=str(expID)+str(groupID)+str(saltRedem)\n",
    "    \n",
    "    redeem = hashlib.md5(textRedeem.encode(encoding='UTF-8',errors='strict'))\n",
    "    redeem = redeem.hexdigest()\n",
    "    #redeemCode=redeem[0:4]+\"-\"+redeem[4:8]\n",
    "    redeemCode=redeem[0:8]\n",
    "    \n",
    "    #print(\"URL: \"+URL+\"ExpID=\"+str(expID)+\"&group=\"+str(groupID))\n",
    "    #print(\"ACCESS CODE: [ExpID=\"+str(expID)+\"&group=\"+str(groupID)+\"]  \\nExit Code: \"+redeemCode+\"\\n\")\n",
    "    \n",
    "    return \"[ExpID=\"+str(expID)+\"&group=\"+str(groupID)+\"]\",redeemCode,expID"
   ]
  },
  {
   "cell_type": "code",
   "execution_count": 7,
   "metadata": {},
   "outputs": [],
   "source": [
    "#print(result.hexdigest()[0:4]+\"-\"+result.hexdigest()[4:8]) "
   ]
  },
  {
   "cell_type": "code",
   "execution_count": 8,
   "metadata": {},
   "outputs": [],
   "source": [
    "#GenerateChallengeAndRedeemCode(\"\",0,\"Experiment\",reply)"
   ]
  },
  {
   "cell_type": "code",
   "execution_count": 9,
   "metadata": {},
   "outputs": [],
   "source": [
    "groups=[1,2,3]\n",
    "names=['Base','Atria','Glass']\n",
    "experiments=[['NewExperiment1',5*4,\"E1\"]] "
   ]
  },
  {
   "cell_type": "code",
   "execution_count": 10,
   "metadata": {},
   "outputs": [
    {
     "name": "stdout",
     "output_type": "stream",
     "text": [
      "NewExperiment1\n"
     ]
    }
   ],
   "source": [
    "colNames=['Phase','Condition','accessCode' , 'exitCode', 'Reward',\"ExpID\",'Bonus']\n",
    "df = pd.DataFrame(columns = colNames)\n",
    "for exp in experiments:\n",
    "    print(exp[0])\n",
    "    df2 = pd.DataFrame(columns = colNames)\n",
    "    for g,name in zip(groups,names):\n",
    "        #print(\"TYPE (condition {}): {}\".format(g,name),\"\\n\") #,end=' ')\n",
    "        for expNumber in range(exp[1]):\n",
    "            #print(\"#{}\".format(expNumber+1),end=' ')\n",
    "            ch,exitCode,expID = GenerateChallengeAndRedeemCode(exp[0],expNumber,g,challenge,reply)\n",
    "            df=df.append({\"Phase\":exp[2],\"Condition\":g,\"accessCode\":ch,\"exitCode\":exitCode,\"Reward\":\"undefined\",\"ExpID\":expID},ignore_index=True)\n",
    "            df2=df2.append({\"Phase\":exp[2],\"Condition\":g,\"accessCode\":ch,\"exitCode\":exitCode,\"Reward\":\"undefined\",\"ExpID\":expID},ignore_index=True)\n",
    "            df2.to_csv(exp[0]+\".csv\")"
   ]
  },
  {
   "cell_type": "code",
   "execution_count": 12,
   "metadata": {},
   "outputs": [],
   "source": [
    "df.to_csv(\"../../../experiment/data/AllCodesNew.csv\")"
   ]
  },
  {
   "cell_type": "code",
   "execution_count": null,
   "metadata": {},
   "outputs": [],
   "source": []
  }
 ],
 "metadata": {
  "kernelspec": {
   "display_name": "Experiment",
   "language": "python",
   "name": "experiment"
  },
  "language_info": {
   "codemirror_mode": {
    "name": "ipython",
    "version": 3
   },
   "file_extension": ".py",
   "mimetype": "text/x-python",
   "name": "python",
   "nbconvert_exporter": "python",
   "pygments_lexer": "ipython3",
   "version": "3.8.5"
  }
 },
 "nbformat": 4,
 "nbformat_minor": 4
}
